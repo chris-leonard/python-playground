{
 "cells": [
  {
   "cell_type": "markdown",
   "id": "73c796b4",
   "metadata": {},
   "source": [
    "# SQLAlchemy Practice\n",
    "\n",
    "## Set-Up\n",
    "\n",
    "Begin by importing packages."
   ]
  },
  {
   "cell_type": "code",
   "execution_count": 26,
   "id": "fcbcf86f",
   "metadata": {},
   "outputs": [],
   "source": [
    "# SQLAlchemy\n",
    "from sqlalchemy import create_engine\n",
    "from sqlalchemy import MetaData\n",
    "from sqlalchemy import Table, Column\n",
    "from sqlalchemy import Integer, String # datatypes\n",
    "from sqlalchemy import ForeignKey\n",
    "\n",
    "from sqlalchemy import and_, or_, asc, desc, between # conjunctions\n",
    "from sqlalchemy import text # for textual statements\n",
    "\n",
    "from sqlalchemy.sql import select \n",
    "from sqlalchemy.sql import alias # represents 'as' in sql\n",
    "from sqlalchemy.sql import func # standard sql functions\n",
    "\n",
    "from sqlalchemy.ext.declarative import declarative_base\n",
    "\n",
    "from sqlalchemy.orm import sessionmaker\n",
    "\n",
    "# Misc\n",
    "import os"
   ]
  },
  {
   "cell_type": "markdown",
   "id": "28a89d8d",
   "metadata": {},
   "source": [
    "In the course of the notebook some files are created. We delete them if they already exist for a clean slate."
   ]
  },
  {
   "cell_type": "code",
   "execution_count": 2,
   "id": "d909c717",
   "metadata": {},
   "outputs": [],
   "source": [
    "def remove_file(path):\n",
    "    if os.path.isfile(path):\n",
    "        os.remove(path)\n",
    "\n",
    "        \n",
    "COLLEGE_DB_PATH = 'college.db'\n",
    "SALES_DB_PATH = 'sales.db'\n",
    "\n",
    "remove_file(COLLEGE_DB_PATH)\n",
    "remove_file(SALES_DB_PATH)"
   ]
  },
  {
   "cell_type": "markdown",
   "id": "cb3a82e1",
   "metadata": {},
   "source": [
    "**SQLAlchemy** is a Python toolkit for dealing with databases. It has two ways of interacting with them.\n",
    "\n",
    "**SQLAlchemy Core:** Uses SQL Expression Language that provides schema-centric usage paradigm\n",
    "- **SQL Expression Language** allows you represent structures in a relational database using Python\n",
    "- You can specify SQL statements in Python and use it directly\n",
    "- This is the closest part to raw SQL in SQLAlchemy\n",
    "\n",
    "**SQLAlchemy ORM:** Allows classes to be mapped to tables in the database to provide domain-centric usage."
   ]
  },
  {
   "cell_type": "markdown",
   "id": "f3b44055",
   "metadata": {},
   "source": [
    "## Resources\n",
    "\n",
    "Quick Guide: https://www.tutorialspoint.com/sqlalchemy/sqlalchemy_quick_guide.htm"
   ]
  },
  {
   "cell_type": "markdown",
   "id": "fe78965f",
   "metadata": {},
   "source": [
    "## SQLAlchemy Core\n",
    "\n",
    "### Connecting to Database\n",
    "\n",
    "**Engine:** Class that provides a source of database connectivity and behaviour.\n",
    "\n",
    "**MetaData:** A collection of *Table* objects and associated schema constructs\n",
    "- Has an optional binding to an engine"
   ]
  },
  {
   "cell_type": "code",
   "execution_count": 3,
   "id": "8ea4a96a",
   "metadata": {},
   "outputs": [
    {
     "name": "stdout",
     "output_type": "stream",
     "text": [
      "2021-06-09 17:28:14,796 INFO sqlalchemy.engine.Engine BEGIN (implicit)\n",
      "2021-06-09 17:28:14,797 INFO sqlalchemy.engine.Engine PRAGMA main.table_info(\"students\")\n",
      "2021-06-09 17:28:14,798 INFO sqlalchemy.engine.Engine [raw sql] ()\n",
      "2021-06-09 17:28:14,799 INFO sqlalchemy.engine.Engine PRAGMA temp.table_info(\"students\")\n",
      "2021-06-09 17:28:14,802 INFO sqlalchemy.engine.Engine [raw sql] ()\n",
      "2021-06-09 17:28:14,805 INFO sqlalchemy.engine.Engine \n",
      "CREATE TABLE students (\n",
      "\tid INTEGER NOT NULL, \n",
      "\tname VARCHAR, \n",
      "\tlastname VARCHAR, \n",
      "\tPRIMARY KEY (id)\n",
      ")\n",
      "\n",
      "\n",
      "2021-06-09 17:28:14,806 INFO sqlalchemy.engine.Engine [no key 0.00130s] ()\n",
      "2021-06-09 17:28:14,809 INFO sqlalchemy.engine.Engine COMMIT\n"
     ]
    }
   ],
   "source": [
    "# Define local sqlite database to be hosted in repo\n",
    "engine = create_engine(\n",
    "    os.path.join('sqlite:///', COLLEGE_DB_PATH), # Different syntax for different database types\n",
    "    echo = True # sets up SQLAlchemy logging - print SQL used\n",
    ")\n",
    "meta = MetaData()\n",
    "\n",
    "# Define table\n",
    "students = Table(\n",
    "   'students', meta, \n",
    "   Column('id', Integer, primary_key = True), \n",
    "   Column('name', String), \n",
    "   Column('lastname', String), \n",
    ")\n",
    "\n",
    "# Use engine object to create table and other objects and store info in metadata\n",
    "# This creates the local database\n",
    "meta.create_all(engine)"
   ]
  },
  {
   "cell_type": "markdown",
   "id": "7d38e52d",
   "metadata": {},
   "source": [
    "**SQL expressions:** Constructed by using methods on tables\n",
    "- Print corresponding SQL code using `str(<exp>)` (doesn't hold specific values)\n",
    "- Specific values are stored in bind parameter which is visible in compiled form\n",
    "\n",
    "**Connection:** Represents an active *DBAPI* (Python Database API) connection\n",
    "- Run expressions by passing to `execute(<exp>)` method on connection\n",
    "- This also returns `ResultProxy` object that holds information"
   ]
  },
  {
   "cell_type": "code",
   "execution_count": 4,
   "id": "4145fad5",
   "metadata": {},
   "outputs": [
    {
     "name": "stdout",
     "output_type": "stream",
     "text": [
      "INSERT INTO students (name, lastname) VALUES (:name, :lastname)\n",
      "{'name': 'Ravi', 'lastname': 'Kapoor'}\n"
     ]
    }
   ],
   "source": [
    "# Insert expression\n",
    "ins = students.insert().values(name = 'Ravi', lastname = 'Kapoor')\n",
    "\n",
    "# Equivalent SQL insert statement (without specific values)\n",
    "print(str(ins))\n",
    "\n",
    "# Specific values are stored in bind parameter which is visible in compiled form\n",
    "print(ins.compile().params)"
   ]
  },
  {
   "cell_type": "code",
   "execution_count": 5,
   "id": "57380b39",
   "metadata": {},
   "outputs": [
    {
     "name": "stdout",
     "output_type": "stream",
     "text": [
      "2021-06-09 17:28:14,832 INFO sqlalchemy.engine.Engine INSERT INTO students (name, lastname) VALUES (?, ?)\n",
      "2021-06-09 17:28:14,836 INFO sqlalchemy.engine.Engine [generated in 0.00438s] ('Ravi', 'Kapoor')\n",
      "2021-06-09 17:28:14,838 INFO sqlalchemy.engine.Engine COMMIT\n",
      "{'name': 'Ravi', 'lastname': 'Kapoor'}\n"
     ]
    }
   ],
   "source": [
    "# Create connection to database\n",
    "conn = engine.connect()\n",
    "result = conn.execute(ins)\n",
    "\n",
    "# Check last set of params inserted\n",
    "print(result.last_inserted_params())"
   ]
  },
  {
   "cell_type": "code",
   "execution_count": 6,
   "id": "72de3f38",
   "metadata": {},
   "outputs": [
    {
     "name": "stdout",
     "output_type": "stream",
     "text": [
      "2021-06-09 17:28:14,847 INFO sqlalchemy.engine.Engine INSERT INTO students (name, lastname) VALUES (?, ?)\n",
      "2021-06-09 17:28:14,850 INFO sqlalchemy.engine.Engine [generated in 0.00301s] (('Rajiv', 'Khanna'), ('Komal', 'Bhandari'), ('Abdul', 'Sattar'), ('Priya', 'Rajhans'))\n",
      "2021-06-09 17:28:14,855 INFO sqlalchemy.engine.Engine COMMIT\n"
     ]
    }
   ],
   "source": [
    "# Can insert many rows at once by passing list of dictionaries\n",
    "conn.execute(students.insert(), [\n",
    "   {'name':'Rajiv', 'lastname' : 'Khanna'},\n",
    "   {'name':'Komal','lastname' : 'Bhandari'},\n",
    "   {'name':'Abdul','lastname' : 'Sattar'},\n",
    "   {'name':'Priya','lastname' : 'Rajhans'},\n",
    "]);"
   ]
  },
  {
   "cell_type": "markdown",
   "id": "cc8ea5d1",
   "metadata": {},
   "source": [
    "### Basic Select Statements\n",
    "\n",
    "**Select:** Either a method on table or function with table as argument\n",
    "- Limit columns by passing specific columns as argument of `select()` function\n",
    "- Columns referenced using `<table>.c.<column>` (`c` is an alias for 'column')\n",
    "- Rename columns using `.label()` method on columns in `select`\n",
    "\n",
    "**ResultProxy:** Object returned by executing select\n",
    "- Is iterable with items corresponding to rows\n",
    "- Has other methods for accessing results: `fetchone()`, `fetchall()`,..."
   ]
  },
  {
   "cell_type": "code",
   "execution_count": 7,
   "id": "229b2798",
   "metadata": {},
   "outputs": [
    {
     "name": "stdout",
     "output_type": "stream",
     "text": [
      "Equivalent SQL\n",
      "--------------\n",
      "SELECT students.id, students.name, students.lastname \n",
      "FROM students \n",
      "\n",
      "2021-06-09 17:28:14,889 INFO sqlalchemy.engine.Engine SELECT students.id, students.name, students.lastname \n",
      "FROM students\n",
      "2021-06-09 17:28:14,892 INFO sqlalchemy.engine.Engine [generated in 0.00389s] ()\n",
      "\n",
      "(1, 'Ravi', 'Kapoor')\n",
      "(2, 'Rajiv', 'Khanna')\n",
      "(3, 'Komal', 'Bhandari')\n",
      "(4, 'Abdul', 'Sattar')\n",
      "(5, 'Priya', 'Rajhans')\n"
     ]
    }
   ],
   "source": [
    "# Select all\n",
    "s = students.select()\n",
    "print('Equivalent SQL')\n",
    "print('--------------')\n",
    "print(str(s), '\\n')\n",
    "\n",
    "# Run expression\n",
    "result = conn.execute(s)\n",
    "print('')\n",
    "\n",
    "for row in result:\n",
    "    print(row)"
   ]
  },
  {
   "cell_type": "code",
   "execution_count": 8,
   "id": "ba52401c",
   "metadata": {},
   "outputs": [
    {
     "name": "stdout",
     "output_type": "stream",
     "text": [
      "Equivalent SQL\n",
      "--------------\n",
      "SELECT students.id, students.name, students.lastname \n",
      "FROM students \n",
      "\n",
      "2021-06-09 17:28:14,922 INFO sqlalchemy.engine.Engine SELECT students.id, students.name, students.lastname \n",
      "FROM students\n",
      "2021-06-09 17:28:14,923 INFO sqlalchemy.engine.Engine [cached since 0.03504s ago] ()\n"
     ]
    },
    {
     "data": {
      "text/plain": [
       "[(1, 'Ravi', 'Kapoor'),\n",
       " (2, 'Rajiv', 'Khanna'),\n",
       " (3, 'Komal', 'Bhandari'),\n",
       " (4, 'Abdul', 'Sattar'),\n",
       " (5, 'Priya', 'Rajhans')]"
      ]
     },
     "execution_count": 8,
     "metadata": {},
     "output_type": "execute_result"
    }
   ],
   "source": [
    "# Alternative syntax\n",
    "s = select(students)\n",
    "print('Equivalent SQL')\n",
    "print('--------------')\n",
    "print(str(s), '\\n')\n",
    "\n",
    "# Run expression\n",
    "result = conn.execute(s)\n",
    "result.fetchall()"
   ]
  },
  {
   "cell_type": "code",
   "execution_count": 9,
   "id": "298f266c",
   "metadata": {},
   "outputs": [
    {
     "name": "stdout",
     "output_type": "stream",
     "text": [
      "Equivalent SQL\n",
      "--------------\n",
      "SELECT students.name, students.lastname AS surname \n",
      "FROM students \n",
      "\n",
      "2021-06-09 17:28:14,957 INFO sqlalchemy.engine.Engine SELECT students.name, students.lastname AS surname \n",
      "FROM students\n",
      "2021-06-09 17:28:14,961 INFO sqlalchemy.engine.Engine [generated in 0.00396s] ()\n"
     ]
    },
    {
     "data": {
      "text/plain": [
       "[('Ravi', 'Kapoor'),\n",
       " ('Rajiv', 'Khanna'),\n",
       " ('Komal', 'Bhandari'),\n",
       " ('Abdul', 'Sattar'),\n",
       " ('Priya', 'Rajhans')]"
      ]
     },
     "execution_count": 9,
     "metadata": {},
     "output_type": "execute_result"
    }
   ],
   "source": [
    "# Specific columns\n",
    "s = select(\n",
    "    students.c.name, \n",
    "    students.c.lastname.label('surname')\n",
    ")\n",
    "print('Equivalent SQL')\n",
    "print('--------------')\n",
    "print(str(s), '\\n')\n",
    "\n",
    "# Run expression\n",
    "result = conn.execute(s)\n",
    "result.fetchall()"
   ]
  },
  {
   "cell_type": "markdown",
   "id": "fd37a58a",
   "metadata": {},
   "source": [
    "### Where Clauses\n",
    "\n",
    "**Where:** Use `.where()` method on `select` and pass column conditions\n",
    "- Use `where(_and(<cond1>, <cond2>))` for multiple conditions\n",
    "- Use `where(between(<col>, <val1>, <val2>)` for between"
   ]
  },
  {
   "cell_type": "code",
   "execution_count": 10,
   "id": "54d83a88",
   "metadata": {
    "scrolled": true
   },
   "outputs": [
    {
     "name": "stdout",
     "output_type": "stream",
     "text": [
      "Equivalent SQL\n",
      "--------------\n",
      "SELECT students.id, students.name, students.lastname \n",
      "FROM students \n",
      "WHERE students.id <= :id_1 \n",
      "\n",
      "Params:  {'id_1': 3} \n",
      "\n",
      "2021-06-09 17:28:14,992 INFO sqlalchemy.engine.Engine SELECT students.id, students.name, students.lastname \n",
      "FROM students \n",
      "WHERE students.id <= ?\n",
      "2021-06-09 17:28:14,995 INFO sqlalchemy.engine.Engine [generated in 0.00333s] (3,)\n",
      "\n",
      "(1, 'Ravi', 'Kapoor')\n",
      "(2, 'Rajiv', 'Khanna')\n",
      "(3, 'Komal', 'Bhandari')\n"
     ]
    }
   ],
   "source": [
    "# Select first 3 rows\n",
    "s = students.select().where(students.c.id <= 3)\n",
    "print('Equivalent SQL')\n",
    "print('--------------')\n",
    "print(str(s), '\\n')\n",
    "\n",
    "print('Params: ', s.compile().params, '\\n')\n",
    "\n",
    "result = conn.execute(s)\n",
    "print('')\n",
    "for row in result:\n",
    "    print(row)"
   ]
  },
  {
   "cell_type": "code",
   "execution_count": 11,
   "id": "4930f7f5",
   "metadata": {},
   "outputs": [
    {
     "name": "stdout",
     "output_type": "stream",
     "text": [
      "Equivalent SQL\n",
      "--------------\n",
      "SELECT students.id, students.name, students.lastname \n",
      "FROM students \n",
      "WHERE students.id <= :id_1 AND students.name = :name_1 \n",
      "\n",
      "Params:  {'id_1': 3, 'name_1': 'Ravi'} \n",
      "\n",
      "2021-06-09 17:28:15,028 INFO sqlalchemy.engine.Engine SELECT students.id, students.name, students.lastname \n",
      "FROM students \n",
      "WHERE students.id <= ? AND students.name = ?\n",
      "2021-06-09 17:28:15,029 INFO sqlalchemy.engine.Engine [generated in 0.00173s] (3, 'Ravi')\n",
      "\n",
      "(1, 'Ravi', 'Kapoor')\n"
     ]
    }
   ],
   "source": [
    "# Select Ravi in first 3 rows\n",
    "s = students.select().where(\n",
    "    and_(\n",
    "        students.c.id <= 3,\n",
    "        students.c.name == 'Ravi'\n",
    "    )\n",
    ")\n",
    "print('Equivalent SQL')\n",
    "print('--------------')\n",
    "print(str(s), '\\n')\n",
    "\n",
    "print('Params: ', s.compile().params, '\\n')\n",
    "\n",
    "result = conn.execute(s)\n",
    "print('')\n",
    "for row in result:\n",
    "    print(row)"
   ]
  },
  {
   "cell_type": "code",
   "execution_count": 12,
   "id": "f83fc87c",
   "metadata": {},
   "outputs": [
    {
     "name": "stdout",
     "output_type": "stream",
     "text": [
      "Equivalent SQL\n",
      "--------------\n",
      "SELECT students.id, students.name, students.lastname \n",
      "FROM students \n",
      "WHERE students.id BETWEEN :id_1 AND :id_2 \n",
      "\n",
      "Params:  {'id_1': 2, 'id_2': 3} \n",
      "\n",
      "2021-06-09 17:28:15,065 INFO sqlalchemy.engine.Engine SELECT students.id, students.name, students.lastname \n",
      "FROM students \n",
      "WHERE students.id BETWEEN ? AND ?\n",
      "2021-06-09 17:28:15,069 INFO sqlalchemy.engine.Engine [generated in 0.00414s] (2, 3)\n",
      "\n",
      "(2, 'Rajiv', 'Khanna')\n",
      "(3, 'Komal', 'Bhandari')\n"
     ]
    }
   ],
   "source": [
    "# Select students with 2nd and 3rd ids\n",
    "s = students.select().where(\n",
    "    between(\n",
    "        students.c.id,\n",
    "        2,\n",
    "        3\n",
    "    )\n",
    ")\n",
    "\n",
    "print('Equivalent SQL')\n",
    "print('--------------')\n",
    "print(str(s), '\\n')\n",
    "\n",
    "print('Params: ', s.compile().params, '\\n')\n",
    "\n",
    "result = conn.execute(s)\n",
    "print('')\n",
    "for row in result:\n",
    "    print(row)"
   ]
  },
  {
   "cell_type": "markdown",
   "id": "0b9d2382",
   "metadata": {},
   "source": [
    "### Textual SQL\n",
    "\n",
    "**TextClause:** Represents an SQL statement directly\n",
    "- Constructed by passing SQL query into `text(<string>)`\n",
    "- Parameters are denoted by colons and passed as kwargs into `execute()`\n",
    "- Good when SQL is known and static"
   ]
  },
  {
   "cell_type": "code",
   "execution_count": 13,
   "id": "834eb445",
   "metadata": {},
   "outputs": [
    {
     "name": "stdout",
     "output_type": "stream",
     "text": [
      "2021-06-09 17:28:15,094 INFO sqlalchemy.engine.Engine SELECT * FROM students WHERE students.id <= ? AND students.name = ?\n",
      "2021-06-09 17:28:15,095 INFO sqlalchemy.engine.Engine [generated in 0.00177s] (3, 'Ravi')\n",
      "\n",
      "(1, 'Ravi', 'Kapoor')\n"
     ]
    }
   ],
   "source": [
    "s = text('SELECT * FROM students WHERE students.id <= :x AND students.name = :y')\n",
    "result = conn.execute(s, x=3, y='Ravi')\n",
    "print('')\n",
    "\n",
    "for row in result:\n",
    "    print(row)"
   ]
  },
  {
   "cell_type": "markdown",
   "id": "1af10c3f",
   "metadata": {},
   "source": [
    "### Some Common Operations\n",
    "\n",
    "**Alias:** Represents 'AS' in SQL statements\n",
    "- There is a difference between the name of the variable representing alias table and the alias\n",
    "\n",
    "**Order By:** Use `order_by(asc(<col>))` or `order_by(desc(<col>))` methods on select\n",
    "\n",
    "**Functions:** Standard SQL functions are accessed through `func`\n",
    "- Ex: `func.now()`, `func.count()`, `func.max()`"
   ]
  },
  {
   "cell_type": "code",
   "execution_count": 14,
   "id": "34eb2e6c",
   "metadata": {},
   "outputs": [
    {
     "name": "stdout",
     "output_type": "stream",
     "text": [
      "Original table name:  students\n",
      "Alias table name:  a\n",
      "\n",
      "2021-06-09 17:28:15,114 INFO sqlalchemy.engine.Engine SELECT a.id, a.name, a.lastname \n",
      "FROM students AS a \n",
      "WHERE a.id = ?\n",
      "2021-06-09 17:28:15,117 INFO sqlalchemy.engine.Engine [generated in 0.00298s] (1,)\n"
     ]
    },
    {
     "data": {
      "text/plain": [
       "[(1, 'Ravi', 'Kapoor')]"
      ]
     },
     "execution_count": 14,
     "metadata": {},
     "output_type": "execute_result"
    }
   ],
   "source": [
    "# Variable st represents students table aliased as 'a'\n",
    "st = students.alias('a')\n",
    "print('Original table name: ', students.name)\n",
    "print('Alias table name: ', st.name)\n",
    "print('')\n",
    "\n",
    "# Run select all against aliased table\n",
    "s = st.select().where(st.c.id == 1)\n",
    "result = conn.execute(s)\n",
    "result.fetchall()"
   ]
  },
  {
   "cell_type": "code",
   "execution_count": 15,
   "id": "475e2920",
   "metadata": {},
   "outputs": [
    {
     "name": "stdout",
     "output_type": "stream",
     "text": [
      "SELECT students.id, students.name, students.lastname \n",
      "FROM students ORDER BY students.name ASC\n"
     ]
    }
   ],
   "source": [
    "# Select students in alphabetical order\n",
    "s = select(students).order_by(\n",
    "    asc(students.c.name)\n",
    ")\n",
    "print(str(s))"
   ]
  },
  {
   "cell_type": "code",
   "execution_count": 16,
   "id": "80c94b3f",
   "metadata": {},
   "outputs": [
    {
     "name": "stdout",
     "output_type": "stream",
     "text": [
      "SELECT count(students.id) AS count_1 \n",
      "FROM students\n"
     ]
    }
   ],
   "source": [
    "# Count rows in table\n",
    "s = select(func.count(students.c.id))\n",
    "print(str(s))"
   ]
  },
  {
   "cell_type": "markdown",
   "id": "a99f7bcf",
   "metadata": {},
   "source": [
    "### Joins"
   ]
  },
  {
   "cell_type": "code",
   "execution_count": 17,
   "id": "9f381627",
   "metadata": {
    "scrolled": false
   },
   "outputs": [
    {
     "name": "stdout",
     "output_type": "stream",
     "text": [
      "2021-06-09 17:28:15,162 INFO sqlalchemy.engine.Engine BEGIN (implicit)\n",
      "2021-06-09 17:28:15,164 INFO sqlalchemy.engine.Engine PRAGMA main.table_info(\"students\")\n",
      "2021-06-09 17:28:15,165 INFO sqlalchemy.engine.Engine [raw sql] ()\n",
      "2021-06-09 17:28:15,169 INFO sqlalchemy.engine.Engine PRAGMA main.table_info(\"addresses\")\n",
      "2021-06-09 17:28:15,170 INFO sqlalchemy.engine.Engine [raw sql] ()\n",
      "2021-06-09 17:28:15,171 INFO sqlalchemy.engine.Engine PRAGMA temp.table_info(\"addresses\")\n",
      "2021-06-09 17:28:15,172 INFO sqlalchemy.engine.Engine [raw sql] ()\n",
      "2021-06-09 17:28:15,174 INFO sqlalchemy.engine.Engine \n",
      "CREATE TABLE addresses (\n",
      "\tid INTEGER NOT NULL, \n",
      "\tst_id INTEGER, \n",
      "\tpostal_add VARCHAR, \n",
      "\temail_add VARCHAR, \n",
      "\tPRIMARY KEY (id), \n",
      "\tFOREIGN KEY(st_id) REFERENCES students (id)\n",
      ")\n",
      "\n",
      "\n",
      "2021-06-09 17:28:15,175 INFO sqlalchemy.engine.Engine [no key 0.00120s] ()\n",
      "2021-06-09 17:28:15,177 INFO sqlalchemy.engine.Engine COMMIT\n",
      "2021-06-09 17:28:15,179 INFO sqlalchemy.engine.Engine INSERT INTO addresses (st_id, postal_add, email_add) VALUES (?, ?, ?)\n",
      "2021-06-09 17:28:15,180 INFO sqlalchemy.engine.Engine [generated in 0.00125s] ((1, 'Shivajinagar Pune', 'ravi@gmail.com'), (1, 'ChurchGate Mumbai', 'kapoor@gmail.com'), (3, 'Jubilee Hills Hyderabad', 'komal@gmail.com'), (5, 'MG Road Bangaluru', 'as@yahoo.com'), (2, 'Cannought Place new Delhi', 'admin@khanna.com'))\n",
      "2021-06-09 17:28:15,183 INFO sqlalchemy.engine.Engine COMMIT\n"
     ]
    }
   ],
   "source": [
    "# Define new table\n",
    "addresses = Table(\n",
    "   'addresses', meta, \n",
    "   Column('id', Integer, primary_key = True), \n",
    "   Column('st_id', Integer, ForeignKey('students.id')), # Foreign key to students table\n",
    "   Column('postal_add', String), \n",
    "   Column('email_add', String)\n",
    ")\n",
    "\n",
    "# Create the table\n",
    "meta.create_all(engine)\n",
    "\n",
    "# Populate new table\n",
    "conn.execute(addresses.insert(), [\n",
    "   {'st_id':1, 'postal_add':'Shivajinagar Pune', 'email_add':'ravi@gmail.com'},\n",
    "   {'st_id':1, 'postal_add':'ChurchGate Mumbai', 'email_add':'kapoor@gmail.com'},\n",
    "   {'st_id':3, 'postal_add':'Jubilee Hills Hyderabad', 'email_add':'komal@gmail.com'},\n",
    "   {'st_id':5, 'postal_add':'MG Road Bangaluru', 'email_add':'as@yahoo.com'},\n",
    "   {'st_id':2, 'postal_add':'Cannought Place new Delhi', 'email_add':'admin@khanna.com'},\n",
    "]);"
   ]
  },
  {
   "cell_type": "markdown",
   "id": "6eb966a3",
   "metadata": {},
   "source": [
    "The simplest way to select from multiple tables is to pass both as arguments of `select` and define join condition in `where` clause"
   ]
  },
  {
   "cell_type": "code",
   "execution_count": 18,
   "id": "e7fb399d",
   "metadata": {},
   "outputs": [
    {
     "name": "stdout",
     "output_type": "stream",
     "text": [
      "SELECT students.id, students.name, students.lastname, addresses.id AS id_1, addresses.st_id, addresses.postal_add, addresses.email_add \n",
      "FROM students, addresses \n",
      "WHERE students.id = addresses.st_id\n"
     ]
    }
   ],
   "source": [
    "# Select all from both joining on foreign key\n",
    "s = select(\n",
    "    students,\n",
    "    addresses\n",
    ").where(\n",
    "    students.c.id == addresses.c.st_id\n",
    ")\n",
    "print(str(s))"
   ]
  },
  {
   "cell_type": "markdown",
   "id": "73a600bc",
   "metadata": {},
   "source": [
    "**Join:** Method on tables\n",
    "- Use `select_from()` method on `select` to explicitly set left hand side of join\n",
    "- Can be multiple ways of phrasing\n",
    "- Just specifying table name in `select` is equivalent to all columns from that table"
   ]
  },
  {
   "cell_type": "code",
   "execution_count": 19,
   "id": "e099a0cf",
   "metadata": {},
   "outputs": [
    {
     "name": "stdout",
     "output_type": "stream",
     "text": [
      "students LEFT OUTER JOIN addresses ON students.id = addresses.st_id\n"
     ]
    }
   ],
   "source": [
    "# Join on its own\n",
    "j = students.join(\n",
    "    addresses,\n",
    "    students.c.id == addresses.c.st_id,\n",
    "    isouter = True # outer join - default is false\n",
    ")\n",
    "print(str(j))"
   ]
  },
  {
   "cell_type": "code",
   "execution_count": 20,
   "id": "54d31fd7",
   "metadata": {},
   "outputs": [
    {
     "name": "stdout",
     "output_type": "stream",
     "text": [
      "SELECT students.name, students.lastname, addresses.id, addresses.st_id, addresses.postal_add, addresses.email_add \n",
      "FROM students LEFT OUTER JOIN addresses ON students.id = addresses.st_id\n"
     ]
    }
   ],
   "source": [
    "# As part of select statement\n",
    "s = select(\n",
    "    students.c.name,\n",
    "    students.c.lastname,\n",
    "    addresses\n",
    ").select_from(\n",
    "    j # equivalent to block commented code below\n",
    "    # students.join(\n",
    "    #     addresses,\n",
    "    #     students.c.id == addresses.c.st_id,\n",
    "    #     isouter=True\n",
    "    # )\n",
    ")\n",
    "print(str(s))"
   ]
  },
  {
   "cell_type": "code",
   "execution_count": 21,
   "id": "afc0181c",
   "metadata": {},
   "outputs": [
    {
     "name": "stdout",
     "output_type": "stream",
     "text": [
      "SELECT students.name, students.lastname, addresses.id, addresses.st_id, addresses.postal_add, addresses.email_add \n",
      "FROM students LEFT OUTER JOIN addresses ON students.id = addresses.st_id\n"
     ]
    }
   ],
   "source": [
    "# An equivalent formulation\n",
    "s = select(\n",
    "    students.c.name,\n",
    "    students.c.lastname,\n",
    "    addresses\n",
    ").select_from(\n",
    "    students\n",
    ").join(\n",
    "    addresses,\n",
    "    students.c.id == addresses.c.st_id,\n",
    "    isouter=True\n",
    ")\n",
    "print(str(s))"
   ]
  },
  {
   "cell_type": "markdown",
   "id": "345a83b4",
   "metadata": {},
   "source": [
    "## SQLAlchemy ORM\n",
    "\n",
    "**SQLAlchemy ORM:** Main objective it to associate user-defined Python classes with databases and objects with rows\n",
    "- Is constructed on top of SQL Expression Language\n",
    "- High-level and abstracted usage of the Expression Language"
   ]
  },
  {
   "cell_type": "markdown",
   "id": "d9f0aafc",
   "metadata": {},
   "source": [
    "### Declaring Mappings\n",
    "\n",
    "**Declarative System:** Classes created include directives to describe actual database table they are mapped to.\n",
    "\n",
    "**Declarative Base:** Class that stores catalogue of classes and mapped tables in Declarative system\n",
    "- Usually only one instance\n",
    "- Has a `MetaData` object as an attribute\n",
    "\n",
    "**Mapped Classes:** Subclasses of declarative base that will be mapped to tables\n",
    "- Must include `__tablename__` attribute giving name of corresponding table\n",
    "- Includes `Column`s with their datatypes\n",
    "\n",
    "**Session:** Handle to the database - it encapsulates a single connection to the DB\n",
    "- `Session` class defined by the engine and a session object is an instantiation of this"
   ]
  },
  {
   "cell_type": "code",
   "execution_count": 22,
   "id": "d12fff4f",
   "metadata": {},
   "outputs": [
    {
     "name": "stdout",
     "output_type": "stream",
     "text": [
      "2021-06-09 17:28:15,248 INFO sqlalchemy.engine.Engine BEGIN (implicit)\n",
      "2021-06-09 17:28:15,251 INFO sqlalchemy.engine.Engine PRAGMA main.table_info(\"customers\")\n",
      "2021-06-09 17:28:15,252 INFO sqlalchemy.engine.Engine [raw sql] ()\n",
      "2021-06-09 17:28:15,255 INFO sqlalchemy.engine.Engine PRAGMA temp.table_info(\"customers\")\n",
      "2021-06-09 17:28:15,256 INFO sqlalchemy.engine.Engine [raw sql] ()\n",
      "2021-06-09 17:28:15,258 INFO sqlalchemy.engine.Engine \n",
      "CREATE TABLE customers (\n",
      "\tid INTEGER NOT NULL, \n",
      "\tname VARCHAR, \n",
      "\taddress VARCHAR, \n",
      "\temail VARCHAR, \n",
      "\tPRIMARY KEY (id)\n",
      ")\n",
      "\n",
      "\n",
      "2021-06-09 17:28:15,259 INFO sqlalchemy.engine.Engine [no key 0.00107s] ()\n",
      "2021-06-09 17:28:15,262 INFO sqlalchemy.engine.Engine COMMIT\n"
     ]
    }
   ],
   "source": [
    "# Create engine that describes database\n",
    "engine = create_engine(\n",
    "    os.path.join('sqlite:///', SALES_DB_PATH),\n",
    "    echo = True\n",
    ")\n",
    "Base = declarative_base()\n",
    "\n",
    "class Customers(Base):\n",
    "   __tablename__ = 'customers'\n",
    "   id = Column(Integer, primary_key=True)\n",
    "\n",
    "   name = Column(String)\n",
    "   address = Column(String)\n",
    "   email = Column(String)\n",
    "\n",
    "# Uses metadata of declarative base to turn engine into source of connection\n",
    "# Issues create table statements for tables that don't yet exist\n",
    "Base.metadata.create_all(engine)"
   ]
  },
  {
   "cell_type": "markdown",
   "id": "2b1fb73e",
   "metadata": {},
   "source": [
    "Now create a session"
   ]
  },
  {
   "cell_type": "code",
   "execution_count": 27,
   "id": "078098bc",
   "metadata": {},
   "outputs": [],
   "source": [
    "Session = sessionmaker(bind=engine)\n",
    "session = Session()"
   ]
  }
 ],
 "metadata": {
  "kernelspec": {
   "display_name": "Python 3",
   "language": "python",
   "name": "python3"
  },
  "language_info": {
   "codemirror_mode": {
    "name": "ipython",
    "version": 3
   },
   "file_extension": ".py",
   "mimetype": "text/x-python",
   "name": "python",
   "nbconvert_exporter": "python",
   "pygments_lexer": "ipython3",
   "version": "3.9.5"
  }
 },
 "nbformat": 4,
 "nbformat_minor": 5
}
