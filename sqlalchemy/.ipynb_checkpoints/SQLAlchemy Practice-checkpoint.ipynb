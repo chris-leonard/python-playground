{
 "cells": [
  {
   "cell_type": "markdown",
   "id": "6aa1d75d",
   "metadata": {},
   "source": [
    "# SQLAlchemy Practice"
   ]
  },
  {
   "cell_type": "code",
   "execution_count": 53,
   "id": "7ea39fe5",
   "metadata": {},
   "outputs": [],
   "source": [
    "# SQLAlchemy\n",
    "from sqlalchemy import create_engine\n",
    "from sqlalchemy import MetaData\n",
    "from sqlalchemy import Table, Column\n",
    "from sqlalchemy import Integer, String # datatypes\n",
    "from sqlalchemy import ForeignKey\n",
    "\n",
    "from sqlalchemy import and_, or_, asc, desc, between # conjunctions\n",
    "from sqlalchemy import text # for textual statements\n",
    "\n",
    "from sqlalchemy.sql import select \n",
    "from sqlalchemy.sql import alias # represents 'as' in sql\n",
    "from sqlalchemy.sql import func # standard sql functions\n",
    "\n",
    "# Misc\n",
    "import os"
   ]
  },
  {
   "cell_type": "markdown",
   "id": "db97cb20",
   "metadata": {},
   "source": [
    "**SQLAlchemy** is a Python toolkit for dealing with databases. It has two ways of interacting with them.\n",
    "\n",
    "**SQLAlchemy Core:** Uses SQL Expression Language that provides schema-centric usage paradigm\n",
    "- **SQL Expression Language** allows you represent structures in a relational database using Python\n",
    "- You can specify SQL statements in Python and use it directly\n",
    "- This is the closest part to raw SQL in SQLAlchemy\n",
    "\n",
    "**SQLAlchemy ORM:** Allows classes to be mapped to tables in the database to provide domain-centric usage."
   ]
  },
  {
   "cell_type": "markdown",
   "id": "ff6b398a",
   "metadata": {},
   "source": [
    "## Resources\n",
    "\n",
    "Quick Guide: https://www.tutorialspoint.com/sqlalchemy/sqlalchemy_quick_guide.htm"
   ]
  },
  {
   "cell_type": "markdown",
   "id": "a0a28a0f",
   "metadata": {},
   "source": [
    "## SQLAlchemy Core\n",
    "\n",
    "### Connecting to Database\n",
    "\n",
    "**Engine:** Class that provides a source of database connectivity and behaviour.\n",
    "\n",
    "**MetaData:** A collection of *Table* objects and associated schema constructs\n",
    "- Has an optional binding to an engine"
   ]
  },
  {
   "cell_type": "code",
   "execution_count": 2,
   "id": "30f902f0",
   "metadata": {},
   "outputs": [
    {
     "name": "stdout",
     "output_type": "stream",
     "text": [
      "2021-06-09 15:07:11,663 INFO sqlalchemy.engine.Engine BEGIN (implicit)\n",
      "2021-06-09 15:07:11,663 INFO sqlalchemy.engine.Engine PRAGMA main.table_info(\"students\")\n",
      "2021-06-09 15:07:11,664 INFO sqlalchemy.engine.Engine [raw sql] ()\n",
      "2021-06-09 15:07:11,666 INFO sqlalchemy.engine.Engine PRAGMA temp.table_info(\"students\")\n",
      "2021-06-09 15:07:11,667 INFO sqlalchemy.engine.Engine [raw sql] ()\n",
      "2021-06-09 15:07:11,669 INFO sqlalchemy.engine.Engine \n",
      "CREATE TABLE students (\n",
      "\tid INTEGER NOT NULL, \n",
      "\tname VARCHAR, \n",
      "\tlastname VARCHAR, \n",
      "\tPRIMARY KEY (id)\n",
      ")\n",
      "\n",
      "\n",
      "2021-06-09 15:07:11,670 INFO sqlalchemy.engine.Engine [no key 0.00081s] ()\n",
      "2021-06-09 15:07:11,673 INFO sqlalchemy.engine.Engine COMMIT\n"
     ]
    }
   ],
   "source": [
    "# Define local sqlite database to be hosted in repo\n",
    "# Different syntax for different database types\n",
    "engine = create_engine('sqlite:///college.db', echo = True) # echo sets up SQLAlchemy logging - print SQL used\n",
    "meta = MetaData()\n",
    "\n",
    "# Define table\n",
    "students = Table(\n",
    "   'students', meta, \n",
    "   Column('id', Integer, primary_key = True), \n",
    "   Column('name', String), \n",
    "   Column('lastname', String), \n",
    ")\n",
    "\n",
    "# Use engine object to create table and other objects and store info in metadata\n",
    "# This creates the local database\n",
    "meta.create_all(engine)"
   ]
  },
  {
   "cell_type": "markdown",
   "id": "c1dc3ce5",
   "metadata": {},
   "source": [
    "**SQL expressions:** Constructed by using methods on tables\n",
    "- Print corresponding SQL code using `str(<exp>)`\n",
    "\n",
    "**Connection:** Represents an active *DBAPI* (Python Database API) connection\n",
    "- Run expressions by passing to `execute(<exp>)` method on connection\n",
    "- This also returns `ResultProxy` object that holds information"
   ]
  },
  {
   "cell_type": "code",
   "execution_count": 3,
   "id": "27cbf040",
   "metadata": {},
   "outputs": [
    {
     "name": "stdout",
     "output_type": "stream",
     "text": [
      "INSERT INTO students (name, lastname) VALUES (:name, :lastname)\n",
      "{'name': 'Ravi', 'lastname': 'Kapoor'}\n"
     ]
    }
   ],
   "source": [
    "# Insert expression\n",
    "ins = students.insert().values(name = 'Ravi', lastname = 'Kapoor')\n",
    "\n",
    "# Equivalent SQL insert statement (without specific values)\n",
    "print(str(ins))\n",
    "\n",
    "# Specific values are stored in bind parameter which is visible in compiled form\n",
    "print(ins.compile().params)"
   ]
  },
  {
   "cell_type": "code",
   "execution_count": 4,
   "id": "ee06c7a6",
   "metadata": {},
   "outputs": [
    {
     "name": "stdout",
     "output_type": "stream",
     "text": [
      "2021-06-09 15:07:11,691 INFO sqlalchemy.engine.Engine INSERT INTO students (name, lastname) VALUES (?, ?)\n",
      "2021-06-09 15:07:11,693 INFO sqlalchemy.engine.Engine [generated in 0.00186s] ('Ravi', 'Kapoor')\n",
      "2021-06-09 15:07:11,699 INFO sqlalchemy.engine.Engine COMMIT\n",
      "{'name': 'Ravi', 'lastname': 'Kapoor'}\n"
     ]
    }
   ],
   "source": [
    "# Create connection to database\n",
    "conn = engine.connect()\n",
    "result = conn.execute(ins)\n",
    "\n",
    "# Check last set of params inserted\n",
    "print(result.last_inserted_params())"
   ]
  },
  {
   "cell_type": "code",
   "execution_count": 5,
   "id": "779527f9",
   "metadata": {},
   "outputs": [
    {
     "name": "stdout",
     "output_type": "stream",
     "text": [
      "2021-06-09 15:07:11,719 INFO sqlalchemy.engine.Engine INSERT INTO students (name, lastname) VALUES (?, ?)\n",
      "2021-06-09 15:07:11,722 INFO sqlalchemy.engine.Engine [generated in 0.00284s] (('Rajiv', 'Khanna'), ('Komal', 'Bhandari'), ('Abdul', 'Sattar'), ('Priya', 'Rajhans'))\n",
      "2021-06-09 15:07:11,724 INFO sqlalchemy.engine.Engine COMMIT\n"
     ]
    }
   ],
   "source": [
    "# Can insert many rows at once by passing list of dictionaries\n",
    "conn.execute(students.insert(), [\n",
    "   {'name':'Rajiv', 'lastname' : 'Khanna'},\n",
    "   {'name':'Komal','lastname' : 'Bhandari'},\n",
    "   {'name':'Abdul','lastname' : 'Sattar'},\n",
    "   {'name':'Priya','lastname' : 'Rajhans'},\n",
    "]);"
   ]
  },
  {
   "cell_type": "markdown",
   "id": "fa535730",
   "metadata": {},
   "source": [
    "### Basic Select Statements\n",
    "\n",
    "**Select:** Either a method on table or function with table as argument\n",
    "- Limit columns by passing specific columns as argument of `select()` function\n",
    "- Columns referenced using `<table>.c.<column>` (`c` is an alias for 'column')\n",
    "- Rename columns using `.label()` method on columns in `select`\n",
    "\n",
    "**ResultProxy:** Object returned by executing select\n",
    "- Is iterable with items corresponding to rows\n",
    "- Has other methods for accessing results: `fetchone()`, `fetchall()`,...\n",
    "\n",
    "**Where:** Use `.where()` method on `select` and pass column conditions\n",
    "- Use `where(_and(<cond1>, <cond2>))` for multiple conditions\n",
    "- Use `where(between(<col>, <val1>, <val2>)` for between\n",
    "\n",
    "**Order By:** Use `order_by(asc(<col>))` or `order_by(desc(<col>))` methods on select"
   ]
  },
  {
   "cell_type": "code",
   "execution_count": 32,
   "id": "ac8ec69d",
   "metadata": {},
   "outputs": [
    {
     "name": "stdout",
     "output_type": "stream",
     "text": [
      "Equivalent SQL\n",
      "--------------\n",
      "SELECT students.id, students.name, students.lastname \n",
      "FROM students \n",
      "WHERE students.id \n",
      "\n",
      "2021-06-09 15:38:39,972 INFO sqlalchemy.engine.Engine SELECT students.id, students.name, students.lastname \n",
      "FROM students \n",
      "WHERE students.id\n",
      "2021-06-09 15:38:39,973 INFO sqlalchemy.engine.Engine [generated in 0.00183s] ()\n",
      "\n",
      "(1, 'Ravi', 'Kapoor')\n",
      "(2, 'Rajiv', 'Khanna')\n",
      "(3, 'Komal', 'Bhandari')\n",
      "(4, 'Abdul', 'Sattar')\n",
      "(5, 'Priya', 'Rajhans')\n"
     ]
    }
   ],
   "source": [
    "# Select all\n",
    "s = students.select()\n",
    "print('Equivalent SQL')\n",
    "print('--------------')\n",
    "print(str(s), '\\n')\n",
    "\n",
    "# Run expression\n",
    "result = conn.execute(s)\n",
    "print('')\n",
    "\n",
    "for row in result:\n",
    "    print(row)"
   ]
  },
  {
   "cell_type": "code",
   "execution_count": 7,
   "id": "ca9b5606",
   "metadata": {},
   "outputs": [
    {
     "name": "stdout",
     "output_type": "stream",
     "text": [
      "Equivalent SQL\n",
      "--------------\n",
      "SELECT students.id, students.name, students.lastname \n",
      "FROM students \n",
      "\n",
      "2021-06-09 15:07:11,783 INFO sqlalchemy.engine.Engine SELECT students.id, students.name, students.lastname \n",
      "FROM students\n",
      "2021-06-09 15:07:11,786 INFO sqlalchemy.engine.Engine [cached since 0.03586s ago] ()\n"
     ]
    },
    {
     "data": {
      "text/plain": [
       "[(1, 'Ravi', 'Kapoor'),\n",
       " (2, 'Rajiv', 'Khanna'),\n",
       " (3, 'Komal', 'Bhandari'),\n",
       " (4, 'Abdul', 'Sattar'),\n",
       " (5, 'Priya', 'Rajhans')]"
      ]
     },
     "execution_count": 7,
     "metadata": {},
     "output_type": "execute_result"
    }
   ],
   "source": [
    "# Alternative syntax\n",
    "s = select(students)\n",
    "print('Equivalent SQL')\n",
    "print('--------------')\n",
    "print(str(s), '\\n')\n",
    "\n",
    "# Run expression\n",
    "result = conn.execute(s)\n",
    "result.fetchall()"
   ]
  },
  {
   "cell_type": "code",
   "execution_count": 63,
   "id": "06a96cb5",
   "metadata": {},
   "outputs": [
    {
     "name": "stdout",
     "output_type": "stream",
     "text": [
      "Equivalent SQL\n",
      "--------------\n",
      "SELECT students.name, students.lastname AS surname \n",
      "FROM students \n",
      "\n",
      "2021-06-09 16:33:09,526 INFO sqlalchemy.engine.Engine SELECT students.name, students.lastname AS surname \n",
      "FROM students\n",
      "2021-06-09 16:33:09,527 INFO sqlalchemy.engine.Engine [generated in 0.00096s] ()\n"
     ]
    },
    {
     "data": {
      "text/plain": [
       "[('Ravi', 'Kapoor'),\n",
       " ('Rajiv', 'Khanna'),\n",
       " ('Komal', 'Bhandari'),\n",
       " ('Abdul', 'Sattar'),\n",
       " ('Priya', 'Rajhans')]"
      ]
     },
     "execution_count": 63,
     "metadata": {},
     "output_type": "execute_result"
    }
   ],
   "source": [
    "# Specific columns\n",
    "s = select(\n",
    "    students.c.name, \n",
    "    students.c.lastname.label('surname')\n",
    ")\n",
    "print('Equivalent SQL')\n",
    "print('--------------')\n",
    "print(str(s), '\\n')\n",
    "\n",
    "# Run expression\n",
    "result = conn.execute(s)\n",
    "result.fetchall()"
   ]
  },
  {
   "cell_type": "code",
   "execution_count": 8,
   "id": "8528c38a",
   "metadata": {
    "scrolled": true
   },
   "outputs": [
    {
     "name": "stdout",
     "output_type": "stream",
     "text": [
      "Equivalent SQL\n",
      "--------------\n",
      "SELECT students.id, students.name, students.lastname \n",
      "FROM students \n",
      "WHERE students.id <= :id_1 \n",
      "\n",
      "Params:  {'id_1': 3} \n",
      "\n",
      "2021-06-09 15:07:11,833 INFO sqlalchemy.engine.Engine SELECT students.id, students.name, students.lastname \n",
      "FROM students \n",
      "WHERE students.id <= ?\n",
      "2021-06-09 15:07:11,834 INFO sqlalchemy.engine.Engine [generated in 0.00094s] (3,)\n",
      "\n",
      "(1, 'Ravi', 'Kapoor')\n",
      "(2, 'Rajiv', 'Khanna')\n",
      "(3, 'Komal', 'Bhandari')\n"
     ]
    }
   ],
   "source": [
    "# Select first 3 rows\n",
    "s = students.select().where(students.c.id <= 3)\n",
    "print('Equivalent SQL')\n",
    "print('--------------')\n",
    "print(str(s), '\\n')\n",
    "\n",
    "print('Params: ', s.compile().params, '\\n')\n",
    "\n",
    "result = conn.execute(s)\n",
    "print('')\n",
    "for row in result:\n",
    "    print(row)"
   ]
  },
  {
   "cell_type": "code",
   "execution_count": 9,
   "id": "09fa339c",
   "metadata": {},
   "outputs": [
    {
     "name": "stdout",
     "output_type": "stream",
     "text": [
      "Equivalent SQL\n",
      "--------------\n",
      "SELECT students.id, students.name, students.lastname \n",
      "FROM students \n",
      "WHERE students.id <= :id_1 AND students.name = :name_1 \n",
      "\n",
      "Params:  {'id_1': 3, 'name_1': 'Ravi'} \n",
      "\n",
      "2021-06-09 15:07:11,858 INFO sqlalchemy.engine.Engine SELECT students.id, students.name, students.lastname \n",
      "FROM students \n",
      "WHERE students.id <= ? AND students.name = ?\n",
      "2021-06-09 15:07:11,865 INFO sqlalchemy.engine.Engine [generated in 0.00662s] (3, 'Ravi')\n",
      "\n",
      "(1, 'Ravi', 'Kapoor')\n"
     ]
    }
   ],
   "source": [
    "# Select Ravi in first 3 rows\n",
    "s = students.select().where(\n",
    "    and_(\n",
    "        students.c.id <= 3,\n",
    "        students.c.name == 'Ravi'\n",
    "    )\n",
    ")\n",
    "print('Equivalent SQL')\n",
    "print('--------------')\n",
    "print(str(s), '\\n')\n",
    "\n",
    "print('Params: ', s.compile().params, '\\n')\n",
    "\n",
    "result = conn.execute(s)\n",
    "print('')\n",
    "for row in result:\n",
    "    print(row)"
   ]
  },
  {
   "cell_type": "code",
   "execution_count": 52,
   "id": "eb843066",
   "metadata": {},
   "outputs": [
    {
     "name": "stdout",
     "output_type": "stream",
     "text": [
      "Equivalent SQL\n",
      "--------------\n",
      "SELECT students.id, students.name, students.lastname \n",
      "FROM students \n",
      "WHERE students.id BETWEEN :id_1 AND :id_2 ORDER BY students.name ASC \n",
      "\n",
      "Params:  {'id_1': 2, 'id_2': 3} \n",
      "\n",
      "2021-06-09 16:18:02,766 INFO sqlalchemy.engine.Engine SELECT students.id, students.name, students.lastname \n",
      "FROM students \n",
      "WHERE students.id BETWEEN ? AND ? ORDER BY students.name ASC\n",
      "2021-06-09 16:18:02,767 INFO sqlalchemy.engine.Engine [generated in 0.00114s] (2, 3)\n",
      "\n",
      "(3, 'Komal', 'Bhandari')\n",
      "(2, 'Rajiv', 'Khanna')\n"
     ]
    }
   ],
   "source": [
    "# Select students with 2nd and 3rd ids in alphabetical order\n",
    "s = students.select().where(\n",
    "    between(\n",
    "        students.c.id,\n",
    "        2,\n",
    "        3\n",
    "    )\n",
    ").order_by(\n",
    "    asc(students.c.name)\n",
    ")\n",
    "\n",
    "print('Equivalent SQL')\n",
    "print('--------------')\n",
    "print(str(s), '\\n')\n",
    "\n",
    "print('Params: ', s.compile().params, '\\n')\n",
    "\n",
    "result = conn.execute(s)\n",
    "print('')\n",
    "for row in result:\n",
    "    print(row)"
   ]
  },
  {
   "cell_type": "markdown",
   "id": "2cca7a95",
   "metadata": {},
   "source": [
    "### Textual SQL\n",
    "\n",
    "**TextClause:** Represents an SQL directly\n",
    "- Constructed by passing SQL query into `text(<string>)`\n",
    "- Parameters are denoted by colons and passed as kwargs into `execute()`\n",
    "- Good when SQL is known and static"
   ]
  },
  {
   "cell_type": "code",
   "execution_count": 10,
   "id": "fd8e9c6b",
   "metadata": {},
   "outputs": [
    {
     "name": "stdout",
     "output_type": "stream",
     "text": [
      "2021-06-09 15:07:11,898 INFO sqlalchemy.engine.Engine SELECT * FROM students WHERE students.id <= ? AND students.name = ?\n",
      "2021-06-09 15:07:11,899 INFO sqlalchemy.engine.Engine [generated in 0.00119s] (3, 'Ravi')\n",
      "\n",
      "(1, 'Ravi', 'Kapoor')\n"
     ]
    }
   ],
   "source": [
    "s = text('SELECT * FROM students WHERE students.id <= :x AND students.name = :y')\n",
    "result = conn.execute(s, x=3, y='Ravi')\n",
    "print('')\n",
    "\n",
    "for row in result:\n",
    "    print(row)"
   ]
  },
  {
   "cell_type": "markdown",
   "id": "3300f663",
   "metadata": {},
   "source": [
    "### Aliases\n",
    "\n",
    "**Alias:** Represents 'AS' in SQL statements\n",
    "- There is a difference between the name of the variable representing alias table and the alias"
   ]
  },
  {
   "cell_type": "code",
   "execution_count": 11,
   "id": "e244dede",
   "metadata": {},
   "outputs": [
    {
     "name": "stdout",
     "output_type": "stream",
     "text": [
      "Original table name:  students\n",
      "Alias table name:  a\n",
      "\n",
      "2021-06-09 15:07:11,932 INFO sqlalchemy.engine.Engine SELECT a.id, a.name, a.lastname \n",
      "FROM students AS a \n",
      "WHERE a.id = ?\n",
      "2021-06-09 15:07:11,933 INFO sqlalchemy.engine.Engine [generated in 0.00076s] (1,)\n"
     ]
    },
    {
     "data": {
      "text/plain": [
       "[(1, 'Ravi', 'Kapoor')]"
      ]
     },
     "execution_count": 11,
     "metadata": {},
     "output_type": "execute_result"
    }
   ],
   "source": [
    "# Variable st represents students table aliases as 'a'\n",
    "st = students.alias('a')\n",
    "print('Original table name: ', students.name)\n",
    "print('Alias table name: ', st.name)\n",
    "print('')\n",
    "\n",
    "# Run select all against aliased table\n",
    "s = st.select().where(st.c.id == 1)\n",
    "result = conn.execute(s)\n",
    "result.fetchall()"
   ]
  },
  {
   "cell_type": "markdown",
   "id": "4e541beb",
   "metadata": {},
   "source": [
    "### Using Multiple Tables"
   ]
  },
  {
   "cell_type": "code",
   "execution_count": 12,
   "id": "c0700076",
   "metadata": {
    "scrolled": false
   },
   "outputs": [
    {
     "name": "stdout",
     "output_type": "stream",
     "text": [
      "2021-06-09 15:07:11,956 INFO sqlalchemy.engine.Engine BEGIN (implicit)\n",
      "2021-06-09 15:07:11,959 INFO sqlalchemy.engine.Engine PRAGMA main.table_info(\"students\")\n",
      "2021-06-09 15:07:11,961 INFO sqlalchemy.engine.Engine [raw sql] ()\n",
      "2021-06-09 15:07:11,967 INFO sqlalchemy.engine.Engine PRAGMA main.table_info(\"addresses\")\n",
      "2021-06-09 15:07:11,971 INFO sqlalchemy.engine.Engine [raw sql] ()\n",
      "2021-06-09 15:07:11,973 INFO sqlalchemy.engine.Engine PRAGMA temp.table_info(\"addresses\")\n",
      "2021-06-09 15:07:11,974 INFO sqlalchemy.engine.Engine [raw sql] ()\n",
      "2021-06-09 15:07:11,977 INFO sqlalchemy.engine.Engine \n",
      "CREATE TABLE addresses (\n",
      "\tid INTEGER NOT NULL, \n",
      "\tst_id INTEGER, \n",
      "\tpostal_add VARCHAR, \n",
      "\temail_add VARCHAR, \n",
      "\tPRIMARY KEY (id), \n",
      "\tFOREIGN KEY(st_id) REFERENCES students (id)\n",
      ")\n",
      "\n",
      "\n",
      "2021-06-09 15:07:11,978 INFO sqlalchemy.engine.Engine [no key 0.00126s] ()\n",
      "2021-06-09 15:07:11,985 INFO sqlalchemy.engine.Engine COMMIT\n",
      "2021-06-09 15:07:11,987 INFO sqlalchemy.engine.Engine INSERT INTO addresses (st_id, postal_add, email_add) VALUES (?, ?, ?)\n",
      "2021-06-09 15:07:11,989 INFO sqlalchemy.engine.Engine [generated in 0.00121s] ((1, 'Shivajinagar Pune', 'ravi@gmail.com'), (1, 'ChurchGate Mumbai', 'kapoor@gmail.com'), (3, 'Jubilee Hills Hyderabad', 'komal@gmail.com'), (5, 'MG Road Bangaluru', 'as@yahoo.com'), (2, 'Cannought Place new Delhi', 'admin@khanna.com'))\n",
      "2021-06-09 15:07:11,991 INFO sqlalchemy.engine.Engine COMMIT\n"
     ]
    },
    {
     "data": {
      "text/plain": [
       "<sqlalchemy.engine.cursor.LegacyCursorResult at 0x10ffb4c70>"
      ]
     },
     "execution_count": 12,
     "metadata": {},
     "output_type": "execute_result"
    }
   ],
   "source": [
    "# Define new table\n",
    "addresses = Table(\n",
    "   'addresses', meta, \n",
    "   Column('id', Integer, primary_key = True), \n",
    "   Column('st_id', Integer, ForeignKey('students.id')), # Foreign key to students table\n",
    "   Column('postal_add', String), \n",
    "   Column('email_add', String)\n",
    ")\n",
    "\n",
    "# Create the table\n",
    "meta.create_all(engine)\n",
    "\n",
    "# Populate new table\n",
    "conn.execute(addresses.insert(), [\n",
    "   {'st_id':1, 'postal_add':'Shivajinagar Pune', 'email_add':'ravi@gmail.com'},\n",
    "   {'st_id':1, 'postal_add':'ChurchGate Mumbai', 'email_add':'kapoor@gmail.com'},\n",
    "   {'st_id':3, 'postal_add':'Jubilee Hills Hyderabad', 'email_add':'komal@gmail.com'},\n",
    "   {'st_id':5, 'postal_add':'MG Road Bangaluru', 'email_add':'as@yahoo.com'},\n",
    "   {'st_id':2, 'postal_add':'Cannought Place new Delhi', 'email_add':'admin@khanna.com'},\n",
    "]);"
   ]
  },
  {
   "cell_type": "markdown",
   "id": "86c4afe3",
   "metadata": {},
   "source": [
    "The simplest way to select from multiple tables is to pass both as arguments of `select` and define join condition in `where` clause"
   ]
  },
  {
   "cell_type": "code",
   "execution_count": 65,
   "id": "be75787d",
   "metadata": {},
   "outputs": [
    {
     "name": "stdout",
     "output_type": "stream",
     "text": [
      "SELECT students.id, students.name, students.lastname, addresses.id AS id_1, addresses.st_id, addresses.postal_add, addresses.email_add \n",
      "FROM students, addresses \n",
      "WHERE students.id = addresses.st_id\n"
     ]
    }
   ],
   "source": [
    "# Select all from both joining on foreign key\n",
    "s = select(\n",
    "    students,\n",
    "    addresses\n",
    ").where(\n",
    "    students.c.id == addresses.c.st_id\n",
    ")\n",
    "print(str(s))"
   ]
  },
  {
   "cell_type": "markdown",
   "id": "3262e172",
   "metadata": {},
   "source": [
    "**Join:** Method on tables\n",
    "- Use `select_from()` method on `select` to explicitly set left hand side of join\n",
    "- Can be multiple ways of phrasing\n",
    "- Just specifying table name in `select` is equivalent to all columns from that table"
   ]
  },
  {
   "cell_type": "code",
   "execution_count": 46,
   "id": "27f26892",
   "metadata": {},
   "outputs": [
    {
     "name": "stdout",
     "output_type": "stream",
     "text": [
      "students LEFT OUTER JOIN addresses ON students.id = addresses.st_id\n"
     ]
    }
   ],
   "source": [
    "# Join on its own\n",
    "j = students.join(\n",
    "    addresses,\n",
    "    students.c.id == addresses.c.st_id,\n",
    "    isouter = True # outer join - default is false\n",
    ")\n",
    "print(str(j))"
   ]
  },
  {
   "cell_type": "code",
   "execution_count": 48,
   "id": "a8f8a453",
   "metadata": {},
   "outputs": [
    {
     "name": "stdout",
     "output_type": "stream",
     "text": [
      "SELECT students.name, students.lastname, addresses.id, addresses.st_id, addresses.postal_add, addresses.email_add \n",
      "FROM students LEFT OUTER JOIN addresses ON students.id = addresses.st_id\n"
     ]
    }
   ],
   "source": [
    "# As part of select statement\n",
    "s = select(\n",
    "    students.c.name,\n",
    "    students.c.lastname,\n",
    "    addresses\n",
    ").select_from(\n",
    "    j # equivalent to block commented code below\n",
    "    # students.join(\n",
    "    #     addresses,\n",
    "    #     students.c.id == addresses.c.st_id,\n",
    "    #     isouter=True\n",
    "    # )\n",
    ")\n",
    "print(str(s))"
   ]
  },
  {
   "cell_type": "code",
   "execution_count": 49,
   "id": "8203d654",
   "metadata": {},
   "outputs": [
    {
     "name": "stdout",
     "output_type": "stream",
     "text": [
      "SELECT students.name, students.lastname, addresses.id, addresses.st_id, addresses.postal_add, addresses.email_add \n",
      "FROM students LEFT OUTER JOIN addresses ON students.id = addresses.st_id\n"
     ]
    }
   ],
   "source": [
    "# An equivalent formulation\n",
    "s = select(\n",
    "    students.c.name,\n",
    "    students.c.lastname,\n",
    "    addresses\n",
    ").select_from(\n",
    "    students\n",
    ").join(\n",
    "    addresses,\n",
    "    students.c.id == addresses.c.st_id,\n",
    "    isouter=True\n",
    ")\n",
    "print(str(s))"
   ]
  },
  {
   "cell_type": "markdown",
   "id": "cb1133f0",
   "metadata": {},
   "source": [
    "### Using Functions\n",
    "\n",
    "**Functions:** Standard SQL functions are accessed through `func`\n",
    "- Examples: `func.now()`, `func.count()`, `func.max()`"
   ]
  },
  {
   "cell_type": "code",
   "execution_count": 57,
   "id": "3239dc18",
   "metadata": {},
   "outputs": [
    {
     "name": "stdout",
     "output_type": "stream",
     "text": [
      "SELECT count(students.id) AS count_1 \n",
      "FROM students\n"
     ]
    }
   ],
   "source": [
    "# Number of rows\n",
    "s = select(func.count(students.c.id))\n",
    "print(str(s))"
   ]
  },
  {
   "cell_type": "markdown",
   "id": "a398f17f",
   "metadata": {},
   "source": [
    "## Reset"
   ]
  },
  {
   "cell_type": "code",
   "execution_count": 13,
   "id": "51fd3bfe",
   "metadata": {},
   "outputs": [],
   "source": [
    "# # Remove database to reset everything\n",
    "# engine.dispose()\n",
    "# os.remove('college.db')"
   ]
  }
 ],
 "metadata": {
  "kernelspec": {
   "display_name": "Python 3",
   "language": "python",
   "name": "python3"
  },
  "language_info": {
   "codemirror_mode": {
    "name": "ipython",
    "version": 3
   },
   "file_extension": ".py",
   "mimetype": "text/x-python",
   "name": "python",
   "nbconvert_exporter": "python",
   "pygments_lexer": "ipython3",
   "version": "3.9.5"
  }
 },
 "nbformat": 4,
 "nbformat_minor": 5
}
