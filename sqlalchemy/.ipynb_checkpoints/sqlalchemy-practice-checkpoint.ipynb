{
 "cells": [
  {
   "cell_type": "markdown",
   "id": "73c796b4",
   "metadata": {},
   "source": [
    "# SQLAlchemy Practice\n",
    "\n",
    "## Set-Up\n",
    "\n",
    "Begin by importing packages."
   ]
  },
  {
   "cell_type": "code",
   "execution_count": 1,
   "id": "fcbcf86f",
   "metadata": {},
   "outputs": [],
   "source": [
    "# SQLAlchemy\n",
    "from sqlalchemy import create_engine\n",
    "from sqlalchemy import MetaData\n",
    "from sqlalchemy import Table, Column\n",
    "from sqlalchemy import Integer, String # datatypes\n",
    "from sqlalchemy import ForeignKey\n",
    "\n",
    "from sqlalchemy import and_, or_, asc, desc, between # conjunctions\n",
    "from sqlalchemy import text # for textual statements\n",
    "\n",
    "from sqlalchemy.sql import select \n",
    "from sqlalchemy.sql import alias # represents 'as' in sql\n",
    "from sqlalchemy.sql import func # standard sql functions\n",
    "\n",
    "from sqlalchemy.ext.declarative import declarative_base\n",
    "\n",
    "from sqlalchemy.orm import relationship # describe relationships between tables\n",
    "from sqlalchemy.orm import sessionmaker, Query\n",
    "\n",
    "# Misc\n",
    "import os"
   ]
  },
  {
   "cell_type": "markdown",
   "id": "28a89d8d",
   "metadata": {},
   "source": [
    "In the course of the notebook some files are created. We delete them if they already exist for a clean slate."
   ]
  },
  {
   "cell_type": "code",
   "execution_count": 2,
   "id": "d909c717",
   "metadata": {},
   "outputs": [],
   "source": [
    "def remove_file(path):\n",
    "    if os.path.isfile(path):\n",
    "        os.remove(path)\n",
    "\n",
    "        \n",
    "COLLEGE_DB_PATH = 'college.db'\n",
    "SALES_DB_PATH = 'sales.db'\n",
    "\n",
    "remove_file(COLLEGE_DB_PATH)\n",
    "remove_file(SALES_DB_PATH)"
   ]
  },
  {
   "cell_type": "markdown",
   "id": "cb3a82e1",
   "metadata": {},
   "source": [
    "**SQLAlchemy** is a Python toolkit for dealing with databases. It has two ways of interacting with them.\n",
    "\n",
    "**SQLAlchemy Core:** Uses SQL Expression Language that provides schema-centric usage paradigm\n",
    "- **SQL Expression Language** allows you represent structures in a relational database using Python\n",
    "- You can specify SQL statements in Python and use it directly\n",
    "- This is the closest part to raw SQL in SQLAlchemy\n",
    "\n",
    "**SQLAlchemy ORM:** Allows classes to be mapped to tables in the database to provide domain-centric usage."
   ]
  },
  {
   "cell_type": "markdown",
   "id": "f3b44055",
   "metadata": {},
   "source": [
    "## Resources\n",
    "\n",
    "Quick Guide: https://www.tutorialspoint.com/sqlalchemy/sqlalchemy_quick_guide.htm"
   ]
  },
  {
   "cell_type": "markdown",
   "id": "fe78965f",
   "metadata": {},
   "source": [
    "## SQLAlchemy Core\n",
    "\n",
    "### Connecting to Database\n",
    "\n",
    "**Engine:** Class that provides a source of database connectivity and behaviour.\n",
    "\n",
    "**MetaData:** A collection of *Table* objects and associated schema constructs\n",
    "- Has an optional binding to an engine"
   ]
  },
  {
   "cell_type": "code",
   "execution_count": 3,
   "id": "8ea4a96a",
   "metadata": {},
   "outputs": [
    {
     "name": "stdout",
     "output_type": "stream",
     "text": [
      "2021-06-10 16:40:36,517 INFO sqlalchemy.engine.Engine BEGIN (implicit)\n",
      "2021-06-10 16:40:36,517 INFO sqlalchemy.engine.Engine PRAGMA main.table_info(\"students\")\n",
      "2021-06-10 16:40:36,518 INFO sqlalchemy.engine.Engine [raw sql] ()\n",
      "2021-06-10 16:40:36,521 INFO sqlalchemy.engine.Engine PRAGMA temp.table_info(\"students\")\n",
      "2021-06-10 16:40:36,523 INFO sqlalchemy.engine.Engine [raw sql] ()\n",
      "2021-06-10 16:40:36,526 INFO sqlalchemy.engine.Engine \n",
      "CREATE TABLE students (\n",
      "\tid INTEGER NOT NULL, \n",
      "\tname VARCHAR, \n",
      "\tlastname VARCHAR, \n",
      "\tPRIMARY KEY (id)\n",
      ")\n",
      "\n",
      "\n",
      "2021-06-10 16:40:36,528 INFO sqlalchemy.engine.Engine [no key 0.00196s] ()\n",
      "2021-06-10 16:40:36,532 INFO sqlalchemy.engine.Engine COMMIT\n"
     ]
    }
   ],
   "source": [
    "# Define local sqlite database to be hosted in repo\n",
    "engine = create_engine(\n",
    "    os.path.join('sqlite:///', COLLEGE_DB_PATH), # Different syntax for different database types\n",
    "    echo = True # sets up SQLAlchemy logging - print SQL used\n",
    ")\n",
    "meta = MetaData()\n",
    "\n",
    "# Define table\n",
    "students = Table(\n",
    "   'students', meta, \n",
    "   Column('id', Integer, primary_key = True), \n",
    "   Column('name', String), \n",
    "   Column('lastname', String), \n",
    ")\n",
    "\n",
    "# Use engine object to create table and other objects and store info in metadata\n",
    "# This creates the local database\n",
    "meta.create_all(engine)"
   ]
  },
  {
   "cell_type": "markdown",
   "id": "7d38e52d",
   "metadata": {},
   "source": [
    "**SQL expressions:** Constructed by using methods on tables\n",
    "- Print corresponding SQL code using `str(<exp>)` (doesn't store specific values)\n",
    "- Specific values are stored in bind parameter which is visible in compiled form - access using `.compile().params`\n",
    "\n",
    "**Connection:** Represents an active *DBAPI* (Python Database API) connection\n",
    "- Run expressions by passing to `execute(<exp>)` method on connection\n",
    "- This also returns `ResultProxy` object that holds information"
   ]
  },
  {
   "cell_type": "code",
   "execution_count": 4,
   "id": "4145fad5",
   "metadata": {},
   "outputs": [
    {
     "name": "stdout",
     "output_type": "stream",
     "text": [
      "INSERT INTO students (name, lastname) VALUES (:name, :lastname)\n",
      "{'name': 'Ravi', 'lastname': 'Kapoor'}\n"
     ]
    }
   ],
   "source": [
    "# Insert expression\n",
    "ins = students.insert().values(name = 'Ravi', lastname = 'Kapoor')\n",
    "\n",
    "# Equivalent SQL insert statement (without specific values)\n",
    "print(str(ins))\n",
    "\n",
    "# Access specific parameters\n",
    "print(ins.compile().params)"
   ]
  },
  {
   "cell_type": "code",
   "execution_count": 5,
   "id": "57380b39",
   "metadata": {},
   "outputs": [
    {
     "name": "stdout",
     "output_type": "stream",
     "text": [
      "2021-06-10 16:40:36,550 INFO sqlalchemy.engine.Engine INSERT INTO students (name, lastname) VALUES (?, ?)\n",
      "2021-06-10 16:40:36,554 INFO sqlalchemy.engine.Engine [generated in 0.00327s] ('Ravi', 'Kapoor')\n",
      "2021-06-10 16:40:36,557 INFO sqlalchemy.engine.Engine COMMIT\n",
      "{'name': 'Ravi', 'lastname': 'Kapoor'}\n"
     ]
    }
   ],
   "source": [
    "# Create connection to database\n",
    "conn = engine.connect()\n",
    "result = conn.execute(ins)\n",
    "\n",
    "# Check last set of params inserted\n",
    "print(result.last_inserted_params())"
   ]
  },
  {
   "cell_type": "code",
   "execution_count": 6,
   "id": "72de3f38",
   "metadata": {},
   "outputs": [
    {
     "name": "stdout",
     "output_type": "stream",
     "text": [
      "2021-06-10 16:40:36,572 INFO sqlalchemy.engine.Engine INSERT INTO students (name, lastname) VALUES (?, ?)\n",
      "2021-06-10 16:40:36,574 INFO sqlalchemy.engine.Engine [generated in 0.00235s] (('Rajiv', 'Khanna'), ('Komal', 'Bhandari'), ('Abdul', 'Sattar'), ('Priya', 'Rajhans'))\n",
      "2021-06-10 16:40:36,577 INFO sqlalchemy.engine.Engine COMMIT\n"
     ]
    }
   ],
   "source": [
    "# Can insert many rows at once by passing list of dictionaries\n",
    "conn.execute(students.insert(), [\n",
    "   {'name':'Rajiv', 'lastname' : 'Khanna'},\n",
    "   {'name':'Komal','lastname' : 'Bhandari'},\n",
    "   {'name':'Abdul','lastname' : 'Sattar'},\n",
    "   {'name':'Priya','lastname' : 'Rajhans'},\n",
    "]);"
   ]
  },
  {
   "cell_type": "markdown",
   "id": "cc8ea5d1",
   "metadata": {},
   "source": [
    "### Basic Select Statements\n",
    "\n",
    "**Select:** Either a method on table or function with table as argument\n",
    "- Limit columns by passing specific columns as argument of `select()` function\n",
    "- Columns referenced using `<table>.c.<column>` (`c` is an alias for 'column')\n",
    "- Rename columns using `.label()` method on columns in `select`\n",
    "\n",
    "**ResultProxy:** Object returned by executing select\n",
    "- Is iterable with items corresponding to rows\n",
    "- Has other methods for accessing results: `fetchone()`, `fetchall()`,..."
   ]
  },
  {
   "cell_type": "code",
   "execution_count": 7,
   "id": "229b2798",
   "metadata": {},
   "outputs": [
    {
     "name": "stdout",
     "output_type": "stream",
     "text": [
      "Equivalent SQL\n",
      "--------------\n",
      "SELECT students.id, students.name, students.lastname \n",
      "FROM students \n",
      "\n",
      "2021-06-10 16:40:36,592 INFO sqlalchemy.engine.Engine SELECT students.id, students.name, students.lastname \n",
      "FROM students\n",
      "2021-06-10 16:40:36,600 INFO sqlalchemy.engine.Engine [generated in 0.00794s] ()\n",
      "\n",
      "(1, 'Ravi', 'Kapoor')\n",
      "(2, 'Rajiv', 'Khanna')\n",
      "(3, 'Komal', 'Bhandari')\n",
      "(4, 'Abdul', 'Sattar')\n",
      "(5, 'Priya', 'Rajhans')\n"
     ]
    }
   ],
   "source": [
    "# Select all\n",
    "s = students.select()\n",
    "print('Equivalent SQL')\n",
    "print('--------------')\n",
    "print(str(s), '\\n')\n",
    "\n",
    "# Run expression\n",
    "result = conn.execute(s)\n",
    "print('')\n",
    "\n",
    "for row in result:\n",
    "    print(row)"
   ]
  },
  {
   "cell_type": "code",
   "execution_count": 8,
   "id": "ba52401c",
   "metadata": {},
   "outputs": [
    {
     "name": "stdout",
     "output_type": "stream",
     "text": [
      "Equivalent SQL\n",
      "--------------\n",
      "SELECT students.id, students.name, students.lastname \n",
      "FROM students \n",
      "\n",
      "2021-06-10 16:40:36,623 INFO sqlalchemy.engine.Engine SELECT students.id, students.name, students.lastname \n",
      "FROM students\n",
      "2021-06-10 16:40:36,627 INFO sqlalchemy.engine.Engine [cached since 0.03448s ago] ()\n"
     ]
    },
    {
     "data": {
      "text/plain": [
       "[(1, 'Ravi', 'Kapoor'),\n",
       " (2, 'Rajiv', 'Khanna'),\n",
       " (3, 'Komal', 'Bhandari'),\n",
       " (4, 'Abdul', 'Sattar'),\n",
       " (5, 'Priya', 'Rajhans')]"
      ]
     },
     "execution_count": 8,
     "metadata": {},
     "output_type": "execute_result"
    }
   ],
   "source": [
    "# Alternative syntax\n",
    "s = select(students)\n",
    "print('Equivalent SQL')\n",
    "print('--------------')\n",
    "print(str(s), '\\n')\n",
    "\n",
    "# Run expression\n",
    "result = conn.execute(s)\n",
    "result.fetchall()"
   ]
  },
  {
   "cell_type": "code",
   "execution_count": 9,
   "id": "298f266c",
   "metadata": {},
   "outputs": [
    {
     "name": "stdout",
     "output_type": "stream",
     "text": [
      "Equivalent SQL\n",
      "--------------\n",
      "SELECT students.name, students.lastname AS surname \n",
      "FROM students \n",
      "\n",
      "2021-06-10 16:40:36,657 INFO sqlalchemy.engine.Engine SELECT students.name, students.lastname AS surname \n",
      "FROM students\n",
      "2021-06-10 16:40:36,659 INFO sqlalchemy.engine.Engine [generated in 0.00121s] ()\n"
     ]
    },
    {
     "data": {
      "text/plain": [
       "[('Ravi', 'Kapoor'),\n",
       " ('Rajiv', 'Khanna'),\n",
       " ('Komal', 'Bhandari'),\n",
       " ('Abdul', 'Sattar'),\n",
       " ('Priya', 'Rajhans')]"
      ]
     },
     "execution_count": 9,
     "metadata": {},
     "output_type": "execute_result"
    }
   ],
   "source": [
    "# Specific columns\n",
    "s = select(\n",
    "    students.c.name, \n",
    "    students.c.lastname.label('surname')\n",
    ")\n",
    "print('Equivalent SQL')\n",
    "print('--------------')\n",
    "print(str(s), '\\n')\n",
    "\n",
    "# Run expression\n",
    "result = conn.execute(s)\n",
    "result.fetchall()"
   ]
  },
  {
   "cell_type": "markdown",
   "id": "fd37a58a",
   "metadata": {},
   "source": [
    "### Where Clauses\n",
    "\n",
    "**Where:** Use `.where()` method on `select` and pass column conditions\n",
    "- Use `where(_and(<cond1>, <cond2>))` for multiple conditions\n",
    "- Use `where(between(<col>, <val1>, <val2>)` for between"
   ]
  },
  {
   "cell_type": "code",
   "execution_count": 10,
   "id": "54d83a88",
   "metadata": {
    "scrolled": true
   },
   "outputs": [
    {
     "name": "stdout",
     "output_type": "stream",
     "text": [
      "Equivalent SQL\n",
      "--------------\n",
      "SELECT students.id, students.name, students.lastname \n",
      "FROM students \n",
      "WHERE students.id <= :id_1 \n",
      "\n",
      "Params:  {'id_1': 3} \n",
      "\n",
      "2021-06-10 16:40:36,679 INFO sqlalchemy.engine.Engine SELECT students.id, students.name, students.lastname \n",
      "FROM students \n",
      "WHERE students.id <= ?\n",
      "2021-06-10 16:40:36,682 INFO sqlalchemy.engine.Engine [generated in 0.00363s] (3,)\n",
      "\n",
      "(1, 'Ravi', 'Kapoor')\n",
      "(2, 'Rajiv', 'Khanna')\n",
      "(3, 'Komal', 'Bhandari')\n"
     ]
    }
   ],
   "source": [
    "# Select first 3 rows\n",
    "s = students.select().where(students.c.id <= 3)\n",
    "print('Equivalent SQL')\n",
    "print('--------------')\n",
    "print(str(s), '\\n')\n",
    "\n",
    "print('Params: ', s.compile().params, '\\n')\n",
    "\n",
    "result = conn.execute(s)\n",
    "print('')\n",
    "for row in result:\n",
    "    print(row)"
   ]
  },
  {
   "cell_type": "code",
   "execution_count": 11,
   "id": "4930f7f5",
   "metadata": {},
   "outputs": [
    {
     "name": "stdout",
     "output_type": "stream",
     "text": [
      "Equivalent SQL\n",
      "--------------\n",
      "SELECT students.id, students.name, students.lastname \n",
      "FROM students \n",
      "WHERE students.id <= :id_1 AND students.name = :name_1 \n",
      "\n",
      "Params:  {'id_1': 3, 'name_1': 'Ravi'} \n",
      "\n",
      "2021-06-10 16:40:36,710 INFO sqlalchemy.engine.Engine SELECT students.id, students.name, students.lastname \n",
      "FROM students \n",
      "WHERE students.id <= ? AND students.name = ?\n",
      "2021-06-10 16:40:36,711 INFO sqlalchemy.engine.Engine [generated in 0.00102s] (3, 'Ravi')\n",
      "\n",
      "(1, 'Ravi', 'Kapoor')\n"
     ]
    }
   ],
   "source": [
    "# Select Ravi in first 3 rows\n",
    "s = students.select().where(\n",
    "    and_(\n",
    "        students.c.id <= 3,\n",
    "        students.c.name == 'Ravi'\n",
    "    )\n",
    ")\n",
    "print('Equivalent SQL')\n",
    "print('--------------')\n",
    "print(str(s), '\\n')\n",
    "\n",
    "print('Params: ', s.compile().params, '\\n')\n",
    "\n",
    "result = conn.execute(s)\n",
    "print('')\n",
    "for row in result:\n",
    "    print(row)"
   ]
  },
  {
   "cell_type": "code",
   "execution_count": 12,
   "id": "f83fc87c",
   "metadata": {},
   "outputs": [
    {
     "name": "stdout",
     "output_type": "stream",
     "text": [
      "Equivalent SQL\n",
      "--------------\n",
      "SELECT students.id, students.name, students.lastname \n",
      "FROM students \n",
      "WHERE students.id BETWEEN :id_1 AND :id_2 \n",
      "\n",
      "Params:  {'id_1': 2, 'id_2': 3} \n",
      "\n",
      "2021-06-10 16:40:36,743 INFO sqlalchemy.engine.Engine SELECT students.id, students.name, students.lastname \n",
      "FROM students \n",
      "WHERE students.id BETWEEN ? AND ?\n",
      "2021-06-10 16:40:36,744 INFO sqlalchemy.engine.Engine [generated in 0.00087s] (2, 3)\n",
      "\n",
      "(2, 'Rajiv', 'Khanna')\n",
      "(3, 'Komal', 'Bhandari')\n"
     ]
    }
   ],
   "source": [
    "# Select students with 2nd and 3rd ids\n",
    "s = students.select().where(\n",
    "    between(\n",
    "        students.c.id,\n",
    "        2,\n",
    "        3\n",
    "    )\n",
    ")\n",
    "\n",
    "print('Equivalent SQL')\n",
    "print('--------------')\n",
    "print(str(s), '\\n')\n",
    "\n",
    "print('Params: ', s.compile().params, '\\n')\n",
    "\n",
    "result = conn.execute(s)\n",
    "print('')\n",
    "for row in result:\n",
    "    print(row)"
   ]
  },
  {
   "cell_type": "markdown",
   "id": "0b9d2382",
   "metadata": {},
   "source": [
    "### Textual SQL\n",
    "\n",
    "**TextClause:** Represents an SQL statement directly\n",
    "- Constructed by passing SQL query into `text(<string>)`\n",
    "- Parameters are denoted by colons and passed as kwargs into `execute()`\n",
    "- Good when SQL is known and static"
   ]
  },
  {
   "cell_type": "code",
   "execution_count": 13,
   "id": "834eb445",
   "metadata": {},
   "outputs": [
    {
     "name": "stdout",
     "output_type": "stream",
     "text": [
      "2021-06-10 16:40:36,758 INFO sqlalchemy.engine.Engine SELECT * FROM students WHERE students.id <= ? AND students.name = ?\n",
      "2021-06-10 16:40:36,759 INFO sqlalchemy.engine.Engine [generated in 0.00129s] (3, 'Ravi')\n",
      "\n",
      "(1, 'Ravi', 'Kapoor')\n"
     ]
    }
   ],
   "source": [
    "s = text('SELECT * FROM students WHERE students.id <= :x AND students.name = :y')\n",
    "result = conn.execute(s, x=3, y='Ravi')\n",
    "print('')\n",
    "\n",
    "for row in result:\n",
    "    print(row)"
   ]
  },
  {
   "cell_type": "markdown",
   "id": "1af10c3f",
   "metadata": {},
   "source": [
    "### Some Common Operations\n",
    "\n",
    "**Alias:** Represents 'AS' in SQL statements\n",
    "- There is a difference between the name of the variable representing alias table and the alias\n",
    "\n",
    "**Order By:** Use `order_by(asc(<col>))` or `order_by(desc(<col>))` methods on select\n",
    "\n",
    "**Functions:** Standard SQL functions are accessed through `func`\n",
    "- Ex: `func.now()`, `func.count()`, `func.max()`"
   ]
  },
  {
   "cell_type": "code",
   "execution_count": 14,
   "id": "34eb2e6c",
   "metadata": {},
   "outputs": [
    {
     "name": "stdout",
     "output_type": "stream",
     "text": [
      "Original table name:  students\n",
      "Alias table name:  a\n",
      "\n",
      "2021-06-10 16:40:36,779 INFO sqlalchemy.engine.Engine SELECT a.id, a.name, a.lastname \n",
      "FROM students AS a \n",
      "WHERE a.id = ?\n",
      "2021-06-10 16:40:36,781 INFO sqlalchemy.engine.Engine [generated in 0.00198s] (1,)\n"
     ]
    },
    {
     "data": {
      "text/plain": [
       "[(1, 'Ravi', 'Kapoor')]"
      ]
     },
     "execution_count": 14,
     "metadata": {},
     "output_type": "execute_result"
    }
   ],
   "source": [
    "# Variable st represents students table aliased as 'a'\n",
    "st = students.alias('a')\n",
    "print('Original table name: ', students.name)\n",
    "print('Alias table name: ', st.name)\n",
    "print('')\n",
    "\n",
    "# Run select all against aliased table\n",
    "s = st.select().where(st.c.id == 1)\n",
    "result = conn.execute(s)\n",
    "result.fetchall()"
   ]
  },
  {
   "cell_type": "code",
   "execution_count": 15,
   "id": "475e2920",
   "metadata": {},
   "outputs": [
    {
     "name": "stdout",
     "output_type": "stream",
     "text": [
      "SELECT students.id, students.name, students.lastname \n",
      "FROM students ORDER BY students.name ASC\n"
     ]
    }
   ],
   "source": [
    "# Select students in alphabetical order\n",
    "s = select(students).order_by(\n",
    "    asc(students.c.name)\n",
    ")\n",
    "print(str(s))"
   ]
  },
  {
   "cell_type": "code",
   "execution_count": 16,
   "id": "80c94b3f",
   "metadata": {},
   "outputs": [
    {
     "name": "stdout",
     "output_type": "stream",
     "text": [
      "SELECT count(students.id) AS count_1 \n",
      "FROM students\n"
     ]
    }
   ],
   "source": [
    "# Count rows in table\n",
    "s = select(func.count(students.c.id))\n",
    "print(str(s))"
   ]
  },
  {
   "cell_type": "markdown",
   "id": "a99f7bcf",
   "metadata": {},
   "source": [
    "### Working with Multiple Tables"
   ]
  },
  {
   "cell_type": "code",
   "execution_count": 17,
   "id": "9f381627",
   "metadata": {
    "scrolled": false
   },
   "outputs": [
    {
     "name": "stdout",
     "output_type": "stream",
     "text": [
      "2021-06-10 16:40:36,848 INFO sqlalchemy.engine.Engine BEGIN (implicit)\n",
      "2021-06-10 16:40:36,849 INFO sqlalchemy.engine.Engine PRAGMA main.table_info(\"students\")\n",
      "2021-06-10 16:40:36,851 INFO sqlalchemy.engine.Engine [raw sql] ()\n",
      "2021-06-10 16:40:36,854 INFO sqlalchemy.engine.Engine PRAGMA main.table_info(\"addresses\")\n",
      "2021-06-10 16:40:36,855 INFO sqlalchemy.engine.Engine [raw sql] ()\n",
      "2021-06-10 16:40:36,856 INFO sqlalchemy.engine.Engine PRAGMA temp.table_info(\"addresses\")\n",
      "2021-06-10 16:40:36,857 INFO sqlalchemy.engine.Engine [raw sql] ()\n",
      "2021-06-10 16:40:36,859 INFO sqlalchemy.engine.Engine \n",
      "CREATE TABLE addresses (\n",
      "\tid INTEGER NOT NULL, \n",
      "\tst_id INTEGER, \n",
      "\tpostal_add VARCHAR, \n",
      "\temail_add VARCHAR, \n",
      "\tPRIMARY KEY (id), \n",
      "\tFOREIGN KEY(st_id) REFERENCES students (id)\n",
      ")\n",
      "\n",
      "\n",
      "2021-06-10 16:40:36,862 INFO sqlalchemy.engine.Engine [no key 0.00273s] ()\n",
      "2021-06-10 16:40:36,865 INFO sqlalchemy.engine.Engine COMMIT\n",
      "2021-06-10 16:40:36,867 INFO sqlalchemy.engine.Engine INSERT INTO addresses (st_id, postal_add, email_add) VALUES (?, ?, ?)\n",
      "2021-06-10 16:40:36,868 INFO sqlalchemy.engine.Engine [generated in 0.00081s] ((1, 'Shivajinagar Pune', 'ravi@gmail.com'), (1, 'ChurchGate Mumbai', 'kapoor@gmail.com'), (3, 'Jubilee Hills Hyderabad', 'komal@gmail.com'), (5, 'MG Road Bangaluru', 'as@yahoo.com'), (2, 'Cannought Place new Delhi', 'admin@khanna.com'))\n",
      "2021-06-10 16:40:36,871 INFO sqlalchemy.engine.Engine COMMIT\n"
     ]
    }
   ],
   "source": [
    "# Define new table\n",
    "addresses = Table(\n",
    "   'addresses', meta, \n",
    "   Column('id', Integer, primary_key = True), \n",
    "   Column('st_id', Integer, ForeignKey('students.id')), # Foreign key to students table\n",
    "   Column('postal_add', String), \n",
    "   Column('email_add', String)\n",
    ")\n",
    "\n",
    "# Create the table\n",
    "meta.create_all(engine)\n",
    "\n",
    "# Populate new table\n",
    "conn.execute(addresses.insert(), [\n",
    "   {'st_id':1, 'postal_add':'Shivajinagar Pune', 'email_add':'ravi@gmail.com'},\n",
    "   {'st_id':1, 'postal_add':'ChurchGate Mumbai', 'email_add':'kapoor@gmail.com'},\n",
    "   {'st_id':3, 'postal_add':'Jubilee Hills Hyderabad', 'email_add':'komal@gmail.com'},\n",
    "   {'st_id':5, 'postal_add':'MG Road Bangaluru', 'email_add':'as@yahoo.com'},\n",
    "   {'st_id':2, 'postal_add':'Cannought Place new Delhi', 'email_add':'admin@khanna.com'},\n",
    "]);"
   ]
  },
  {
   "cell_type": "markdown",
   "id": "6eb966a3",
   "metadata": {},
   "source": [
    "**Implicit Joins:** Simple implicit join by passing both tables as arguments of `select` and defining join condition in `where` clause"
   ]
  },
  {
   "cell_type": "code",
   "execution_count": 18,
   "id": "e7fb399d",
   "metadata": {},
   "outputs": [
    {
     "name": "stdout",
     "output_type": "stream",
     "text": [
      "SELECT students.id, students.name, students.lastname, addresses.id AS id_1, addresses.st_id, addresses.postal_add, addresses.email_add \n",
      "FROM students, addresses \n",
      "WHERE students.id = addresses.st_id\n"
     ]
    }
   ],
   "source": [
    "# Select all from both joining on foreign key\n",
    "s = select(\n",
    "    students,\n",
    "    addresses\n",
    ").where(\n",
    "    students.c.id == addresses.c.st_id\n",
    ")\n",
    "print(str(s))"
   ]
  },
  {
   "cell_type": "markdown",
   "id": "73a600bc",
   "metadata": {},
   "source": [
    "**Join:** Method on tables\n",
    "- Use `select_from()` method on `select` to explicitly set left hand side of join\n",
    "- Can be multiple ways of phrasing\n",
    "- Just specifying table name in `select` is equivalent to all columns from that table"
   ]
  },
  {
   "cell_type": "code",
   "execution_count": 19,
   "id": "e099a0cf",
   "metadata": {},
   "outputs": [
    {
     "name": "stdout",
     "output_type": "stream",
     "text": [
      "students LEFT OUTER JOIN addresses ON students.id = addresses.st_id\n"
     ]
    }
   ],
   "source": [
    "# Join on its own\n",
    "j = students.join(\n",
    "    addresses,\n",
    "    students.c.id == addresses.c.st_id,\n",
    "    isouter = True # outer join - default is false\n",
    ")\n",
    "print(str(j))"
   ]
  },
  {
   "cell_type": "code",
   "execution_count": 20,
   "id": "54d31fd7",
   "metadata": {},
   "outputs": [
    {
     "name": "stdout",
     "output_type": "stream",
     "text": [
      "SELECT students.name, students.lastname, addresses.id, addresses.st_id, addresses.postal_add, addresses.email_add \n",
      "FROM students LEFT OUTER JOIN addresses ON students.id = addresses.st_id\n"
     ]
    }
   ],
   "source": [
    "# As part of select statement\n",
    "s = select(\n",
    "    students.c.name,\n",
    "    students.c.lastname,\n",
    "    addresses\n",
    ").select_from(\n",
    "    j # equivalent to block commented code below\n",
    "    # students.join(\n",
    "    #     addresses,\n",
    "    #     students.c.id == addresses.c.st_id,\n",
    "    #     isouter=True\n",
    "    # )\n",
    ")\n",
    "print(str(s))"
   ]
  },
  {
   "cell_type": "code",
   "execution_count": 21,
   "id": "afc0181c",
   "metadata": {},
   "outputs": [
    {
     "name": "stdout",
     "output_type": "stream",
     "text": [
      "SELECT students.name, students.lastname, addresses.id, addresses.st_id, addresses.postal_add, addresses.email_add \n",
      "FROM students LEFT OUTER JOIN addresses ON students.id = addresses.st_id\n"
     ]
    }
   ],
   "source": [
    "# An equivalent formulation\n",
    "s = select(\n",
    "    students.c.name,\n",
    "    students.c.lastname,\n",
    "    addresses\n",
    ").select_from(\n",
    "    students\n",
    ").join(\n",
    "    addresses,\n",
    "    students.c.id == addresses.c.st_id,\n",
    "    isouter=True\n",
    ")\n",
    "print(str(s))"
   ]
  },
  {
   "cell_type": "markdown",
   "id": "345a83b4",
   "metadata": {},
   "source": [
    "## SQLAlchemy ORM\n",
    "\n",
    "**SQLAlchemy ORM:** Main objective it to associate user-defined Python classes with databases and objects with rows\n",
    "- Is constructed on top of SQL Expression Language\n",
    "- High-level and abstracted usage of the Expression Language"
   ]
  },
  {
   "cell_type": "markdown",
   "id": "d9f0aafc",
   "metadata": {},
   "source": [
    "### Declaring Mappings\n",
    "\n",
    "**Declarative System:** Classes created include directives to describe actual database table they are mapped to.\n",
    "\n",
    "**Declarative Base:** Class that stores catalogue of classes and mapped tables in Declarative system\n",
    "- Usually only one instance\n",
    "- Has a `MetaData` object as an attribute\n",
    "\n",
    "**Mapped Classes:** Subclasses of declarative base that will be mapped to tables\n",
    "- Must include `__tablename__` attribute giving name of corresponding table\n",
    "- Includes `Column`s with their datatypes\n",
    "\n",
    "**Session:** Handle to the database - it encapsulates a single connection to the DB\n",
    "- `Session` class defined by the engine and a session object is an instantiation of this"
   ]
  },
  {
   "cell_type": "code",
   "execution_count": 22,
   "id": "d12fff4f",
   "metadata": {},
   "outputs": [
    {
     "name": "stdout",
     "output_type": "stream",
     "text": [
      "2021-06-10 16:40:36,979 INFO sqlalchemy.engine.Engine BEGIN (implicit)\n",
      "2021-06-10 16:40:36,981 INFO sqlalchemy.engine.Engine PRAGMA main.table_info(\"customers\")\n",
      "2021-06-10 16:40:36,983 INFO sqlalchemy.engine.Engine [raw sql] ()\n",
      "2021-06-10 16:40:36,985 INFO sqlalchemy.engine.Engine PRAGMA temp.table_info(\"customers\")\n",
      "2021-06-10 16:40:36,987 INFO sqlalchemy.engine.Engine [raw sql] ()\n",
      "2021-06-10 16:40:36,989 INFO sqlalchemy.engine.Engine \n",
      "CREATE TABLE customers (\n",
      "\tid INTEGER NOT NULL, \n",
      "\tname VARCHAR, \n",
      "\taddress VARCHAR, \n",
      "\temail VARCHAR, \n",
      "\tPRIMARY KEY (id)\n",
      ")\n",
      "\n",
      "\n",
      "2021-06-10 16:40:36,991 INFO sqlalchemy.engine.Engine [no key 0.00182s] ()\n",
      "2021-06-10 16:40:37,000 INFO sqlalchemy.engine.Engine COMMIT\n"
     ]
    }
   ],
   "source": [
    "# Create engine that describes database\n",
    "engine = create_engine(\n",
    "    os.path.join('sqlite:///', SALES_DB_PATH),\n",
    "    echo = True\n",
    ")\n",
    "Base = declarative_base()\n",
    "\n",
    "class Customers(Base):\n",
    "   __tablename__ = 'customers'\n",
    "   id = Column(Integer, primary_key=True)\n",
    "\n",
    "   name = Column(String)\n",
    "   address = Column(String)\n",
    "   email = Column(String)\n",
    "\n",
    "# Uses metadata of declarative base to turn engine into source of connection\n",
    "# Issues create table statements for tables that don't yet exist\n",
    "Base.metadata.create_all(engine)"
   ]
  },
  {
   "cell_type": "markdown",
   "id": "2b1fb73e",
   "metadata": {},
   "source": [
    "Now create a session"
   ]
  },
  {
   "cell_type": "code",
   "execution_count": 23,
   "id": "078098bc",
   "metadata": {},
   "outputs": [],
   "source": [
    "Session = sessionmaker(bind=engine)\n",
    "session = Session()"
   ]
  },
  {
   "cell_type": "markdown",
   "id": "7a67d9a4",
   "metadata": {},
   "source": [
    "**Adding Objects:** Equivalent to inserting rows\n",
    "- Instantiate an instance of mapped class and call `add()` method on session\n",
    "- Transactions are pending until flushed using `commit()` method on session"
   ]
  },
  {
   "cell_type": "code",
   "execution_count": 24,
   "id": "31a594e4",
   "metadata": {},
   "outputs": [
    {
     "name": "stdout",
     "output_type": "stream",
     "text": [
      "2021-06-10 16:40:37,042 INFO sqlalchemy.engine.Engine BEGIN (implicit)\n",
      "2021-06-10 16:40:37,044 INFO sqlalchemy.engine.Engine INSERT INTO customers (name, address, email) VALUES (?, ?, ?)\n",
      "2021-06-10 16:40:37,045 INFO sqlalchemy.engine.Engine [generated in 0.00112s] ('Ravi Kumar', 'Station Road Nanded', 'ravi@gmail.com')\n",
      "2021-06-10 16:40:37,050 INFO sqlalchemy.engine.Engine COMMIT\n"
     ]
    }
   ],
   "source": [
    "# Add row to customers table\n",
    "c1 = Customers(\n",
    "    name = 'Ravi Kumar',\n",
    "    address = 'Station Road Nanded',\n",
    "    email = 'ravi@gmail.com'\n",
    ")\n",
    "session.add(c1)\n",
    "session.commit()"
   ]
  },
  {
   "cell_type": "code",
   "execution_count": 25,
   "id": "d2f7f6b5",
   "metadata": {},
   "outputs": [
    {
     "name": "stdout",
     "output_type": "stream",
     "text": [
      "2021-06-10 16:40:37,073 INFO sqlalchemy.engine.Engine BEGIN (implicit)\n",
      "2021-06-10 16:40:37,074 INFO sqlalchemy.engine.Engine INSERT INTO customers (name, address, email) VALUES (?, ?, ?)\n",
      "2021-06-10 16:40:37,075 INFO sqlalchemy.engine.Engine [cached since 0.03123s ago] ('Komal Pande', 'Koti, Hyderabad', 'komal@gmail.com')\n",
      "2021-06-10 16:40:37,078 INFO sqlalchemy.engine.Engine INSERT INTO customers (name, address, email) VALUES (?, ?, ?)\n",
      "2021-06-10 16:40:37,079 INFO sqlalchemy.engine.Engine [cached since 0.03515s ago] ('Rajender Nath', 'Sector 40, Gurgaon', 'nath@gmail.com')\n",
      "2021-06-10 16:40:37,081 INFO sqlalchemy.engine.Engine INSERT INTO customers (name, address, email) VALUES (?, ?, ?)\n",
      "2021-06-10 16:40:37,081 INFO sqlalchemy.engine.Engine [cached since 0.03746s ago] ('S.M.Krishna', 'Budhwar Peth, Pune', 'smk@gmail.com')\n",
      "2021-06-10 16:40:37,083 INFO sqlalchemy.engine.Engine COMMIT\n"
     ]
    }
   ],
   "source": [
    "# Can add multiple at once by passing list\n",
    "session.add_all([\n",
    "   Customers(name = 'Komal Pande', address = 'Koti, Hyderabad', email = 'komal@gmail.com'), \n",
    "   Customers(name = 'Rajender Nath', address = 'Sector 40, Gurgaon', email = 'nath@gmail.com'), \n",
    "   Customers(name = 'S.M.Krishna', address = 'Budhwar Peth, Pune', email = 'smk@gmail.com')]\n",
    ")\n",
    "session.commit()"
   ]
  },
  {
   "cell_type": "markdown",
   "id": "bec1ce81",
   "metadata": {},
   "source": [
    "### Basic Select Statements\n",
    "\n",
    "**Query:** SELECT statements are generated by query objects\n",
    "- Query objects can be generated by `query(<mappedClass>)` method on Session\n",
    "- Or by instantiating `Query` class directly through `Query(<mappedClass>, <session>)`\n",
    "- Limit columns by passing specific column attributes as argument of `query()`\n",
    "- Rename columns using `label()` method on columns\n",
    "- Can call `str(<query>)` to get equivalent SQL statement\n",
    "- Convert to equivalent Core Select object via `statement` attribute\n",
    "\n",
    "**Accessing Results:**\n",
    "- *Directly:* Query objects are iterable with items corresponding to rows\n",
    "    - If whole MappedClass selected in query then items are mappedClass instances\n",
    "    - If individual columns selected then items are of column dtype (can still be accessed like a dict with column name)\n",
    "    - I think the query is only run against the database when iteration starts?\n",
    "- *`all`:* Method on query object that runs the query and returns list of results\n",
    "    - Valuable because it gives snapshot of query run that is stored - accessing directly from query object multiple times is inefficient and results may change\n",
    "- *Get:* Quickly retrieve row from Query object by primary key using `get(<primary_key>)` method"
   ]
  },
  {
   "cell_type": "code",
   "execution_count": 26,
   "id": "6488256f",
   "metadata": {},
   "outputs": [
    {
     "name": "stdout",
     "output_type": "stream",
     "text": [
      "Equivalent SQL\n",
      "--------------\n",
      "SELECT customers.id AS customers_id, customers.name AS customers_name, customers.address AS customers_address, customers.email AS customers_email \n",
      "FROM customers\n",
      "\n",
      "2021-06-10 16:40:37,111 INFO sqlalchemy.engine.Engine BEGIN (implicit)\n",
      "2021-06-10 16:40:37,113 INFO sqlalchemy.engine.Engine SELECT customers.id AS customers_id, customers.name AS customers_name, customers.address AS customers_address, customers.email AS customers_email \n",
      "FROM customers\n",
      "2021-06-10 16:40:37,114 INFO sqlalchemy.engine.Engine [generated in 0.00106s] ()\n",
      "id:  1 , name:  Ravi Kumar , address:  Station Road Nanded , email:  ravi@gmail.com\n",
      "id:  2 , name:  Komal Pande , address:  Koti, Hyderabad , email:  komal@gmail.com\n",
      "id:  3 , name:  Rajender Nath , address:  Sector 40, Gurgaon , email:  nath@gmail.com\n",
      "id:  4 , name:  S.M.Krishna , address:  Budhwar Peth, Pune , email:  smk@gmail.com\n"
     ]
    }
   ],
   "source": [
    "# Select all\n",
    "q = session.query(Customers)\n",
    "print('Equivalent SQL')\n",
    "print('--------------')\n",
    "print(str(q))\n",
    "print('')\n",
    "\n",
    "# Print results\n",
    "for row in q:\n",
    "    print('id: ', row.id, ', name: ', row.name, ', address: ', row.address, ', email: ', row.email)"
   ]
  },
  {
   "cell_type": "code",
   "execution_count": 27,
   "id": "f4ebd44c",
   "metadata": {},
   "outputs": [
    {
     "name": "stdout",
     "output_type": "stream",
     "text": [
      "Equivalent SQL\n",
      "--------------\n",
      "SELECT customers.id AS customers_id, customers.name AS full_name \n",
      "FROM customers\n",
      "\n",
      "2021-06-10 16:40:37,148 INFO sqlalchemy.engine.Engine SELECT customers.id AS customers_id, customers.name AS full_name \n",
      "FROM customers\n",
      " LIMIT ? OFFSET ?\n",
      "2021-06-10 16:40:37,151 INFO sqlalchemy.engine.Engine [generated in 0.00497s] (1, 0)\n",
      "\n",
      "First result:  (1, 'Ravi Kumar')\n",
      "Data types:  (<class 'int'>, <class 'str'>)\n"
     ]
    }
   ],
   "source": [
    "# Limit columns\n",
    "q = session.query(\n",
    "    Customers.id,\n",
    "    Customers.name.label('full_name')\n",
    ")\n",
    "print('Equivalent SQL')\n",
    "print('--------------')\n",
    "print(str(q))\n",
    "print('')\n",
    "\n",
    "result = q.first()\n",
    "print('\\nFirst result: ', result)\n",
    "print('Data types: ', (type(result.id), type(result.full_name)))"
   ]
  },
  {
   "cell_type": "code",
   "execution_count": 28,
   "id": "0dcd7926",
   "metadata": {},
   "outputs": [
    {
     "name": "stdout",
     "output_type": "stream",
     "text": [
      "Query is run now:\n",
      "2021-06-10 16:40:37,171 INFO sqlalchemy.engine.Engine SELECT customers.id AS customers_id, customers.name AS customers_name, customers.address AS customers_address, customers.email AS customers_email \n",
      "FROM customers\n",
      "2021-06-10 16:40:37,175 INFO sqlalchemy.engine.Engine [cached since 0.06262s ago] ()\n",
      "\n",
      "Results are printed now:\n",
      "id:  1 , name:  Ravi Kumar , address:  Station Road Nanded , email:  ravi@gmail.com\n",
      "id:  2 , name:  Komal Pande , address:  Koti, Hyderabad , email:  komal@gmail.com\n",
      "id:  3 , name:  Rajender Nath , address:  Sector 40, Gurgaon , email:  nath@gmail.com\n",
      "id:  4 , name:  S.M.Krishna , address:  Budhwar Peth, Pune , email:  smk@gmail.com\n"
     ]
    }
   ],
   "source": [
    "# Run query and store results in list\n",
    "q = session.query(Customers)\n",
    "print('Query is run now:')\n",
    "result = q.all()\n",
    "print('\\nResults are printed now:')\n",
    "\n",
    "# Print results\n",
    "for row in result:\n",
    "    print('id: ', row.id, ', name: ', row.name, ', address: ', row.address, ', email: ', row.email)"
   ]
  },
  {
   "cell_type": "code",
   "execution_count": 29,
   "id": "8fc63ecf",
   "metadata": {},
   "outputs": [
    {
     "name": "stdout",
     "output_type": "stream",
     "text": [
      "SELECT customers.id AS customers_id, customers.name AS customers_name, customers.address AS customers_address, customers.email AS customers_email \n",
      "FROM customers\n",
      "\n",
      "2021-06-10 16:40:37,200 INFO sqlalchemy.engine.Engine SELECT customers.id AS customers_id, customers.name AS customers_name, customers.address AS customers_address, customers.email AS customers_email \n",
      "FROM customers\n",
      "2021-06-10 16:40:37,204 INFO sqlalchemy.engine.Engine [cached since 0.0913s ago] ()\n"
     ]
    }
   ],
   "source": [
    "# Alternative syntax\n",
    "q = Query(Customers, session)\n",
    "print(str(q))\n",
    "print('')\n",
    "\n",
    "result = q.all()"
   ]
  },
  {
   "cell_type": "code",
   "execution_count": 30,
   "id": "f0705e30",
   "metadata": {},
   "outputs": [
    {
     "data": {
      "text/plain": [
       "sqlalchemy.sql.selectable.Select"
      ]
     },
     "execution_count": 30,
     "metadata": {},
     "output_type": "execute_result"
    }
   ],
   "source": [
    "# Equivalent Select object\n",
    "q = session.query(Customers)\n",
    "type(q.statement)"
   ]
  },
  {
   "cell_type": "code",
   "execution_count": 31,
   "id": "eb8909e8",
   "metadata": {},
   "outputs": [
    {
     "name": "stdout",
     "output_type": "stream",
     "text": [
      "Name:  Komal Pande\n"
     ]
    }
   ],
   "source": [
    "# Customer with id = 2\n",
    "q = session.query(Customers)\n",
    "result = q.get(2)\n",
    "print('Name: ', result.name)"
   ]
  },
  {
   "cell_type": "markdown",
   "id": "38948fe4",
   "metadata": {},
   "source": [
    "### WHERE Clauses\n",
    "\n",
    "**Filters:** WHERE clauses are applying using `filter(<cond>)` method on query objects\n",
    "- Columns are referenced using corresponding attribute of class\n",
    "- `str(<query>)` doesn't show specific values - access by converting to Core Select object and using `.compile().params`\n",
    "\n",
    "**Filter Operators:** Apply to columns in `filter`\n",
    "- Ex: `.like()`, `.in_(<list>)`, `or_(<cond1>, <cond2>)`, `and_(<cond1>, <cond2>)` (the `and_` is actually unnecessary, can just separate conditions with commas in `filter()`)"
   ]
  },
  {
   "cell_type": "code",
   "execution_count": 32,
   "id": "6d344640",
   "metadata": {},
   "outputs": [
    {
     "name": "stdout",
     "output_type": "stream",
     "text": [
      "Equivalent SQL\n",
      "--------------\n",
      "SELECT customers.id AS customers_id, customers.name AS customers_name, customers.address AS customers_address, customers.email AS customers_email \n",
      "FROM customers \n",
      "WHERE customers.id > ?\n",
      "\n",
      "Params:  {'id_1': 2}\n"
     ]
    }
   ],
   "source": [
    "# Rows with id > 2\n",
    "q = session.query(Customers).filter(Customers.id > 2)\n",
    "print('Equivalent SQL')\n",
    "print('--------------')\n",
    "print(str(q))\n",
    "print('')\n",
    "print('Params: ', q.statement.compile().params)"
   ]
  },
  {
   "cell_type": "code",
   "execution_count": 33,
   "id": "eb12fcc6",
   "metadata": {},
   "outputs": [
    {
     "name": "stdout",
     "output_type": "stream",
     "text": [
      "SELECT customers.id AS customers_id, customers.name AS customers_name, customers.address AS customers_address, customers.email AS customers_email \n",
      "FROM customers \n",
      "WHERE customers.id > ? AND customers.name LIKE ?\n"
     ]
    }
   ],
   "source": [
    "# Query with AND condition\n",
    "q = session.query(Customers).filter(\n",
    "    Customers.id>2,\n",
    "    Customers.name.like('Ra%')\n",
    ")\n",
    "print(str(q))"
   ]
  },
  {
   "cell_type": "code",
   "execution_count": 34,
   "id": "238f8767",
   "metadata": {},
   "outputs": [
    {
     "name": "stdout",
     "output_type": "stream",
     "text": [
      "SELECT customers.id AS customers_id, customers.name AS customers_name, customers.address AS customers_address, customers.email AS customers_email \n",
      "FROM customers \n",
      "WHERE customers.id > ? AND customers.name LIKE ?\n"
     ]
    }
   ],
   "source": [
    "# Equivalent formulation\n",
    "q = session.query(Customers).filter(and_(\n",
    "    Customers.id>2,\n",
    "    Customers.name.like('Ra%')\n",
    "))\n",
    "print(str(q))"
   ]
  },
  {
   "cell_type": "markdown",
   "id": "ecf4c92a",
   "metadata": {},
   "source": [
    "### Textual SQL\n",
    "\n",
    "**TextClauses in ORM:** Apply `TextClause`s from Core to Query objects flexibly\n",
    "- Can apply using `from_statement` method on Query object\n",
    "- `filter` can automatically translate into WHERE clause - this way specific values are stores in `str(<query>)`\n",
    "- Bind parameters using colon syntax and `params()` method on Query object"
   ]
  },
  {
   "cell_type": "code",
   "execution_count": 35,
   "id": "d6e295dc",
   "metadata": {},
   "outputs": [
    {
     "name": "stdout",
     "output_type": "stream",
     "text": [
      "Query SQL:  SELECT * FROM customers\n",
      "\n",
      "2021-06-10 16:40:37,324 INFO sqlalchemy.engine.Engine SELECT * FROM customers\n",
      "2021-06-10 16:40:37,332 INFO sqlalchemy.engine.Engine [generated in 0.00853s] ()\n",
      "\n",
      "First result name:  Ravi Kumar\n"
     ]
    }
   ],
   "source": [
    "# Select all and display first result\n",
    "stmt = text('SELECT * FROM customers')\n",
    "q = session.query(Customers).from_statement(stmt)\n",
    "print('Query SQL: ', str(q))\n",
    "print('')\n",
    "\n",
    "result = q.first()\n",
    "print('')\n",
    "print('First result name: ', result.name)"
   ]
  },
  {
   "cell_type": "code",
   "execution_count": 36,
   "id": "876c06af",
   "metadata": {},
   "outputs": [
    {
     "name": "stdout",
     "output_type": "stream",
     "text": [
      "Query SQL\n",
      "---------\n",
      "SELECT customers.id AS customers_id, customers.name AS customers_name, customers.address AS customers_address, customers.email AS customers_email \n",
      "FROM customers \n",
      "WHERE id == 4\n",
      "\n",
      "2021-06-10 16:40:37,385 INFO sqlalchemy.engine.Engine SELECT customers.id AS customers_id, customers.name AS customers_name, customers.address AS customers_address, customers.email AS customers_email \n",
      "FROM customers \n",
      "WHERE id == 4\n",
      "2021-06-10 16:40:37,388 INFO sqlalchemy.engine.Engine [generated in 0.00253s] ()\n",
      "\n",
      "Unique result name:  S.M.Krishna\n"
     ]
    }
   ],
   "source": [
    "# Filter with textual SQL\n",
    "q = session.query(Customers).filter(text('id == 4'))\n",
    "print('Query SQL')\n",
    "print('---------')\n",
    "print(str(q))\n",
    "print('')\n",
    "\n",
    "result = q.one() # Throws an error if more than one result\n",
    "print('')\n",
    "print('Unique result name: ', result.name)"
   ]
  },
  {
   "cell_type": "code",
   "execution_count": 37,
   "id": "059326d3",
   "metadata": {},
   "outputs": [
    {
     "name": "stdout",
     "output_type": "stream",
     "text": [
      "Query SQL\n",
      "---------\n",
      "SELECT customers.id AS customers_id, customers.name AS customers_name, customers.address AS customers_address, customers.email AS customers_email \n",
      "FROM customers \n",
      "WHERE id == ?\n",
      "\n",
      "Bound params:  {'id': 4}\n",
      "\n",
      "2021-06-10 16:40:37,410 INFO sqlalchemy.engine.Engine SELECT customers.id AS customers_id, customers.name AS customers_name, customers.address AS customers_address, customers.email AS customers_email \n",
      "FROM customers \n",
      "WHERE id == ?\n",
      "2021-06-10 16:40:37,413 INFO sqlalchemy.engine.Engine [generated in 0.00245s] (4,)\n",
      "\n",
      "Unique result name:  S.M.Krishna\n"
     ]
    }
   ],
   "source": [
    "# Filter with textual SQL and parameter binding\n",
    "q = session.query(Customers).filter(text('id == :id')).params(id = 4)\n",
    "print('Query SQL')\n",
    "print('---------')\n",
    "print(str(q))\n",
    "print('')\n",
    "\n",
    "# Print params\n",
    "print('Bound params: ', q.statement.compile().params)\n",
    "print('')\n",
    "\n",
    "result = q.one() # Throws an error if more than one result\n",
    "print('')\n",
    "print('Unique result name: ', result.name)"
   ]
  },
  {
   "cell_type": "markdown",
   "id": "57b0369f",
   "metadata": {},
   "source": [
    "### Working with Multiple Tables\n",
    "\n"
   ]
  },
  {
   "cell_type": "code",
   "execution_count": 38,
   "id": "c11ea833",
   "metadata": {},
   "outputs": [
    {
     "name": "stdout",
     "output_type": "stream",
     "text": [
      "2021-06-10 16:40:37,439 INFO sqlalchemy.engine.Engine BEGIN (implicit)\n",
      "2021-06-10 16:40:37,440 INFO sqlalchemy.engine.Engine PRAGMA main.table_info(\"customers\")\n",
      "2021-06-10 16:40:37,441 INFO sqlalchemy.engine.Engine [raw sql] ()\n",
      "2021-06-10 16:40:37,443 INFO sqlalchemy.engine.Engine PRAGMA main.table_info(\"invoices\")\n",
      "2021-06-10 16:40:37,445 INFO sqlalchemy.engine.Engine [raw sql] ()\n",
      "2021-06-10 16:40:37,447 INFO sqlalchemy.engine.Engine PRAGMA temp.table_info(\"invoices\")\n",
      "2021-06-10 16:40:37,448 INFO sqlalchemy.engine.Engine [raw sql] ()\n",
      "2021-06-10 16:40:37,450 INFO sqlalchemy.engine.Engine \n",
      "CREATE TABLE invoices (\n",
      "\tid INTEGER NOT NULL, \n",
      "\tcustid INTEGER, \n",
      "\tinvno INTEGER, \n",
      "\tamount INTEGER, \n",
      "\tPRIMARY KEY (id), \n",
      "\tFOREIGN KEY(custid) REFERENCES customers (id)\n",
      ")\n",
      "\n",
      "\n",
      "2021-06-10 16:40:37,451 INFO sqlalchemy.engine.Engine [no key 0.00080s] ()\n",
      "2021-06-10 16:40:37,455 INFO sqlalchemy.engine.Engine COMMIT\n"
     ]
    }
   ],
   "source": [
    "# Define new MappedClass\n",
    "class Invoices(Base):\n",
    "   __tablename__ = 'invoices'\n",
    "   \n",
    "   id = Column(Integer, primary_key = True)\n",
    "   custid = Column(Integer, ForeignKey('customers.id'))\n",
    "   invno = Column(Integer)\n",
    "   amount = Column(Integer)\n",
    "   customer = relationship(\"Customers\", back_populates = \"invoices\")\n",
    "\n",
    "\n",
    "# Add relationship to Customers MappedClass\n",
    "Customers.invoices = relationship(\n",
    "    \"Invoices\",\n",
    "    order_by = Invoices.id,\n",
    "    back_populates = \"customer\"\n",
    ")\n",
    "\n",
    "# Create tables that don't exist yet\n",
    "Base.metadata.create_all(engine)"
   ]
  },
  {
   "cell_type": "code",
   "execution_count": 39,
   "id": "baee34f7",
   "metadata": {},
   "outputs": [
    {
     "name": "stdout",
     "output_type": "stream",
     "text": [
      "2021-06-10 16:40:37,480 INFO sqlalchemy.engine.Engine INSERT INTO customers (name, address, email) VALUES (?, ?, ?)\n",
      "2021-06-10 16:40:37,483 INFO sqlalchemy.engine.Engine [generated in 0.00351s] ('Gopal Krishna', 'Bank Street Hydarebad', 'gk@gmail.com')\n",
      "2021-06-10 16:40:37,492 INFO sqlalchemy.engine.Engine INSERT INTO invoices (custid, invno, amount) VALUES (?, ?, ?)\n",
      "2021-06-10 16:40:37,497 INFO sqlalchemy.engine.Engine [generated in 0.00517s] (5, 10, 15000)\n",
      "2021-06-10 16:40:37,505 INFO sqlalchemy.engine.Engine INSERT INTO invoices (custid, invno, amount) VALUES (?, ?, ?)\n",
      "2021-06-10 16:40:37,506 INFO sqlalchemy.engine.Engine [cached since 0.01354s ago] (5, 14, 3850)\n",
      "2021-06-10 16:40:37,511 INFO sqlalchemy.engine.Engine COMMIT\n"
     ]
    }
   ],
   "source": [
    "# Create new customer\n",
    "c1 = Customers(\n",
    "    name = \"Gopal Krishna\",\n",
    "    address = \"Bank Street Hydarebad\",\n",
    "    email = \"gk@gmail.com\"\n",
    ")\n",
    "\n",
    "# Can create invoices for customer by passing list as invoices attribute\n",
    "c1.invoices = [\n",
    "    Invoices(invno = 10, amount = 15000),\n",
    "    Invoices(invno = 14, amount = 3850)\n",
    "]\n",
    "\n",
    "# Adding customer automatically adds invoices as well\n",
    "session.add(c1)\n",
    "session.commit()"
   ]
  },
  {
   "cell_type": "code",
   "execution_count": 40,
   "id": "a40cb13d",
   "metadata": {},
   "outputs": [
    {
     "name": "stdout",
     "output_type": "stream",
     "text": [
      "2021-06-10 16:40:37,540 INFO sqlalchemy.engine.Engine BEGIN (implicit)\n",
      "2021-06-10 16:40:37,544 INFO sqlalchemy.engine.Engine SELECT invoices.id AS invoices_id, invoices.custid AS invoices_custid, invoices.invno AS invoices_invno, invoices.amount AS invoices_amount \n",
      "FROM invoices\n",
      "2021-06-10 16:40:37,546 INFO sqlalchemy.engine.Engine [generated in 0.00242s] ()\n",
      "\n",
      "Invoices:\n",
      "id : 1 , cust_id: 5 , amount:  15000\n",
      "id : 2 , cust_id: 5 , amount:  3850\n"
     ]
    }
   ],
   "source": [
    "# Select all rows from Invoices table\n",
    "q = session.query(Invoices)\n",
    "result = q.all()\n",
    "print('\\nInvoices:')\n",
    "\n",
    "for row in result:\n",
    "    print('id :', row.id, ', cust_id:', row.custid, ', amount: ', row.amount)"
   ]
  },
  {
   "cell_type": "code",
   "execution_count": 41,
   "id": "bd51ebab",
   "metadata": {},
   "outputs": [
    {
     "name": "stdout",
     "output_type": "stream",
     "text": [
      "2021-06-10 16:40:37,569 INFO sqlalchemy.engine.Engine INSERT INTO customers (name, address, email) VALUES (?, ?, ?)\n",
      "2021-06-10 16:40:37,571 INFO sqlalchemy.engine.Engine [cached since 0.09079s ago] ('Govind Pant', 'Gulmandi Aurangabad', 'gpant@gmail.com')\n",
      "2021-06-10 16:40:37,572 INFO sqlalchemy.engine.Engine INSERT INTO customers (name, address, email) VALUES (?, ?, ?)\n",
      "2021-06-10 16:40:37,573 INFO sqlalchemy.engine.Engine [cached since 0.09323s ago] ('Govind Kala', 'Gulmandi Aurangabad', 'kala@gmail.com')\n",
      "2021-06-10 16:40:37,575 INFO sqlalchemy.engine.Engine INSERT INTO customers (name, address, email) VALUES (?, ?, ?)\n",
      "2021-06-10 16:40:37,575 INFO sqlalchemy.engine.Engine [cached since 0.0957s ago] ('Abdul Rahman', 'Rohtak', 'abdulr@gmail.com')\n",
      "2021-06-10 16:40:37,580 INFO sqlalchemy.engine.Engine INSERT INTO invoices (custid, invno, amount) VALUES (?, ?, ?)\n",
      "2021-06-10 16:40:37,584 INFO sqlalchemy.engine.Engine [cached since 0.09142s ago] (6, 3, 10000)\n",
      "2021-06-10 16:40:37,586 INFO sqlalchemy.engine.Engine INSERT INTO invoices (custid, invno, amount) VALUES (?, ?, ?)\n",
      "2021-06-10 16:40:37,587 INFO sqlalchemy.engine.Engine [cached since 0.09525s ago] (6, 4, 5000)\n",
      "2021-06-10 16:40:37,590 INFO sqlalchemy.engine.Engine INSERT INTO invoices (custid, invno, amount) VALUES (?, ?, ?)\n",
      "2021-06-10 16:40:37,592 INFO sqlalchemy.engine.Engine [cached since 0.09945s ago] (7, 7, 12000)\n",
      "2021-06-10 16:40:37,595 INFO sqlalchemy.engine.Engine INSERT INTO invoices (custid, invno, amount) VALUES (?, ?, ?)\n",
      "2021-06-10 16:40:37,597 INFO sqlalchemy.engine.Engine [cached since 0.1049s ago] (7, 8, 18500)\n",
      "2021-06-10 16:40:37,603 INFO sqlalchemy.engine.Engine INSERT INTO invoices (custid, invno, amount) VALUES (?, ?, ?)\n",
      "2021-06-10 16:40:37,604 INFO sqlalchemy.engine.Engine [cached since 0.1118s ago] (8, 9, 15000)\n",
      "2021-06-10 16:40:37,606 INFO sqlalchemy.engine.Engine INSERT INTO invoices (custid, invno, amount) VALUES (?, ?, ?)\n",
      "2021-06-10 16:40:37,607 INFO sqlalchemy.engine.Engine [cached since 0.1147s ago] (8, 11, 6000)\n",
      "2021-06-10 16:40:37,609 INFO sqlalchemy.engine.Engine COMMIT\n"
     ]
    }
   ],
   "source": [
    "# Add more rows\n",
    "rows = [\n",
    "   Customers(\n",
    "      name = \"Govind Pant\", \n",
    "      address = \"Gulmandi Aurangabad\",\n",
    "      email = \"gpant@gmail.com\",\n",
    "      invoices = [\n",
    "          Invoices(invno = 3, amount = 10000), \n",
    "          Invoices(invno = 4, amount = 5000)\n",
    "      ]\n",
    "   ),\n",
    "\n",
    "   Customers(\n",
    "      name = \"Govind Kala\", \n",
    "      address = \"Gulmandi Aurangabad\", \n",
    "      email = \"kala@gmail.com\", \n",
    "      invoices = [\n",
    "          Invoices(invno = 7, amount = 12000),\n",
    "          Invoices(invno = 8, amount = 18500)\n",
    "      ]\n",
    "   ),\n",
    "\n",
    "   Customers(\n",
    "      name = \"Abdul Rahman\", \n",
    "      address = \"Rohtak\", \n",
    "      email = \"abdulr@gmail.com\",\n",
    "      invoices = [\n",
    "          Invoices(invno = 9, amount = 15000), \n",
    "          Invoices(invno = 11, amount = 6000)\n",
    "       ]\n",
    "   )\n",
    "]\n",
    "\n",
    "session.add_all(rows)\n",
    "session.commit()"
   ]
  },
  {
   "cell_type": "markdown",
   "id": "26a8360f",
   "metadata": {},
   "source": [
    "**Implicit Join:** Pass both mapped classes to `query()` and specify join condition in `filter()`\n",
    "- If full classes are passed then items in `Query` iterable are instances of classes\n",
    "- If certain columns passed then items are objects of column datatype"
   ]
  },
  {
   "cell_type": "code",
   "execution_count": 42,
   "id": "bcb41e1b",
   "metadata": {},
   "outputs": [
    {
     "name": "stdout",
     "output_type": "stream",
     "text": [
      "Equivalent SQL\n",
      "--------------\n",
      "SELECT customers.id AS customers_id, customers.name AS customers_name, customers.address AS customers_address, customers.email AS customers_email, invoices.id AS invoices_id, invoices.custid AS invoices_custid, invoices.invno AS invoices_invno, invoices.amount AS invoices_amount \n",
      "FROM customers, invoices \n",
      "WHERE customers.id = invoices.custid\n",
      "\n",
      "2021-06-10 16:40:37,635 INFO sqlalchemy.engine.Engine BEGIN (implicit)\n",
      "2021-06-10 16:40:37,638 INFO sqlalchemy.engine.Engine SELECT customers.id AS customers_id, customers.name AS customers_name, customers.address AS customers_address, customers.email AS customers_email, invoices.id AS invoices_id, invoices.custid AS invoices_custid, invoices.invno AS invoices_invno, invoices.amount AS invoices_amount \n",
      "FROM customers, invoices \n",
      "WHERE customers.id = invoices.custid\n",
      "2021-06-10 16:40:37,640 INFO sqlalchemy.engine.Engine [generated in 0.00244s] ()\n",
      "\n",
      "First result:  (<__main__.Customers object at 0x111c12940>, <__main__.Invoices object at 0x111cf43d0>)\n",
      "\n",
      "Iterating over all results:\n",
      "ID: 5 Name: Gopal Krishna Invoice No: 10 Amount: 15000\n",
      "ID: 5 Name: Gopal Krishna Invoice No: 14 Amount: 3850\n",
      "ID: 6 Name: Govind Pant Invoice No: 3 Amount: 10000\n",
      "ID: 6 Name: Govind Pant Invoice No: 4 Amount: 5000\n",
      "ID: 7 Name: Govind Kala Invoice No: 7 Amount: 12000\n",
      "ID: 7 Name: Govind Kala Invoice No: 8 Amount: 18500\n",
      "ID: 8 Name: Abdul Rahman Invoice No: 9 Amount: 15000\n",
      "ID: 8 Name: Abdul Rahman Invoice No: 11 Amount: 6000\n"
     ]
    }
   ],
   "source": [
    "# Select * on implicit join\n",
    "q = session.query(Customers, Invoices).filter(Customers.id == Invoices.custid)\n",
    "print('Equivalent SQL')\n",
    "print('--------------')\n",
    "print(str(q))\n",
    "print('')\n",
    "\n",
    "results = q.all()\n",
    "print('')\n",
    "print('First result: ', results[0])\n",
    "\n",
    "print('\\nIterating over all results:')\n",
    "for c, i in results:\n",
    "    print('ID: {} Name: {} Invoice No: {} Amount: {}'.format(c.id,c.name, i.invno, i.amount))"
   ]
  },
  {
   "cell_type": "code",
   "execution_count": 43,
   "id": "c182dc6a",
   "metadata": {},
   "outputs": [
    {
     "name": "stdout",
     "output_type": "stream",
     "text": [
      "Equivalent SQL\n",
      "--------------\n",
      "SELECT customers.id AS customers_id, customers.name AS customers_name, invoices.invno AS invoices_invno, invoices.amount AS invoices_amount \n",
      "FROM customers, invoices \n",
      "WHERE customers.id = invoices.custid\n",
      "\n",
      "2021-06-10 16:40:37,667 INFO sqlalchemy.engine.Engine SELECT customers.id AS customers_id, customers.name AS customers_name, invoices.invno AS invoices_invno, invoices.amount AS invoices_amount \n",
      "FROM customers, invoices \n",
      "WHERE customers.id = invoices.custid\n",
      "2021-06-10 16:40:37,668 INFO sqlalchemy.engine.Engine [generated in 0.00118s] ()\n",
      "\n",
      "First result:  (5, 'Gopal Krishna', 10, 15000)\n",
      "\n",
      "Iterating over all results:\n",
      "ID: 5 Name: Gopal Krishna Invoice No: 10 Amount: 15000\n",
      "ID: 5 Name: Gopal Krishna Invoice No: 14 Amount: 3850\n",
      "ID: 6 Name: Govind Pant Invoice No: 3 Amount: 10000\n",
      "ID: 6 Name: Govind Pant Invoice No: 4 Amount: 5000\n",
      "ID: 7 Name: Govind Kala Invoice No: 7 Amount: 12000\n",
      "ID: 7 Name: Govind Kala Invoice No: 8 Amount: 18500\n",
      "ID: 8 Name: Abdul Rahman Invoice No: 9 Amount: 15000\n",
      "ID: 8 Name: Abdul Rahman Invoice No: 11 Amount: 6000\n"
     ]
    }
   ],
   "source": [
    "# Select certain columns on implicit join\n",
    "q = session.query(\n",
    "    Customers.id,\n",
    "    Customers.name,\n",
    "    Invoices.invno,\n",
    "    Invoices.amount\n",
    ").filter(Customers.id == Invoices.custid)\n",
    "print('Equivalent SQL')\n",
    "print('--------------')\n",
    "print(str(q))\n",
    "print('')\n",
    "\n",
    "results = q.all()\n",
    "print('')\n",
    "print('First result: ', results[0])\n",
    "\n",
    "print('\\nIterating over all results:')\n",
    "for row in results:\n",
    "    print('ID: {} Name: {} Invoice No: {} Amount: {}'.format(row.id, row.name, row.invno, row.amount))"
   ]
  },
  {
   "cell_type": "markdown",
   "id": "eb997998",
   "metadata": {},
   "source": [
    "**Join:** `join` method on Query object syntax `join(<mappedClass>, <cond1>)`\n",
    "- `outerjoin` method for left outer join\n",
    "- Condition can be dropped for join on foreign keys\n",
    "- Can join with Table objects from Core (see subquery below)\n",
    "- Use `select_from()` method on query to explicitly set left side of join"
   ]
  },
  {
   "cell_type": "code",
   "execution_count": 44,
   "id": "f1337596",
   "metadata": {},
   "outputs": [
    {
     "name": "stdout",
     "output_type": "stream",
     "text": [
      "SELECT customers.id AS customers_id, customers.name AS customers_name, customers.address AS customers_address, customers.email AS customers_email \n",
      "FROM customers JOIN invoices ON customers.id = invoices.custid\n"
     ]
    }
   ],
   "source": [
    "# Just select customers.\n",
    "q = session.query(Customers).join(\n",
    "    Invoices,\n",
    "    Customers.id == Invoices.custid\n",
    ")\n",
    "print(str(q))"
   ]
  },
  {
   "cell_type": "code",
   "execution_count": 45,
   "id": "2eafea30",
   "metadata": {},
   "outputs": [
    {
     "name": "stdout",
     "output_type": "stream",
     "text": [
      "SELECT customers.id AS customers_id, customers.name AS customers_name, customers.address AS customers_address, customers.email AS customers_email, invoices.id AS invoices_id, invoices.custid AS invoices_custid, invoices.invno AS invoices_invno, invoices.amount AS invoices_amount \n",
      "FROM customers JOIN invoices ON customers.id = invoices.custid\n"
     ]
    }
   ],
   "source": [
    "# Select all\n",
    "q = session.query(\n",
    "    Customers,\n",
    "    Invoices\n",
    ").join(\n",
    "    Invoices,\n",
    "    Customers.id == Invoices.custid\n",
    ")\n",
    "print(str(q))"
   ]
  },
  {
   "cell_type": "code",
   "execution_count": 46,
   "id": "7ae54836",
   "metadata": {},
   "outputs": [
    {
     "name": "stdout",
     "output_type": "stream",
     "text": [
      "SELECT customers.name AS customers_name, invoices.amount AS invoices_amount \n",
      "FROM customers LEFT OUTER JOIN invoices ON customers.id = invoices.custid\n"
     ]
    }
   ],
   "source": [
    "# Explicitly set left side of join\n",
    "q = session.query(\n",
    "    Customers.name,\n",
    "    Invoices.amount\n",
    ").select_from(\n",
    "    Customers\n",
    ").outerjoin(\n",
    "    Invoices,\n",
    "    Customers.id == Invoices.custid\n",
    ")\n",
    "print(str(q))"
   ]
  },
  {
   "cell_type": "markdown",
   "id": "dc489e55",
   "metadata": {},
   "source": [
    "**Subqueries:** Created by `subquery()` method on Query object, acts like a Table object from Core\n",
    "- Useful to combine with `alias()`"
   ]
  },
  {
   "cell_type": "code",
   "execution_count": 47,
   "id": "2184663f",
   "metadata": {},
   "outputs": [
    {
     "name": "stdout",
     "output_type": "stream",
     "text": [
      "SELECT invoices.custid, count(:count_1) AS invoice_count \n",
      "FROM invoices GROUP BY invoices.custid\n",
      "\n",
      "Table alias:  i\n"
     ]
    }
   ],
   "source": [
    "# Create subquery object - acts like a table\n",
    "sub = session.query(\n",
    "   Invoices.custid, func.count('*').label('invoice_count')\n",
    ").group_by(Invoices.custid).subquery().alias('i')\n",
    "print(str(sub))\n",
    "print('\\nTable alias: ', sub.name)"
   ]
  },
  {
   "cell_type": "code",
   "execution_count": 48,
   "id": "77489035",
   "metadata": {},
   "outputs": [
    {
     "name": "stdout",
     "output_type": "stream",
     "text": [
      "SELECT customers.id AS customers_id, customers.name AS customers_name, customers.address AS customers_address, customers.email AS customers_email, i.invoice_count AS i_invoice_count \n",
      "FROM customers LEFT OUTER JOIN (SELECT invoices.custid AS custid, count(?) AS invoice_count \n",
      "FROM invoices GROUP BY invoices.custid) AS i ON customers.id = i.custid ORDER BY customers.id\n"
     ]
    }
   ],
   "source": [
    "# Use subquery in outer query\n",
    "q = session.query(\n",
    "    Customers,\n",
    "    sub.c.invoice_count # Use syntax for Tables\n",
    ").outerjoin(\n",
    "    sub,\n",
    "    Customers.id == sub.c.custid\n",
    ").order_by(Customers.id)\n",
    "print(str(q))"
   ]
  }
 ],
 "metadata": {
  "jupytext": {
   "formats": "ipynb,auto:percent"
  },
  "kernelspec": {
   "display_name": "Python 3",
   "language": "python",
   "name": "python3"
  },
  "language_info": {
   "codemirror_mode": {
    "name": "ipython",
    "version": 3
   },
   "file_extension": ".py",
   "mimetype": "text/x-python",
   "name": "python",
   "nbconvert_exporter": "python",
   "pygments_lexer": "ipython3",
   "version": "3.9.5"
  }
 },
 "nbformat": 4,
 "nbformat_minor": 5
}
