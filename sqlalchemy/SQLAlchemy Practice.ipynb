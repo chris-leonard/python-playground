{
 "cells": [
  {
   "cell_type": "markdown",
   "id": "5982d39d",
   "metadata": {},
   "source": [
    "# SQLAlchemy Practice"
   ]
  },
  {
   "cell_type": "code",
   "execution_count": 1,
   "id": "805b2d0d",
   "metadata": {},
   "outputs": [],
   "source": [
    "# SQLAlchemy\n",
    "from sqlalchemy import create_engine\n",
    "from sqlalchemy import MetaData\n",
    "from sqlalchemy import Table, Column\n",
    "from sqlalchemy import Integer, String # datatypes\n",
    "from sqlalchemy import ForeignKey\n",
    "\n",
    "from sqlalchemy import and_, or_, asc, desc, between # conjunctions\n",
    "from sqlalchemy import text # for textual statements\n",
    "\n",
    "from sqlalchemy.sql import select \n",
    "from sqlalchemy.sql import alias # represents 'as' in sql\n",
    "from sqlalchemy.sql import func # standard sql functions\n",
    "\n",
    "# Misc\n",
    "import os"
   ]
  },
  {
   "cell_type": "markdown",
   "id": "1058a010",
   "metadata": {},
   "source": [
    "**SQLAlchemy** is a Python toolkit for dealing with databases. It has two ways of interacting with them.\n",
    "\n",
    "**SQLAlchemy Core:** Uses SQL Expression Language that provides schema-centric usage paradigm\n",
    "- **SQL Expression Language** allows you represent structures in a relational database using Python\n",
    "- You can specify SQL statements in Python and use it directly\n",
    "- This is the closest part to raw SQL in SQLAlchemy\n",
    "\n",
    "**SQLAlchemy ORM:** Allows classes to be mapped to tables in the database to provide domain-centric usage."
   ]
  },
  {
   "cell_type": "markdown",
   "id": "a51ddfaf",
   "metadata": {},
   "source": [
    "## Resources\n",
    "\n",
    "Quick Guide: https://www.tutorialspoint.com/sqlalchemy/sqlalchemy_quick_guide.htm"
   ]
  },
  {
   "cell_type": "markdown",
   "id": "ae879743",
   "metadata": {},
   "source": [
    "## SQLAlchemy Core\n",
    "\n",
    "### Connecting to Database\n",
    "\n",
    "**Engine:** Class that provides a source of database connectivity and behaviour.\n",
    "\n",
    "**MetaData:** A collection of *Table* objects and associated schema constructs\n",
    "- Has an optional binding to an engine"
   ]
  },
  {
   "cell_type": "code",
   "execution_count": 2,
   "id": "7321aac6",
   "metadata": {},
   "outputs": [
    {
     "name": "stdout",
     "output_type": "stream",
     "text": [
      "2021-06-09 16:44:48,441 INFO sqlalchemy.engine.Engine BEGIN (implicit)\n",
      "2021-06-09 16:44:48,442 INFO sqlalchemy.engine.Engine PRAGMA main.table_info(\"students\")\n",
      "2021-06-09 16:44:48,443 INFO sqlalchemy.engine.Engine [raw sql] ()\n",
      "2021-06-09 16:44:48,444 INFO sqlalchemy.engine.Engine PRAGMA temp.table_info(\"students\")\n",
      "2021-06-09 16:44:48,445 INFO sqlalchemy.engine.Engine [raw sql] ()\n",
      "2021-06-09 16:44:48,447 INFO sqlalchemy.engine.Engine \n",
      "CREATE TABLE students (\n",
      "\tid INTEGER NOT NULL, \n",
      "\tname VARCHAR, \n",
      "\tlastname VARCHAR, \n",
      "\tPRIMARY KEY (id)\n",
      ")\n",
      "\n",
      "\n",
      "2021-06-09 16:44:48,448 INFO sqlalchemy.engine.Engine [no key 0.00069s] ()\n",
      "2021-06-09 16:44:48,450 INFO sqlalchemy.engine.Engine COMMIT\n"
     ]
    }
   ],
   "source": [
    "# Define local sqlite database to be hosted in repo\n",
    "# Different syntax for different database types\n",
    "engine = create_engine('sqlite:///college.db', echo = True) # echo sets up SQLAlchemy logging - print SQL used\n",
    "meta = MetaData()\n",
    "\n",
    "# Define table\n",
    "students = Table(\n",
    "   'students', meta, \n",
    "   Column('id', Integer, primary_key = True), \n",
    "   Column('name', String), \n",
    "   Column('lastname', String), \n",
    ")\n",
    "\n",
    "# Use engine object to create table and other objects and store info in metadata\n",
    "# This creates the local database\n",
    "meta.create_all(engine)"
   ]
  },
  {
   "cell_type": "markdown",
   "id": "8d4e7f82",
   "metadata": {},
   "source": [
    "**SQL expressions:** Constructed by using methods on tables\n",
    "- Print corresponding SQL code using `str(<exp>)`\n",
    "\n",
    "**Connection:** Represents an active *DBAPI* (Python Database API) connection\n",
    "- Run expressions by passing to `execute(<exp>)` method on connection\n",
    "- This also returns `ResultProxy` object that holds information"
   ]
  },
  {
   "cell_type": "code",
   "execution_count": 3,
   "id": "5cb574c0",
   "metadata": {},
   "outputs": [
    {
     "name": "stdout",
     "output_type": "stream",
     "text": [
      "INSERT INTO students (name, lastname) VALUES (:name, :lastname)\n",
      "{'name': 'Ravi', 'lastname': 'Kapoor'}\n"
     ]
    }
   ],
   "source": [
    "# Insert expression\n",
    "ins = students.insert().values(name = 'Ravi', lastname = 'Kapoor')\n",
    "\n",
    "# Equivalent SQL insert statement (without specific values)\n",
    "print(str(ins))\n",
    "\n",
    "# Specific values are stored in bind parameter which is visible in compiled form\n",
    "print(ins.compile().params)"
   ]
  },
  {
   "cell_type": "code",
   "execution_count": 4,
   "id": "da6a7c1a",
   "metadata": {},
   "outputs": [
    {
     "name": "stdout",
     "output_type": "stream",
     "text": [
      "2021-06-09 16:44:48,478 INFO sqlalchemy.engine.Engine INSERT INTO students (name, lastname) VALUES (?, ?)\n",
      "2021-06-09 16:44:48,481 INFO sqlalchemy.engine.Engine [generated in 0.00249s] ('Ravi', 'Kapoor')\n",
      "2021-06-09 16:44:48,483 INFO sqlalchemy.engine.Engine COMMIT\n",
      "{'name': 'Ravi', 'lastname': 'Kapoor'}\n"
     ]
    }
   ],
   "source": [
    "# Create connection to database\n",
    "conn = engine.connect()\n",
    "result = conn.execute(ins)\n",
    "\n",
    "# Check last set of params inserted\n",
    "print(result.last_inserted_params())"
   ]
  },
  {
   "cell_type": "code",
   "execution_count": 5,
   "id": "9742985c",
   "metadata": {},
   "outputs": [
    {
     "name": "stdout",
     "output_type": "stream",
     "text": [
      "2021-06-09 16:44:48,503 INFO sqlalchemy.engine.Engine INSERT INTO students (name, lastname) VALUES (?, ?)\n",
      "2021-06-09 16:44:48,505 INFO sqlalchemy.engine.Engine [generated in 0.00198s] (('Rajiv', 'Khanna'), ('Komal', 'Bhandari'), ('Abdul', 'Sattar'), ('Priya', 'Rajhans'))\n",
      "2021-06-09 16:44:48,507 INFO sqlalchemy.engine.Engine COMMIT\n"
     ]
    }
   ],
   "source": [
    "# Can insert many rows at once by passing list of dictionaries\n",
    "conn.execute(students.insert(), [\n",
    "   {'name':'Rajiv', 'lastname' : 'Khanna'},\n",
    "   {'name':'Komal','lastname' : 'Bhandari'},\n",
    "   {'name':'Abdul','lastname' : 'Sattar'},\n",
    "   {'name':'Priya','lastname' : 'Rajhans'},\n",
    "]);"
   ]
  },
  {
   "cell_type": "markdown",
   "id": "b82873d0",
   "metadata": {},
   "source": [
    "### Basic Select Statements\n",
    "\n",
    "**Select:** Either a method on table or function with table as argument\n",
    "- Limit columns by passing specific columns as argument of `select()` function\n",
    "- Columns referenced using `<table>.c.<column>` (`c` is an alias for 'column')\n",
    "- Rename columns using `.label()` method on columns in `select`\n",
    "\n",
    "**ResultProxy:** Object returned by executing select\n",
    "- Is iterable with items corresponding to rows\n",
    "- Has other methods for accessing results: `fetchone()`, `fetchall()`,..."
   ]
  },
  {
   "cell_type": "code",
   "execution_count": 6,
   "id": "c6937d13",
   "metadata": {},
   "outputs": [
    {
     "name": "stdout",
     "output_type": "stream",
     "text": [
      "Equivalent SQL\n",
      "--------------\n",
      "SELECT students.id, students.name, students.lastname \n",
      "FROM students \n",
      "\n",
      "2021-06-09 16:44:48,526 INFO sqlalchemy.engine.Engine SELECT students.id, students.name, students.lastname \n",
      "FROM students\n",
      "2021-06-09 16:44:48,528 INFO sqlalchemy.engine.Engine [generated in 0.00190s] ()\n",
      "\n",
      "(1, 'Ravi', 'Kapoor')\n",
      "(2, 'Rajiv', 'Khanna')\n",
      "(3, 'Komal', 'Bhandari')\n",
      "(4, 'Abdul', 'Sattar')\n",
      "(5, 'Priya', 'Rajhans')\n"
     ]
    }
   ],
   "source": [
    "# Select all\n",
    "s = students.select()\n",
    "print('Equivalent SQL')\n",
    "print('--------------')\n",
    "print(str(s), '\\n')\n",
    "\n",
    "# Run expression\n",
    "result = conn.execute(s)\n",
    "print('')\n",
    "\n",
    "for row in result:\n",
    "    print(row)"
   ]
  },
  {
   "cell_type": "code",
   "execution_count": 7,
   "id": "65a0d30c",
   "metadata": {},
   "outputs": [
    {
     "name": "stdout",
     "output_type": "stream",
     "text": [
      "Equivalent SQL\n",
      "--------------\n",
      "SELECT students.id, students.name, students.lastname \n",
      "FROM students \n",
      "\n",
      "2021-06-09 16:44:48,549 INFO sqlalchemy.engine.Engine SELECT students.id, students.name, students.lastname \n",
      "FROM students\n",
      "2021-06-09 16:44:48,553 INFO sqlalchemy.engine.Engine [cached since 0.02705s ago] ()\n"
     ]
    },
    {
     "data": {
      "text/plain": [
       "[(1, 'Ravi', 'Kapoor'),\n",
       " (2, 'Rajiv', 'Khanna'),\n",
       " (3, 'Komal', 'Bhandari'),\n",
       " (4, 'Abdul', 'Sattar'),\n",
       " (5, 'Priya', 'Rajhans')]"
      ]
     },
     "execution_count": 7,
     "metadata": {},
     "output_type": "execute_result"
    }
   ],
   "source": [
    "# Alternative syntax\n",
    "s = select(students)\n",
    "print('Equivalent SQL')\n",
    "print('--------------')\n",
    "print(str(s), '\\n')\n",
    "\n",
    "# Run expression\n",
    "result = conn.execute(s)\n",
    "result.fetchall()"
   ]
  },
  {
   "cell_type": "code",
   "execution_count": 8,
   "id": "80d4a694",
   "metadata": {},
   "outputs": [
    {
     "name": "stdout",
     "output_type": "stream",
     "text": [
      "Equivalent SQL\n",
      "--------------\n",
      "SELECT students.name, students.lastname AS surname \n",
      "FROM students \n",
      "\n",
      "2021-06-09 16:44:48,585 INFO sqlalchemy.engine.Engine SELECT students.name, students.lastname AS surname \n",
      "FROM students\n",
      "2021-06-09 16:44:48,590 INFO sqlalchemy.engine.Engine [generated in 0.00481s] ()\n"
     ]
    },
    {
     "data": {
      "text/plain": [
       "[('Ravi', 'Kapoor'),\n",
       " ('Rajiv', 'Khanna'),\n",
       " ('Komal', 'Bhandari'),\n",
       " ('Abdul', 'Sattar'),\n",
       " ('Priya', 'Rajhans')]"
      ]
     },
     "execution_count": 8,
     "metadata": {},
     "output_type": "execute_result"
    }
   ],
   "source": [
    "# Specific columns\n",
    "s = select(\n",
    "    students.c.name, \n",
    "    students.c.lastname.label('surname')\n",
    ")\n",
    "print('Equivalent SQL')\n",
    "print('--------------')\n",
    "print(str(s), '\\n')\n",
    "\n",
    "# Run expression\n",
    "result = conn.execute(s)\n",
    "result.fetchall()"
   ]
  },
  {
   "cell_type": "markdown",
   "id": "02321016",
   "metadata": {},
   "source": [
    "### Where Clauses\n",
    "\n",
    "**Where:** Use `.where()` method on `select` and pass column conditions\n",
    "- Use `where(_and(<cond1>, <cond2>))` for multiple conditions\n",
    "- Use `where(between(<col>, <val1>, <val2>)` for between"
   ]
  },
  {
   "cell_type": "code",
   "execution_count": 9,
   "id": "aa170cc4",
   "metadata": {
    "scrolled": true
   },
   "outputs": [
    {
     "name": "stdout",
     "output_type": "stream",
     "text": [
      "Equivalent SQL\n",
      "--------------\n",
      "SELECT students.id, students.name, students.lastname \n",
      "FROM students \n",
      "WHERE students.id <= :id_1 \n",
      "\n",
      "Params:  {'id_1': 3} \n",
      "\n",
      "2021-06-09 16:44:48,612 INFO sqlalchemy.engine.Engine SELECT students.id, students.name, students.lastname \n",
      "FROM students \n",
      "WHERE students.id <= ?\n",
      "2021-06-09 16:44:48,614 INFO sqlalchemy.engine.Engine [generated in 0.00178s] (3,)\n",
      "\n",
      "(1, 'Ravi', 'Kapoor')\n",
      "(2, 'Rajiv', 'Khanna')\n",
      "(3, 'Komal', 'Bhandari')\n"
     ]
    }
   ],
   "source": [
    "# Select first 3 rows\n",
    "s = students.select().where(students.c.id <= 3)\n",
    "print('Equivalent SQL')\n",
    "print('--------------')\n",
    "print(str(s), '\\n')\n",
    "\n",
    "print('Params: ', s.compile().params, '\\n')\n",
    "\n",
    "result = conn.execute(s)\n",
    "print('')\n",
    "for row in result:\n",
    "    print(row)"
   ]
  },
  {
   "cell_type": "code",
   "execution_count": 10,
   "id": "447994bb",
   "metadata": {},
   "outputs": [
    {
     "name": "stdout",
     "output_type": "stream",
     "text": [
      "Equivalent SQL\n",
      "--------------\n",
      "SELECT students.id, students.name, students.lastname \n",
      "FROM students \n",
      "WHERE students.id <= :id_1 AND students.name = :name_1 \n",
      "\n",
      "Params:  {'id_1': 3, 'name_1': 'Ravi'} \n",
      "\n",
      "2021-06-09 16:44:48,629 INFO sqlalchemy.engine.Engine SELECT students.id, students.name, students.lastname \n",
      "FROM students \n",
      "WHERE students.id <= ? AND students.name = ?\n",
      "2021-06-09 16:44:48,633 INFO sqlalchemy.engine.Engine [generated in 0.00397s] (3, 'Ravi')\n",
      "\n",
      "(1, 'Ravi', 'Kapoor')\n"
     ]
    }
   ],
   "source": [
    "# Select Ravi in first 3 rows\n",
    "s = students.select().where(\n",
    "    and_(\n",
    "        students.c.id <= 3,\n",
    "        students.c.name == 'Ravi'\n",
    "    )\n",
    ")\n",
    "print('Equivalent SQL')\n",
    "print('--------------')\n",
    "print(str(s), '\\n')\n",
    "\n",
    "print('Params: ', s.compile().params, '\\n')\n",
    "\n",
    "result = conn.execute(s)\n",
    "print('')\n",
    "for row in result:\n",
    "    print(row)"
   ]
  },
  {
   "cell_type": "code",
   "execution_count": 11,
   "id": "bcf31afb",
   "metadata": {},
   "outputs": [
    {
     "name": "stdout",
     "output_type": "stream",
     "text": [
      "Equivalent SQL\n",
      "--------------\n",
      "SELECT students.id, students.name, students.lastname \n",
      "FROM students \n",
      "WHERE students.id BETWEEN :id_1 AND :id_2 \n",
      "\n",
      "Params:  {'id_1': 2, 'id_2': 3} \n",
      "\n",
      "2021-06-09 16:44:48,662 INFO sqlalchemy.engine.Engine SELECT students.id, students.name, students.lastname \n",
      "FROM students \n",
      "WHERE students.id BETWEEN ? AND ?\n",
      "2021-06-09 16:44:48,662 INFO sqlalchemy.engine.Engine [generated in 0.00095s] (2, 3)\n",
      "\n",
      "(2, 'Rajiv', 'Khanna')\n",
      "(3, 'Komal', 'Bhandari')\n"
     ]
    }
   ],
   "source": [
    "# Select students with 2nd and 3rd ids\n",
    "s = students.select().where(\n",
    "    between(\n",
    "        students.c.id,\n",
    "        2,\n",
    "        3\n",
    "    )\n",
    ")\n",
    "\n",
    "print('Equivalent SQL')\n",
    "print('--------------')\n",
    "print(str(s), '\\n')\n",
    "\n",
    "print('Params: ', s.compile().params, '\\n')\n",
    "\n",
    "result = conn.execute(s)\n",
    "print('')\n",
    "for row in result:\n",
    "    print(row)"
   ]
  },
  {
   "cell_type": "markdown",
   "id": "feb2c1b1",
   "metadata": {},
   "source": [
    "### Textual SQL\n",
    "\n",
    "**TextClause:** Represents an SQL statement directly\n",
    "- Constructed by passing SQL query into `text(<string>)`\n",
    "- Parameters are denoted by colons and passed as kwargs into `execute()`\n",
    "- Good when SQL is known and static"
   ]
  },
  {
   "cell_type": "code",
   "execution_count": 12,
   "id": "4a53ee4c",
   "metadata": {},
   "outputs": [
    {
     "name": "stdout",
     "output_type": "stream",
     "text": [
      "2021-06-09 16:44:48,679 INFO sqlalchemy.engine.Engine SELECT * FROM students WHERE students.id <= ? AND students.name = ?\n",
      "2021-06-09 16:44:48,684 INFO sqlalchemy.engine.Engine [generated in 0.00491s] (3, 'Ravi')\n",
      "\n",
      "(1, 'Ravi', 'Kapoor')\n"
     ]
    }
   ],
   "source": [
    "s = text('SELECT * FROM students WHERE students.id <= :x AND students.name = :y')\n",
    "result = conn.execute(s, x=3, y='Ravi')\n",
    "print('')\n",
    "\n",
    "for row in result:\n",
    "    print(row)"
   ]
  },
  {
   "cell_type": "markdown",
   "id": "2776c815",
   "metadata": {},
   "source": [
    "### Some Common Operations\n",
    "\n",
    "**Alias:** Represents 'AS' in SQL statements\n",
    "- There is a difference between the name of the variable representing alias table and the alias\n",
    "\n",
    "**Order By:** Use `order_by(asc(<col>))` or `order_by(desc(<col>))` methods on select\n",
    "\n",
    "**Functions:** Standard SQL functions are accessed through `func`\n",
    "- Ex: `func.now()`, `func.count()`, `func.max()`"
   ]
  },
  {
   "cell_type": "code",
   "execution_count": 13,
   "id": "5a35b6e9",
   "metadata": {},
   "outputs": [
    {
     "name": "stdout",
     "output_type": "stream",
     "text": [
      "Original table name:  students\n",
      "Alias table name:  a\n",
      "\n",
      "2021-06-09 16:44:48,706 INFO sqlalchemy.engine.Engine SELECT a.id, a.name, a.lastname \n",
      "FROM students AS a \n",
      "WHERE a.id = ?\n",
      "2021-06-09 16:44:48,709 INFO sqlalchemy.engine.Engine [generated in 0.00305s] (1,)\n"
     ]
    },
    {
     "data": {
      "text/plain": [
       "[(1, 'Ravi', 'Kapoor')]"
      ]
     },
     "execution_count": 13,
     "metadata": {},
     "output_type": "execute_result"
    }
   ],
   "source": [
    "# Variable st represents students table aliased as 'a'\n",
    "st = students.alias('a')\n",
    "print('Original table name: ', students.name)\n",
    "print('Alias table name: ', st.name)\n",
    "print('')\n",
    "\n",
    "# Run select all against aliased table\n",
    "s = st.select().where(st.c.id == 1)\n",
    "result = conn.execute(s)\n",
    "result.fetchall()"
   ]
  },
  {
   "cell_type": "code",
   "execution_count": 14,
   "id": "7da62ee7",
   "metadata": {},
   "outputs": [
    {
     "name": "stdout",
     "output_type": "stream",
     "text": [
      "SELECT students.id, students.name, students.lastname \n",
      "FROM students ORDER BY students.name ASC\n"
     ]
    }
   ],
   "source": [
    "# Select students in alphabetical order\n",
    "s = select(students).order_by(\n",
    "    asc(students.c.name)\n",
    ")\n",
    "print(str(s))"
   ]
  },
  {
   "cell_type": "code",
   "execution_count": 15,
   "id": "26dec7b8",
   "metadata": {},
   "outputs": [
    {
     "name": "stdout",
     "output_type": "stream",
     "text": [
      "SELECT count(students.id) AS count_1 \n",
      "FROM students\n"
     ]
    }
   ],
   "source": [
    "# Count rows in table\n",
    "s = select(func.count(students.c.id))\n",
    "print(str(s))"
   ]
  },
  {
   "cell_type": "markdown",
   "id": "05e4fb61",
   "metadata": {},
   "source": [
    "### Joins"
   ]
  },
  {
   "cell_type": "code",
   "execution_count": 16,
   "id": "957c8ebd",
   "metadata": {
    "scrolled": false
   },
   "outputs": [
    {
     "name": "stdout",
     "output_type": "stream",
     "text": [
      "2021-06-09 16:44:48,766 INFO sqlalchemy.engine.Engine BEGIN (implicit)\n",
      "2021-06-09 16:44:48,769 INFO sqlalchemy.engine.Engine PRAGMA main.table_info(\"students\")\n",
      "2021-06-09 16:44:48,772 INFO sqlalchemy.engine.Engine [raw sql] ()\n",
      "2021-06-09 16:44:48,774 INFO sqlalchemy.engine.Engine PRAGMA main.table_info(\"addresses\")\n",
      "2021-06-09 16:44:48,775 INFO sqlalchemy.engine.Engine [raw sql] ()\n",
      "2021-06-09 16:44:48,778 INFO sqlalchemy.engine.Engine PRAGMA temp.table_info(\"addresses\")\n",
      "2021-06-09 16:44:48,779 INFO sqlalchemy.engine.Engine [raw sql] ()\n",
      "2021-06-09 16:44:48,781 INFO sqlalchemy.engine.Engine \n",
      "CREATE TABLE addresses (\n",
      "\tid INTEGER NOT NULL, \n",
      "\tst_id INTEGER, \n",
      "\tpostal_add VARCHAR, \n",
      "\temail_add VARCHAR, \n",
      "\tPRIMARY KEY (id), \n",
      "\tFOREIGN KEY(st_id) REFERENCES students (id)\n",
      ")\n",
      "\n",
      "\n",
      "2021-06-09 16:44:48,782 INFO sqlalchemy.engine.Engine [no key 0.00124s] ()\n",
      "2021-06-09 16:44:48,786 INFO sqlalchemy.engine.Engine COMMIT\n",
      "2021-06-09 16:44:48,791 INFO sqlalchemy.engine.Engine INSERT INTO addresses (st_id, postal_add, email_add) VALUES (?, ?, ?)\n",
      "2021-06-09 16:44:48,792 INFO sqlalchemy.engine.Engine [generated in 0.00101s] ((1, 'Shivajinagar Pune', 'ravi@gmail.com'), (1, 'ChurchGate Mumbai', 'kapoor@gmail.com'), (3, 'Jubilee Hills Hyderabad', 'komal@gmail.com'), (5, 'MG Road Bangaluru', 'as@yahoo.com'), (2, 'Cannought Place new Delhi', 'admin@khanna.com'))\n",
      "2021-06-09 16:44:48,794 INFO sqlalchemy.engine.Engine COMMIT\n"
     ]
    }
   ],
   "source": [
    "# Define new table\n",
    "addresses = Table(\n",
    "   'addresses', meta, \n",
    "   Column('id', Integer, primary_key = True), \n",
    "   Column('st_id', Integer, ForeignKey('students.id')), # Foreign key to students table\n",
    "   Column('postal_add', String), \n",
    "   Column('email_add', String)\n",
    ")\n",
    "\n",
    "# Create the table\n",
    "meta.create_all(engine)\n",
    "\n",
    "# Populate new table\n",
    "conn.execute(addresses.insert(), [\n",
    "   {'st_id':1, 'postal_add':'Shivajinagar Pune', 'email_add':'ravi@gmail.com'},\n",
    "   {'st_id':1, 'postal_add':'ChurchGate Mumbai', 'email_add':'kapoor@gmail.com'},\n",
    "   {'st_id':3, 'postal_add':'Jubilee Hills Hyderabad', 'email_add':'komal@gmail.com'},\n",
    "   {'st_id':5, 'postal_add':'MG Road Bangaluru', 'email_add':'as@yahoo.com'},\n",
    "   {'st_id':2, 'postal_add':'Cannought Place new Delhi', 'email_add':'admin@khanna.com'},\n",
    "]);"
   ]
  },
  {
   "cell_type": "markdown",
   "id": "dfc9dd66",
   "metadata": {},
   "source": [
    "The simplest way to select from multiple tables is to pass both as arguments of `select` and define join condition in `where` clause"
   ]
  },
  {
   "cell_type": "code",
   "execution_count": 17,
   "id": "b4999817",
   "metadata": {},
   "outputs": [
    {
     "name": "stdout",
     "output_type": "stream",
     "text": [
      "SELECT students.id, students.name, students.lastname, addresses.id AS id_1, addresses.st_id, addresses.postal_add, addresses.email_add \n",
      "FROM students, addresses \n",
      "WHERE students.id = addresses.st_id\n"
     ]
    }
   ],
   "source": [
    "# Select all from both joining on foreign key\n",
    "s = select(\n",
    "    students,\n",
    "    addresses\n",
    ").where(\n",
    "    students.c.id == addresses.c.st_id\n",
    ")\n",
    "print(str(s))"
   ]
  },
  {
   "cell_type": "markdown",
   "id": "b21fc8d9",
   "metadata": {},
   "source": [
    "**Join:** Method on tables\n",
    "- Use `select_from()` method on `select` to explicitly set left hand side of join\n",
    "- Can be multiple ways of phrasing\n",
    "- Just specifying table name in `select` is equivalent to all columns from that table"
   ]
  },
  {
   "cell_type": "code",
   "execution_count": 18,
   "id": "b6c5d0ae",
   "metadata": {},
   "outputs": [
    {
     "name": "stdout",
     "output_type": "stream",
     "text": [
      "students LEFT OUTER JOIN addresses ON students.id = addresses.st_id\n"
     ]
    }
   ],
   "source": [
    "# Join on its own\n",
    "j = students.join(\n",
    "    addresses,\n",
    "    students.c.id == addresses.c.st_id,\n",
    "    isouter = True # outer join - default is false\n",
    ")\n",
    "print(str(j))"
   ]
  },
  {
   "cell_type": "code",
   "execution_count": 19,
   "id": "4ae91ba3",
   "metadata": {},
   "outputs": [
    {
     "name": "stdout",
     "output_type": "stream",
     "text": [
      "SELECT students.name, students.lastname, addresses.id, addresses.st_id, addresses.postal_add, addresses.email_add \n",
      "FROM students LEFT OUTER JOIN addresses ON students.id = addresses.st_id\n"
     ]
    }
   ],
   "source": [
    "# As part of select statement\n",
    "s = select(\n",
    "    students.c.name,\n",
    "    students.c.lastname,\n",
    "    addresses\n",
    ").select_from(\n",
    "    j # equivalent to block commented code below\n",
    "    # students.join(\n",
    "    #     addresses,\n",
    "    #     students.c.id == addresses.c.st_id,\n",
    "    #     isouter=True\n",
    "    # )\n",
    ")\n",
    "print(str(s))"
   ]
  },
  {
   "cell_type": "code",
   "execution_count": 20,
   "id": "a9949619",
   "metadata": {},
   "outputs": [
    {
     "name": "stdout",
     "output_type": "stream",
     "text": [
      "SELECT students.name, students.lastname, addresses.id, addresses.st_id, addresses.postal_add, addresses.email_add \n",
      "FROM students LEFT OUTER JOIN addresses ON students.id = addresses.st_id\n"
     ]
    }
   ],
   "source": [
    "# An equivalent formulation\n",
    "s = select(\n",
    "    students.c.name,\n",
    "    students.c.lastname,\n",
    "    addresses\n",
    ").select_from(\n",
    "    students\n",
    ").join(\n",
    "    addresses,\n",
    "    students.c.id == addresses.c.st_id,\n",
    "    isouter=True\n",
    ")\n",
    "print(str(s))"
   ]
  },
  {
   "cell_type": "markdown",
   "id": "c35fcf52",
   "metadata": {},
   "source": [
    "## Reset"
   ]
  },
  {
   "cell_type": "code",
   "execution_count": 21,
   "id": "9d60a40a",
   "metadata": {},
   "outputs": [],
   "source": [
    "# # Remove database to reset everything\n",
    "# engine.dispose()\n",
    "# os.remove('college.db')"
   ]
  }
 ],
 "metadata": {
  "kernelspec": {
   "display_name": "Python 3",
   "language": "python",
   "name": "python3"
  },
  "language_info": {
   "codemirror_mode": {
    "name": "ipython",
    "version": 3
   },
   "file_extension": ".py",
   "mimetype": "text/x-python",
   "name": "python",
   "nbconvert_exporter": "python",
   "pygments_lexer": "ipython3",
   "version": "3.9.5"
  }
 },
 "nbformat": 4,
 "nbformat_minor": 5
}
