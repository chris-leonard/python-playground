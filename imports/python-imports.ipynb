{
 "cells": [
  {
   "cell_type": "markdown",
   "id": "4d949e70-00f2-40d9-ac6e-1fda9791542b",
   "metadata": {},
   "source": [
    "# Python Imports\n",
    "\n"
   ]
  },
  {
   "cell_type": "markdown",
   "id": "e6b177bc-1ec5-40fd-b4ec-eeec7ff73965",
   "metadata": {},
   "source": [
    "## Basics\n",
    "\n",
    "**Modules**\n",
    "- A *module* is a file with a `.py` extension\n",
    "- Modules can also be run as scripts\n",
    "\n",
    "**Packages**\n",
    "- *Packages* are collections of modules in a hierarchical structure\n",
    "- A package needs a `__init__.py` file for Python to recognise it as such\n",
    "- A package can have *subpackages* (which need their own `__init__.py` files\n",
    "\n",
    "**Python Standard Library**\n",
    "- Modules that come automatically with Python\n",
    "- Contains utilities to interact with the interpreter itself\n",
    "- Full list [here](https://docs.python.org/3/library/index.html)\n",
    "\n",
    "**Importing Syntax**\n",
    "- `import sys`: import the whole package/module\n",
    "- `from sys import argv, exit`: import specific objects\n",
    "- `import numpy as np`: alias the object\n",
    "- `from scipy.stats import norm`: chain subpackages/modules with dots\n",
    "- `from sys import *`: import all objects in the module\n",
    "    - *Highly discouraged:* Leads to confusion over what is imported and from where"
   ]
  },
  {
   "cell_type": "markdown",
   "id": "68237a7d-f840-46a4-967d-8fc8ad2ccf07",
   "metadata": {},
   "source": [
    "## The Search Path\n",
    "\n",
    "When importing, Python searches for the module in a list of directories in the following order:\n",
    "1. The current directory (if the interpreter is being run interactively) or the directory from which the script was run \n",
    "2. The list of directories in the `PYTHONPATH` environment variable\n",
    "3. A list of directories configured when Python is installed (or virtual environment folders)\n",
    "\n",
    "**Important:** Python will stop looking when it finds a module with the desired name. So, if there is a module in the current directory called `numpy`, Python will find and import that, not the `numpy` installed.\n",
    "\n",
    "We can access the search path through `sys.path`."
   ]
  },
  {
   "cell_type": "code",
   "execution_count": 1,
   "id": "21241939-bdbe-449b-867c-97ec41a75e29",
   "metadata": {
    "tags": []
   },
   "outputs": [
    {
     "name": "stdout",
     "output_type": "stream",
     "text": [
      "/Users/c.leonard/P/python-playground/env/bin/python: can't open file '/Users/c.leonard/P/python-playground/imports/example1/path.py': [Errno 2] No such file or directory\n"
     ]
    }
   ],
   "source": [
    "# the path.py script prints the paths in sys.path\n",
    "!python example1/path.py"
   ]
  },
  {
   "cell_type": "markdown",
   "id": "820fc2bc-892d-4940-b221-8dbf2d0ae317",
   "metadata": {},
   "source": [
    "Note that the first path is the directory containing the script."
   ]
  },
  {
   "cell_type": "code",
   "execution_count": 2,
   "id": "1db96e83-1b59-4cfd-8576-8035310aec7b",
   "metadata": {
    "tags": []
   },
   "outputs": [
    {
     "name": "stdout",
     "output_type": "stream",
     "text": [
      "\n"
     ]
    }
   ],
   "source": [
    "# by default PYTHONPATH is empty\n",
    "!echo $PYTHONPATH"
   ]
  },
  {
   "cell_type": "code",
   "execution_count": 3,
   "id": "1c8ab334-0911-4bc0-87f8-dabbbb0b819f",
   "metadata": {
    "tags": []
   },
   "outputs": [
    {
     "name": "stdout",
     "output_type": "stream",
     "text": [
      "/Users/c.leonard/P\n"
     ]
    }
   ],
   "source": [
    "# but we can add to it (separate paths with :s)\n",
    "!export PYTHONPATH=/Users/c.leonard/P$PYTHONPATH; echo $PYTHONPATH"
   ]
  },
  {
   "cell_type": "code",
   "execution_count": 4,
   "id": "7eabe940-435c-4028-910d-8bebb0bb810c",
   "metadata": {
    "tags": []
   },
   "outputs": [
    {
     "name": "stdout",
     "output_type": "stream",
     "text": [
      "/Users/c.leonard/P/python-playground/env/bin/python: can't open file '/Users/c.leonard/P/python-playground/imports/example1/path.py': [Errno 2] No such file or directory\n"
     ]
    }
   ],
   "source": [
    "# note that the PYTHONPATH is searched after the directory of the script\n",
    "!export PYTHONPATH=/Users/c.leonard/P$PYTHONPATH; python example1/path.py"
   ]
  },
  {
   "cell_type": "code",
   "execution_count": 5,
   "id": "b97ab2a7-a741-45df-baa2-74ebd8d02040",
   "metadata": {
    "tags": []
   },
   "outputs": [
    {
     "name": "stdout",
     "output_type": "stream",
     "text": [
      "/Users/c.leonard/P/python-playground/imports\n",
      "/opt/homebrew/Cellar/python@3.10/3.10.9/Frameworks/Python.framework/Versions/3.10/lib/python310.zip\n",
      "/opt/homebrew/Cellar/python@3.10/3.10.9/Frameworks/Python.framework/Versions/3.10/lib/python3.10\n",
      "/opt/homebrew/Cellar/python@3.10/3.10.9/Frameworks/Python.framework/Versions/3.10/lib/python3.10/lib-dynload\n",
      "\n",
      "/Users/c.leonard/P/python-playground/env/lib/python3.10/site-packages\n"
     ]
    }
   ],
   "source": [
    "# if we import the module its first argument is the current directory, not the module directory\n",
    "from abs_pkg import path\n",
    "\n",
    "path.print_path()"
   ]
  },
  {
   "cell_type": "markdown",
   "id": "a82d3958-006e-45c5-9d81-ec5d29954661",
   "metadata": {},
   "source": [
    "(I don't know why `''` is added to the system path in Jupyter - something to do with `JUPYTER_PATH` environment variable?)"
   ]
  },
  {
   "cell_type": "code",
   "execution_count": 6,
   "id": "26306727-4274-4f66-b49d-2296f620b83e",
   "metadata": {
    "tags": []
   },
   "outputs": [
    {
     "name": "stdout",
     "output_type": "stream",
     "text": [
      "/Users/c.leonard/P\n",
      "/Users/c.leonard/P/python-playground/imports\n",
      "/opt/homebrew/Cellar/python@3.10/3.10.9/Frameworks/Python.framework/Versions/3.10/lib/python310.zip\n",
      "/opt/homebrew/Cellar/python@3.10/3.10.9/Frameworks/Python.framework/Versions/3.10/lib/python3.10\n",
      "/opt/homebrew/Cellar/python@3.10/3.10.9/Frameworks/Python.framework/Versions/3.10/lib/python3.10/lib-dynload\n",
      "\n",
      "/Users/c.leonard/P/python-playground/env/lib/python3.10/site-packages\n"
     ]
    }
   ],
   "source": [
    "# we can add to the path\n",
    "import sys\n",
    "\n",
    "sys.path.insert(0, \"/Users/c.leonard/P\")\n",
    "path.print_path()"
   ]
  },
  {
   "cell_type": "markdown",
   "id": "28ab895b-440a-4007-b25f-74db260b1f0a",
   "metadata": {},
   "source": [
    "## Importing Your Own Files"
   ]
  },
  {
   "cell_type": "markdown",
   "id": "5b3d50c1-3f74-4cba-97ae-7bd085c491e6",
   "metadata": {},
   "source": [
    "### Absolute Imports\n",
    "\n",
    "When developing we want to import objects from elsewhere in our directory. We can specify the absolute path of imports by separating levels with dots.\n",
    "\n",
    "The `abs_pkg` directory has the following structure:\n",
    "```\n",
    "abs_pkg\n",
    "├── __init__.py\n",
    "├── path.py\n",
    "├── start.py\n",
    "├── subpkg_a\n",
    "│   ├── __init__.py\n",
    "│   └── mod_a.py\n",
    "└── subpkg_b\n",
    "    ├── __init__.py\n",
    "    └── mod_b.py\n",
    "```\n",
    "\n",
    "The modules import each other as follows:"
   ]
  },
  {
   "cell_type": "code",
   "execution_count": 7,
   "id": "5c4365bd-0c37-48c2-9a1f-94c27ea5cd20",
   "metadata": {
    "tags": []
   },
   "outputs": [
    {
     "name": "stdout",
     "output_type": "stream",
     "text": [
      "def simple_a():\n",
      "    print(\"This is simple A\")\n"
     ]
    }
   ],
   "source": [
    "# abs_pkg/subpkg_a/mod_a.py\n",
    "!cat abs_pkg/subpkg_a/mod_a.py"
   ]
  },
  {
   "cell_type": "code",
   "execution_count": 8,
   "id": "4127316c-2b6f-450f-914c-850c368ed1f0",
   "metadata": {
    "tags": []
   },
   "outputs": [
    {
     "name": "stdout",
     "output_type": "stream",
     "text": [
      "from subpkg_a.mod_a import simple_a\n",
      "\n",
      "def simple_b():\n",
      "    print(\"This is simple B\")\n",
      "    simple_a()\n"
     ]
    }
   ],
   "source": [
    "# abs_pkg/subpkg_b/mod_b.py\n",
    "!cat abs_pkg/subpkg_b/mod_b.py"
   ]
  },
  {
   "cell_type": "code",
   "execution_count": 9,
   "id": "84362884-4a0f-4eee-aae2-c0d24584adaa",
   "metadata": {
    "tags": []
   },
   "outputs": [
    {
     "name": "stdout",
     "output_type": "stream",
     "text": [
      "from subpkg_b import mod_b\n",
      "\n",
      "mod_b.simple_b()\n"
     ]
    }
   ],
   "source": [
    "# abs_pkg/start.py\n",
    "!cat abs_pkg/start.py"
   ]
  },
  {
   "cell_type": "markdown",
   "id": "01ebecfb-61b7-49da-aadb-37ad97b497b3",
   "metadata": {
    "tags": []
   },
   "source": [
    "We can run `start.py` as a script with no problems:"
   ]
  },
  {
   "cell_type": "code",
   "execution_count": 10,
   "id": "5b724a2d-ba29-4874-8f25-c2572f2dde7e",
   "metadata": {
    "tags": []
   },
   "outputs": [
    {
     "name": "stdout",
     "output_type": "stream",
     "text": [
      "This is simple B\n",
      "This is simple A\n"
     ]
    }
   ],
   "source": [
    "!python abs_pkg/start.py"
   ]
  },
  {
   "cell_type": "markdown",
   "id": "9b043bfe-2489-4ac3-b27c-8e21cfbbbd07",
   "metadata": {},
   "source": [
    "But `mod_b.py` gives us an error:"
   ]
  },
  {
   "cell_type": "code",
   "execution_count": 11,
   "id": "346e2c61-1908-4b2c-85ba-55ec23dc65f0",
   "metadata": {
    "tags": []
   },
   "outputs": [
    {
     "name": "stdout",
     "output_type": "stream",
     "text": [
      "Traceback (most recent call last):\n",
      "  File \"/Users/c.leonard/P/python-playground/imports/pkg/subpkg_b/mod_b.py\", line 1, in <module>\n",
      "    from subpkg_a.mod_a import simple_a\n",
      "ModuleNotFoundError: No module named 'subpkg_a'\n"
     ]
    }
   ],
   "source": [
    "!python abs_pkg/subpkg_b/mod_b.py"
   ]
  },
  {
   "cell_type": "markdown",
   "id": "598504e8-f8ec-4c2e-9c0f-309747ebb25b",
   "metadata": {},
   "source": [
    "We run `start.py` from the `pkg` directory, so `sys.path` starts with `\"/abs_pkg\"`. When this calls `mod_b` it finds `subpkg_a.mod_a` in the path. But when we run `mod_b.py` directly, the path starts with `\"/abs_pkg/subpkg_b/\"` so Python can't find `subpkg_a.mod_a` on the path.\n",
    "\n",
    "**Remember:** imports in Python are always relative to something (in this case `sys.path`)"
   ]
  },
  {
   "cell_type": "markdown",
   "id": "a83ab25a-382a-4b8d-93a4-374d1dd31e61",
   "metadata": {},
   "source": [
    "### Relative Imports\n",
    "\n",
    "Alternatively, we can import object from elsewhere in the package by specifying the relative path. We preface with a `.` to specify the same directory, `..` to specify the parent directory, etc.\n",
    "\n",
    "The `rel_pkg` directory has the same structure as `abs_pkg`, but with relative imports."
   ]
  },
  {
   "cell_type": "code",
   "execution_count": 20,
   "id": "2ae1f089-8209-45b6-843c-fa0436a99626",
   "metadata": {
    "tags": []
   },
   "outputs": [
    {
     "name": "stdout",
     "output_type": "stream",
     "text": [
      "from ..subpkg_a.mod_a import simple_a\n",
      "\n",
      "def simple_b():\n",
      "    print(\"This is simple B\")\n",
      "    simple_a()\n"
     ]
    }
   ],
   "source": [
    "# subpkg_b/mod_b.py\n",
    "!cat rel_pkg/subpkg_b/mod_b.py"
   ]
  },
  {
   "cell_type": "code",
   "execution_count": 24,
   "id": "2b60eca6-1b65-4197-9ece-fe8982ebf045",
   "metadata": {
    "tags": []
   },
   "outputs": [
    {
     "name": "stdout",
     "output_type": "stream",
     "text": [
      "from .subpkg_b import mod_b\n",
      "\n",
      "mod_b.simple_b()\n"
     ]
    }
   ],
   "source": [
    "# start.py\n",
    "!cat rel_pkg/start.py"
   ]
  },
  {
   "cell_type": "markdown",
   "id": "81995053-6db0-4278-bc01-e1451204d662",
   "metadata": {},
   "source": [
    "But now we get an error when we run `start.py`:"
   ]
  },
  {
   "cell_type": "code",
   "execution_count": 41,
   "id": "3e4f5dbb-bf17-4d6b-aa02-f49861487a4d",
   "metadata": {
    "tags": []
   },
   "outputs": [
    {
     "name": "stdout",
     "output_type": "stream",
     "text": [
      "Traceback (most recent call last):\n",
      "  File \"/Users/c.leonard/P/python-playground/imports/rel_pkg/start.py\", line 1, in <module>\n",
      "    from .subpkg_b import mod_b\n",
      "ImportError: attempted relative import with no known parent package\n"
     ]
    }
   ],
   "source": [
    "!python rel_pkg/start.py"
   ]
  },
  {
   "cell_type": "markdown",
   "id": "af04ce66-ab27-422e-94fe-3a3bd86590d9",
   "metadata": {},
   "source": [
    "However, we can import `start.py` with no issue:"
   ]
  },
  {
   "cell_type": "code",
   "execution_count": 43,
   "id": "ea7b1d7e-5e39-49d3-9203-558cb25e36b8",
   "metadata": {
    "tags": []
   },
   "outputs": [],
   "source": [
    "from rel_pkg import start"
   ]
  },
  {
   "cell_type": "markdown",
   "id": "27e714c0-5113-4e04-87b1-c7b3cd6b28ab",
   "metadata": {},
   "source": [
    "The issue comes from how Python loads scripts."
   ]
  },
  {
   "cell_type": "markdown",
   "id": "fed1421d-de01-46de-85c4-a3f47dbf4e42",
   "metadata": {},
   "source": [
    "## Modules vs Scripts\n",
    "\n",
    "There are two ways to load a Python file\n",
    "1. As the *top-level script*\n",
    "    - A file is loaded as the top-level script if you load it directly, e.g. via `python rel_pkg/start.py`\n",
    "    - There can only be one top-level script as a time\n",
    "    - It's `__name__` is set to `__main__`\n",
    "2. As a module\n",
    "    - A file is loaded as a module if it's imported, either in the top-level script or as part of another module\n",
    "    - It's `__name__` is set to the file name, preceded by the names of (sub)packages above it, e.g. `rel_pkg.start`"
   ]
  },
  {
   "cell_type": "code",
   "execution_count": 44,
   "id": "63c9954e-d7e9-4ef7-86cf-5db3180b61e2",
   "metadata": {
    "tags": []
   },
   "outputs": [
    {
     "data": {
      "text/plain": [
       "'__main__'"
      ]
     },
     "execution_count": 44,
     "metadata": {},
     "output_type": "execute_result"
    }
   ],
   "source": [
    "# in Jupyter the interactive interpreter is the top-level script\n",
    "__name__"
   ]
  },
  {
   "cell_type": "code",
   "execution_count": 52,
   "id": "f5797bb1-e703-4386-b1ca-c2a2fe7e79bf",
   "metadata": {
    "tags": []
   },
   "outputs": [
    {
     "data": {
      "text/plain": [
       "'pkg.subpkg_a.mod_a'"
      ]
     },
     "execution_count": 52,
     "metadata": {},
     "output_type": "execute_result"
    }
   ],
   "source": [
    "# here mod_a.py is loaded as a module\n",
    "from abs_pkg.subpkg_a import mod_a\n",
    "\n",
    "mod_a.__name__"
   ]
  },
  {
   "cell_type": "markdown",
   "id": "afd81c24-d88c-42fd-bf4c-7c46ec66b572",
   "metadata": {},
   "source": [
    "When you import a module, it's `__name__` is determined *relative to the top-level package*."
   ]
  },
  {
   "cell_type": "code",
   "execution_count": 48,
   "id": "4de1ad91-e7d4-4741-855f-0031eae47d53",
   "metadata": {
    "tags": []
   },
   "outputs": [
    {
     "name": "stdout",
     "output_type": "stream",
     "text": [
      "from subpkg_a import mod_a\n",
      "\n",
      "print(mod_a.__name__)\n"
     ]
    }
   ],
   "source": [
    "# pkg/name.py\n",
    "!cat abs_pkg/name.py"
   ]
  },
  {
   "cell_type": "code",
   "execution_count": 49,
   "id": "8c4d802f-2df0-45c2-873c-4c3e275d9fed",
   "metadata": {},
   "outputs": [
    {
     "name": "stdout",
     "output_type": "stream",
     "text": [
      "subpkg_a.mod_a\n"
     ]
    }
   ],
   "source": [
    "!python abs_pkg/name.py"
   ]
  },
  {
   "cell_type": "markdown",
   "id": "93c67186-5569-4a50-a1f4-9070ae731328",
   "metadata": {},
   "source": [
    "Note that because we imported `mod_a` in `name.py`, its name is different from when we imported it in the notebook.\n",
    "\n",
    "**If a module's name has no dots, it is not considered to be part of a package regardless of where the file actually is on disk.**\n",
    "\n",
    "Relative imports use `__name__` to determine where a file is in the package. If `__name__` contains no dots (or not enough dots), then relative imports fail. In particular, *scripts can't do relative imports*."
   ]
  },
  {
   "cell_type": "markdown",
   "id": "ae8d45ed-e7d2-42c2-b425-5480ec634f99",
   "metadata": {},
   "source": [
    "## Executing Modules as Scripts\n",
    "\n",
    "You can execute modules as scripts using `python -m file`. Note that you must omit the `.py` suffix and separate levels of the file system with `.` instead of `/`.\n",
    "\n",
    "This has a few consequences:\n",
    "- The first path in `sys.path` is set to the current directory, not the directory containing the module\n",
    "- The `__name__`s of all files are set relative to the current directory\n",
    "- Relative imports for the top-level script are determined using `__package__`, which is set relative to the current directory"
   ]
  },
  {
   "cell_type": "code",
   "execution_count": 54,
   "id": "6337035b-0bae-4136-9bb1-6124e2bde8bd",
   "metadata": {
    "tags": []
   },
   "outputs": [
    {
     "name": "stdout",
     "output_type": "stream",
     "text": [
      "/Users/c.leonard/P/python-playground/imports\n",
      "/opt/homebrew/Cellar/python@3.10/3.10.9/Frameworks/Python.framework/Versions/3.10/lib/python310.zip\n",
      "/opt/homebrew/Cellar/python@3.10/3.10.9/Frameworks/Python.framework/Versions/3.10/lib/python3.10\n",
      "/opt/homebrew/Cellar/python@3.10/3.10.9/Frameworks/Python.framework/Versions/3.10/lib/python3.10/lib-dynload\n",
      "/Users/c.leonard/P/python-playground/env/lib/python3.10/site-packages\n"
     ]
    }
   ],
   "source": [
    "# note that the first path is the current directory\n",
    "!python -m abs_pkg.path"
   ]
  },
  {
   "cell_type": "code",
   "execution_count": 65,
   "id": "14d6a56c-9f44-4eee-9624-129f5d2ecb29",
   "metadata": {
    "tags": []
   },
   "outputs": [
    {
     "name": "stdout",
     "output_type": "stream",
     "text": [
      "rel_pkg.subpkg_a.mod_a\n"
     ]
    }
   ],
   "source": [
    "# the __name__ of mod_a is relative to the current directory\n",
    "!python -m rel_pkg.name"
   ]
  },
  {
   "cell_type": "code",
   "execution_count": 57,
   "id": "0751ac6e-dc3b-4af6-9a44-8d880d1639ea",
   "metadata": {
    "tags": []
   },
   "outputs": [
    {
     "name": "stdout",
     "output_type": "stream",
     "text": [
      "This is simple B\n",
      "This is simple A\n"
     ]
    }
   ],
   "source": [
    "# relative imports now work from the top-level script\n",
    "!python -m rel_pkg.start"
   ]
  },
  {
   "cell_type": "code",
   "execution_count": 66,
   "id": "9cb2dd74-51f3-4f87-971e-390d01d68bf2",
   "metadata": {
    "tags": []
   },
   "outputs": [],
   "source": [
    "# relative imports now work from the top-level script\n",
    "!python -m rel_pkg.subpkg_b.mod_b"
   ]
  },
  {
   "cell_type": "markdown",
   "id": "ebf4adbd-750a-4109-b408-3bd8819f242e",
   "metadata": {},
   "source": [
    "## Conventions\n",
    "\n",
    "- Imports should be grouped (alphabetically within each group) in the following order, with a space between groups\n",
    "    1. Standard library imports\n",
    "    2. Related third party imports\n",
    "    3. Local application/library specific imports\n",
    "- Absolute imports are recommended over relative imports\n",
    "- See [PEP 8](https://peps.python.org/pep-0008/#imports) for details"
   ]
  },
  {
   "cell_type": "markdown",
   "id": "5aafee71-6f34-4ba9-8a2a-8844197ae243",
   "metadata": {},
   "source": [
    "## References\n",
    "\n",
    "- [Complete Guide to Imports in Python](https://www.pythonforthelab.com/blog/complete-guide-to-imports-in-python-absolute-relative-and-more/)\n",
    "- [Python Standard Library](https://docs.python.org/3/library/index.html)\n",
    "- [StackOverflow - Relative Imports](https://stackoverflow.com/questions/14132789/relative-imports-for-the-billionth-time/14132912#14132912)\n",
    "- [PEP 8](https://peps.python.org/pep-0008/)"
   ]
  },
  {
   "cell_type": "code",
   "execution_count": null,
   "id": "b32e8f42-ad49-4192-a55f-0410c241ec5f",
   "metadata": {},
   "outputs": [],
   "source": []
  }
 ],
 "metadata": {
  "kernelspec": {
   "display_name": "Python 3 (ipykernel)",
   "language": "python",
   "name": "python3"
  },
  "language_info": {
   "codemirror_mode": {
    "name": "ipython",
    "version": 3
   },
   "file_extension": ".py",
   "mimetype": "text/x-python",
   "name": "python",
   "nbconvert_exporter": "python",
   "pygments_lexer": "ipython3",
   "version": "3.10.9"
  }
 },
 "nbformat": 4,
 "nbformat_minor": 5
}
