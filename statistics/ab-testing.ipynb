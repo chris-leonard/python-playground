{
 "cells": [
  {
   "cell_type": "markdown",
   "id": "419a0ce7-c07a-4139-946e-6abc46b8a8fe",
   "metadata": {},
   "source": [
    "# A/B Testing\n",
    "\n",
    "This note will approach A/B testing and the construction of confidence intervals from 3 perspectives:\n",
    "- Frequentist\n",
    "- Bayesian\n",
    "- Emprical (via bootstrapping)"
   ]
  },
  {
   "cell_type": "markdown",
   "id": "2092a40a-5496-4a81-b25b-ce1883c46fb5",
   "metadata": {},
   "source": [
    "## Set Up"
   ]
  },
  {
   "cell_type": "markdown",
   "id": "c1ca2dac-e0bd-40bd-a36f-4be01367763f",
   "metadata": {},
   "source": [
    "### Import Packages"
   ]
  },
  {
   "cell_type": "code",
   "execution_count": 2,
   "id": "fb758dc3-99d8-42a9-b21d-fcb8776b5456",
   "metadata": {
    "tags": []
   },
   "outputs": [],
   "source": [
    "import pandas as pd\n",
    "import numpy as np\n",
    "from matplotlib import pyplot as plt\n",
    "import seaborn as sns"
   ]
  },
  {
   "cell_type": "markdown",
   "id": "f950afa1-8e07-4c53-853d-b89ed16bbc45",
   "metadata": {},
   "source": [
    "### Constants and Parameters"
   ]
  },
  {
   "cell_type": "code",
   "execution_count": 3,
   "id": "028fa822-f773-45fa-8b14-9773dae0ad54",
   "metadata": {
    "tags": []
   },
   "outputs": [],
   "source": [
    "# plotting defaults\n",
    "sns.set_theme()\n",
    "sns.set(font_scale=1.2)\n",
    "\n",
    "# test results\n",
    "GROUP_A_TRIALS = 513\n",
    "GROUP_A_SUCCESSES = 59\n",
    "\n",
    "GROUP_B_TRIALS = 2432\n",
    "GROUP_B_SUCCESSES = 364\n",
    "\n",
    "# size of confidence interval\n",
    "CONFIDENCE_LEVEL = 95"
   ]
  },
  {
   "cell_type": "markdown",
   "id": "38824f62-d6cc-4aac-99ce-c5f14cad8576",
   "metadata": {},
   "source": [
    "## Bootstrapping\n",
    "\n",
    "Improvement rate point estimate"
   ]
  },
  {
   "cell_type": "code",
   "execution_count": 4,
   "id": "d77b09a6-7a83-4ead-94e1-df62554d9120",
   "metadata": {
    "tags": []
   },
   "outputs": [],
   "source": [
    "group_a_success_rate = GROUP_A_SUCCESSES / GROUP_A_TRIALS\n",
    "group_b_success_rate = GROUP_B_SUCCESSES / GROUP_B_TRIALS\n",
    "\n",
    "improvement_rate = group_b_success_rate / group_a_success_rate - 1"
   ]
  },
  {
   "cell_type": "markdown",
   "id": "decd083c-4d88-4ba2-bd86-aea291fcde3f",
   "metadata": {},
   "source": [
    "Simulate data\n",
    "\n",
    "*To do: replace simulated data with sampling from binomial distribution*"
   ]
  },
  {
   "cell_type": "code",
   "execution_count": 5,
   "id": "a2045f95-8bfc-40df-884d-3957f351dff0",
   "metadata": {
    "tags": []
   },
   "outputs": [],
   "source": [
    "def simulate_binomial_data(n_trials, n_successes):\n",
    "    n_failures = n_trials - n_successes\n",
    "    simulated_data = np.concatenate([\n",
    "        np.ones(n_successes), np.zeros(n_failures)\n",
    "    ])\n",
    "    \n",
    "    return simulated_data\n",
    "\n",
    "\n",
    "group_a_data = simulate_binomial_data(n_trials = GROUP_A_TRIALS, n_successes = GROUP_A_SUCCESSES)\n",
    "group_b_data = simulate_binomial_data(n_trials = GROUP_B_TRIALS, n_successes = GROUP_B_SUCCESSES)"
   ]
  },
  {
   "cell_type": "markdown",
   "id": "4eb098a0-3922-480e-8a61-60da01562794",
   "metadata": {},
   "source": [
    "Perform the bootstrap resampling: in each iteration we simulate sampling from each distribution (the same number as in the A/B test), calculate the success rate for each, and then calculate the improvement rate. We end up with an array of `n_boostraps` improvement rates."
   ]
  },
  {
   "cell_type": "code",
   "execution_count": 6,
   "id": "5fb0756b-331d-4793-afe3-32c0a705c2dd",
   "metadata": {
    "tags": []
   },
   "outputs": [],
   "source": [
    "n_bootstraps = 10000\n",
    "\n",
    "# simulate resamples from distribution\n",
    "group_a_resamples = np.random.choice(group_a_data, size=(GROUP_A_TRIALS, n_bootstraps), replace=True)\n",
    "group_a_bootstrap_success_rates = group_a_resamples.mean(axis=0)\n",
    "\n",
    "group_b_resamples = np.random.choice(group_b_data, size=(GROUP_B_TRIALS, n_bootstraps), replace=True)\n",
    "group_b_bootstrap_success_rates = group_b_resamples.mean(axis=0)\n",
    "\n",
    "# calculate change in success rate\n",
    "bootstrap_improvement_rates = group_b_bootstrap_success_rates / group_a_bootstrap_success_rates - 1"
   ]
  },
  {
   "cell_type": "markdown",
   "id": "beb712a8-a45e-4056-a563-9dd9db61e945",
   "metadata": {},
   "source": [
    "Generate a basic bootstrap confidence interval using the point estimate from the test (see https://en.wikipedia.org/wiki/Bootstrapping_(statistics)#Methods_for_bootstrap_confidence_intervals)."
   ]
  },
  {
   "cell_type": "code",
   "execution_count": 7,
   "id": "e063a722-7f2d-4af7-b4bc-a90828775ab0",
   "metadata": {
    "tags": []
   },
   "outputs": [],
   "source": [
    "def generate_basic_bootstrap_interval(bootstrap_values, point_estimate, confidence_level = CONFIDENCE_LEVEL):\n",
    "    percentiles = np.percentile(\n",
    "        bootstrap_values, [50 - confidence_level / 2, 50 + confidence_level / 2]\n",
    "    )\n",
    "    interval = 2 * point_estimate - percentiles\n",
    "\n",
    "    return np.sort(interval)"
   ]
  },
  {
   "cell_type": "code",
   "execution_count": 8,
   "id": "9eb7c1db-be7d-432a-b7c8-d26d5fef451f",
   "metadata": {
    "tags": []
   },
   "outputs": [
    {
     "data": {
      "image/png": "[encoded data removed]",
      "text/plain": [
       "<Figure size 700x800 with 2 Axes>"
      ]
     },
     "metadata": {},
     "output_type": "display_data"
    }
   ],
   "source": [
    "# figure\n",
    "f, axs = plt.subplots(\n",
    "    2, figsize=(7, 8), gridspec_kw={\"height_ratios\": [7, 1]}, sharex=True\n",
    ")\n",
    "\n",
    "# histogram of bootstrap values\n",
    "sns.histplot(data=bootstrap_improvement_rates, stat=\"probability\", ax=axs[0])\n",
    "\n",
    "# confidence interval around point estimate\n",
    "sns.pointplot(\n",
    "    x=bootstrap_improvement_rates,\n",
    "    errorbar=lambda x: generate_basic_bootstrap_interval(x, point_estimate=improvement_rate),\n",
    "    capsize=0.3,\n",
    "    ax=axs[1]\n",
    ");"
   ]
  },
  {
   "cell_type": "markdown",
   "id": "1016ed9c-3c7b-4935-8a64-d2f40bcd180b",
   "metadata": {},
   "source": [
    "Print outcome"
   ]
  },
  {
   "cell_type": "code",
   "execution_count": 9,
   "id": "74142655-a310-452b-ad5e-59df38144d58",
   "metadata": {
    "tags": []
   },
   "outputs": [
    {
     "name": "stdout",
     "output_type": "stream",
     "text": [
      "Point Estimate: 30.1%\n",
      "95% Confidence Interval: [-12.2%, 57.3%]\n"
     ]
    }
   ],
   "source": [
    "improvement_rate_confidence_interval = generate_basic_bootstrap_interval(bootstrap_values = bootstrap_improvement_rates, point_estimate = improvement_rate)\n",
    "\n",
    "print(\"Point Estimate: {:.1f}%\".format(100 * improvement_rate))\n",
    "print(\"{}% Confidence Interval: [{:.1f}%, {:.1f}%]\".format(CONFIDENCE_LEVEL, 100 * improvement_rate_confidence_interval[0], 100 * improvement_rate_confidence_interval[1]))"
   ]
  },
  {
   "cell_type": "code",
   "execution_count": null,
   "id": "8f099400-5e4a-4225-a14f-a8da7dd5bb0a",
   "metadata": {},
   "outputs": [],
   "source": []
  }
 ],
 "metadata": {
  "kernelspec": {
   "display_name": "Python 3 (ipykernel)",
   "language": "python",
   "name": "python3"
  },
  "language_info": {
   "codemirror_mode": {
    "name": "ipython",
    "version": 3
   },
   "file_extension": ".py",
   "mimetype": "text/x-python",
   "name": "python",
   "nbconvert_exporter": "python",
   "pygments_lexer": "ipython3",
   "version": "3.10.9"
  }
 },
 "nbformat": 4,
 "nbformat_minor": 5
}
