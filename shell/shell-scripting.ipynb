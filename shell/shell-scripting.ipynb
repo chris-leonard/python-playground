{
 "cells": [
  {
   "cell_type": "markdown",
   "id": "00dd7a4e-b68f-4106-aa23-0e2694af6047",
   "metadata": {},
   "source": [
    "# Shell Scripting Notes"
   ]
  },
  {
   "cell_type": "markdown",
   "id": "95f7eba1-efcf-410e-8a1f-72d5579d14e6",
   "metadata": {},
   "source": [
    "Following https://linuxconfig.org/bash-scripting-tutorial-for-beginners"
   ]
  },
  {
   "cell_type": "markdown",
   "id": "bb4b92f1-0522-44d6-8575-9573dd49879b",
   "metadata": {
    "tags": []
   },
   "source": [
    "- Zsh (or Z shell): a command language interpreter\n",
    "- Shell: a processor that allows interactive or non-interactive command execution\n",
    "- Scripting: automatic command execution"
   ]
  },
  {
   "cell_type": "markdown",
   "id": "e3fc9ba2-0cfe-4a4c-926a-919e9e75ae17",
   "metadata": {},
   "source": [
    "The shell interpreter is stored in the `SHELL` environment variable:"
   ]
  },
  {
   "cell_type": "code",
   "execution_count": 68,
   "id": "bc34ec42-ed17-4e8b-b492-b367e905f69a",
   "metadata": {
    "tags": []
   },
   "outputs": [
    {
     "name": "stdout",
     "output_type": "stream",
     "text": [
      "/bin/zsh\n"
     ]
    }
   ],
   "source": [
    "!echo $SHELL"
   ]
  },
  {
   "cell_type": "markdown",
   "id": "8f2e436f-0f3b-4987-9592-9ed743b88e2d",
   "metadata": {
    "tags": []
   },
   "source": [
    "## Task Shell Script\n",
    "\n",
    "We've created a basic shell script called `task.sh`."
   ]
  },
  {
   "cell_type": "code",
   "execution_count": 22,
   "id": "55400cd7-f2cc-46e3-8fe3-89d5d37acfae",
   "metadata": {
    "tags": []
   },
   "outputs": [
    {
     "name": "stdout",
     "output_type": "stream",
     "text": [
      "#!/bin/zsh\n",
      "\n",
      "date\n",
      "cal\n",
      "pwd\n",
      "ls\n"
     ]
    }
   ],
   "source": [
    "!cat ./task.sh"
   ]
  },
  {
   "cell_type": "markdown",
   "id": "fcbc23a3-7d28-4695-bfe6-d1a44dd6995e",
   "metadata": {},
   "source": [
    "Shell scripts should have the `.sh` file extension.\n",
    "\n",
    "To run shell scripts:\n",
    "- call the interpreter explicity: `zsh task.sh`\n",
    "- or pass the path to the terminal: `./task.sh`"
   ]
  },
  {
   "cell_type": "code",
   "execution_count": 25,
   "id": "26c06cd3-166f-41f9-a90f-4e7133667a04",
   "metadata": {
    "tags": []
   },
   "outputs": [
    {
     "name": "stdout",
     "output_type": "stream",
     "text": [
      "Fri 17 Mar 2023 15:21:52 GMT\n",
      "     March 2023       \n",
      "Su Mo Tu We Th Fr Sa  \n",
      "          1  2  3  4  \n",
      " 5  6  7  8  9 10 11  \n",
      "12 13 14 15 16 \u001b[7m17\u001b[m 18  \n",
      "19 20 21 22 23 24 25  \n",
      "26 27 28 29 30 31     \n",
      "                      \n",
      "/Users/c.leonard/P/python-playground/shell\n",
      "shell-scripting.ipynb \u001b[31mtask.sh\u001b[m\u001b[m\n"
     ]
    }
   ],
   "source": [
    "!zsh task.sh"
   ]
  },
  {
   "cell_type": "markdown",
   "id": "412c22a7-b3d6-40d7-95bf-c1be74560286",
   "metadata": {},
   "source": [
    "By default new files aren't executable, you need to add execute permissions to execute it directly:`chmod +x task.sh`."
   ]
  },
  {
   "cell_type": "code",
   "execution_count": 10,
   "id": "10cd9138-d810-4f06-9676-978c98f708ee",
   "metadata": {
    "tags": []
   },
   "outputs": [],
   "source": [
    "!chmod +x task.sh"
   ]
  },
  {
   "cell_type": "markdown",
   "id": "4fa7c2c4-cc23-4406-9592-30f8d17e6715",
   "metadata": {},
   "source": [
    "Now it has execute permissions:"
   ]
  },
  {
   "cell_type": "code",
   "execution_count": 11,
   "id": "bd957c9c-98ec-4916-9da5-283852837ff2",
   "metadata": {
    "tags": []
   },
   "outputs": [
    {
     "name": "stdout",
     "output_type": "stream",
     "text": [
      "total 16\n",
      "-rw-r--r--  1 c.leonard  staff  3408 17 Mar 15:11 shell-scripting.ipynb\n",
      "-rwxr-xr-x  1 c.leonard  staff    28 17 Mar 15:09 \u001b[31mtask.sh\u001b[m\u001b[m\n"
     ]
    }
   ],
   "source": [
    "!ls -l"
   ]
  },
  {
   "cell_type": "markdown",
   "id": "4be68729-d329-46e0-8531-d7b02590ecfd",
   "metadata": {},
   "source": [
    "...and we can execute it directly:"
   ]
  },
  {
   "cell_type": "code",
   "execution_count": 16,
   "id": "6ff5c8a6-fe9c-4eca-9b63-2b3a9d988d18",
   "metadata": {
    "tags": []
   },
   "outputs": [
    {
     "name": "stdout",
     "output_type": "stream",
     "text": [
      "Fri 17 Mar 2023 15:14:12 GMT\n",
      "     March 2023       \n",
      "Su Mo Tu We Th Fr Sa  \n",
      "          1  2  3  4  \n",
      " 5  6  7  8  9 10 11  \n",
      "12 13 14 15 16 \u001b[7m17\u001b[m 18  \n",
      "19 20 21 22 23 24 25  \n",
      "26 27 28 29 30 31     \n",
      "                      \n",
      "/Users/c.leonard/P/python-playground/shell\n",
      "shell-scripting.ipynb \u001b[31mtask.sh\u001b[m\u001b[m\n"
     ]
    }
   ],
   "source": [
    "!./task.sh"
   ]
  },
  {
   "cell_type": "markdown",
   "id": "43259499-abc5-4fe9-a957-55559f7ab804",
   "metadata": {},
   "source": [
    "Adding `!#/bin/zsh` to the top of the script to specifies the shell interpreter (otherwise the default shell interpreter is used):"
   ]
  },
  {
   "cell_type": "code",
   "execution_count": 12,
   "id": "fb462355-bbb3-4b5e-a694-d435faa2a8f8",
   "metadata": {
    "tags": []
   },
   "outputs": [
    {
     "name": "stdout",
     "output_type": "stream",
     "text": [
      "task.sh: Paul Falstad's zsh script text executable, ASCII text\n"
     ]
    }
   ],
   "source": [
    "!file task.sh"
   ]
  },
  {
   "cell_type": "markdown",
   "id": "a43e8631-a435-4314-8bbe-69749a653854",
   "metadata": {},
   "source": [
    "## Accessing Variables"
   ]
  },
  {
   "cell_type": "markdown",
   "id": "b6032255-1372-44a0-a294-4e6fb6faafec",
   "metadata": {},
   "source": [
    "`$` return the value of a variable, e.g. `echo $SHELL`"
   ]
  },
  {
   "cell_type": "code",
   "execution_count": 44,
   "id": "4c91bf33-cc14-4028-a1d3-a17bd949ff88",
   "metadata": {
    "tags": []
   },
   "outputs": [
    {
     "name": "stdout",
     "output_type": "stream",
     "text": [
      "SHELL\n"
     ]
    }
   ],
   "source": [
    "!echo SHELL"
   ]
  },
  {
   "cell_type": "code",
   "execution_count": 45,
   "id": "6a05f669-8ab9-4d66-8306-c6ea67417922",
   "metadata": {
    "tags": []
   },
   "outputs": [
    {
     "name": "stdout",
     "output_type": "stream",
     "text": [
      "/bin/zsh\n"
     ]
    }
   ],
   "source": [
    "!echo $SHELL"
   ]
  },
  {
   "cell_type": "markdown",
   "id": "2af0e425-9b47-4a7e-ba23-f145fab552d0",
   "metadata": {},
   "source": [
    "## Redirecting"
   ]
  },
  {
   "cell_type": "markdown",
   "id": "41777a64-a884-4e85-af9e-fdaed40248b8",
   "metadata": {},
   "source": [
    "### Redirecting Standard Output\n",
    "\n",
    "**stdout** (standard output): the normal output from a command or script. By default this is sent to your shell screen.\n",
    "\n",
    "`>` or `1>`: redirects standard output to the *start* of a file, overwriting whatever's in the file. It will create the file if none exists"
   ]
  },
  {
   "cell_type": "code",
   "execution_count": 61,
   "id": "fa038141-413a-440f-b1b8-217c5b4e41aa",
   "metadata": {
    "tags": []
   },
   "outputs": [
    {
     "name": "stdout",
     "output_type": "stream",
     "text": [
      "hello-world.sh\n",
      "shell-scripting.ipynb\n",
      "stderr.txt\n",
      "stdout.txt\n",
      "\u001b[31mtask.sh\u001b[m\u001b[m\n"
     ]
    }
   ],
   "source": [
    "!ls > stdout.txt; cat stdout.txt"
   ]
  },
  {
   "cell_type": "markdown",
   "id": "f80dbbc1-19a2-42c9-9ca4-1d5677bad71f",
   "metadata": {},
   "source": [
    "`>>` or `1>>`: redirects standard output to the *end* of a file without overwriting. It will create the file if none exists "
   ]
  },
  {
   "cell_type": "code",
   "execution_count": 62,
   "id": "03e8124c-593e-4523-ab88-ef0a6c0711dc",
   "metadata": {
    "tags": []
   },
   "outputs": [
    {
     "name": "stdout",
     "output_type": "stream",
     "text": [
      "hello-world.sh\n",
      "shell-scripting.ipynb\n",
      "stderr.txt\n",
      "stdout.txt\n",
      "\u001b[31mtask.sh\u001b[m\u001b[m\n",
      "hello\n"
     ]
    }
   ],
   "source": [
    "!echo \"hello\" >> stdout.txt; cat stdout.txt"
   ]
  },
  {
   "cell_type": "markdown",
   "id": "cc86306e-e46c-4a87-99d0-93adaf260ed9",
   "metadata": {},
   "source": [
    "`cat > file.txt` allows you to enter text to send to `file.txt` until you exit with ctrl + D (it doesn't work in Jupyter)"
   ]
  },
  {
   "cell_type": "markdown",
   "id": "fdc71fa0-c6c9-437c-9b9b-34fbb48d081b",
   "metadata": {
    "tags": []
   },
   "source": [
    "### Redirecting Standard Error\n",
    "\n",
    "**stderr** (standard error): the error output from a command or script. By default this is sent to shell screen.\n",
    "\n",
    "`2>`: redirects standard *error* to the *start* of a file, overwriting whatever's in the file. It will create the file if none exists\n",
    "\n",
    "`2>>`: works analogously"
   ]
  },
  {
   "cell_type": "code",
   "execution_count": 67,
   "id": "1cc2c43b-f2ea-4b54-839e-a48be39e3dc9",
   "metadata": {
    "tags": []
   },
   "outputs": [
    {
     "name": "stdout",
     "output_type": "stream",
     "text": [
      "     1\tzsh:cd:1: no such file or directory: fake_dir\n"
     ]
    }
   ],
   "source": [
    "!cd fake_dir 2> stderr.txt; cat stderr.txt"
   ]
  },
  {
   "cell_type": "markdown",
   "id": "3cd45c65-f6e2-4b5f-87d2-ff1239ea78fd",
   "metadata": {},
   "source": [
    "`&>`: redirect both stdout and stderr."
   ]
  },
  {
   "cell_type": "code",
   "execution_count": 114,
   "id": "191fdb20-dcb8-4677-929a-a75650bfe1e7",
   "metadata": {
    "tags": []
   },
   "outputs": [
    {
     "name": "stdout",
     "output_type": "stream",
     "text": [
      "ls: foobar: No such file or directory\n",
      "-rw-r--r--  1 c.leonard  staff  16643 17 Mar 17:05 shell-scripting.ipynb\n"
     ]
    }
   ],
   "source": [
    "!ls -l shell-scripting.ipynb foobar &> stdoutandstderr.txt; cat stdoutandstderr.txt"
   ]
  },
  {
   "cell_type": "markdown",
   "id": "b3dc74e7-f026-4bd8-892d-1af442ce6985",
   "metadata": {},
   "source": [
    "**/dev/null:** any data written to `/dev/null` disappears. This is useful for getting rid of stderr/stdout "
   ]
  },
  {
   "cell_type": "code",
   "execution_count": 117,
   "id": "cc4a1095-d1b0-465d-bccc-c0ceb235996c",
   "metadata": {
    "tags": []
   },
   "outputs": [],
   "source": [
    "!ls foobar 2> /dev/null"
   ]
  },
  {
   "cell_type": "markdown",
   "id": "ffc22be8-b43b-422c-8075-6255ca1de60f",
   "metadata": {},
   "source": [
    "### Redirecting Standard Input\n",
    "\n",
    "**stdin** (standard input): this is generally keyboard input\n",
    "\n",
    "`<`: redirect as standard input on the left"
   ]
  },
  {
   "cell_type": "code",
   "execution_count": 121,
   "id": "09698030-14ff-4d4b-9864-707a6848e8d7",
   "metadata": {
    "tags": []
   },
   "outputs": [
    {
     "name": "stdout",
     "output_type": "stream",
     "text": [
      "#!/bin/zsh\n",
      "\n",
      "date\n",
      "cal\n",
      "pwd\n",
      "ls\n"
     ]
    }
   ],
   "source": [
    "!cat < task.sh"
   ]
  },
  {
   "cell_type": "markdown",
   "id": "9a9b4012-a2fd-4054-8da0-1f1261e451bc",
   "metadata": {},
   "source": [
    "### Piping\n",
    "\n",
    "`|` (pipe): redirect standard output to the input of another command"
   ]
  },
  {
   "cell_type": "code",
   "execution_count": 66,
   "id": "89cb6ab6-cb96-4dad-853b-4e39e1497426",
   "metadata": {
    "tags": []
   },
   "outputs": [
    {
     "name": "stdout",
     "output_type": "stream",
     "text": [
      "hello-world.sh\n"
     ]
    }
   ],
   "source": [
    "!ls | head -n 1"
   ]
  },
  {
   "cell_type": "markdown",
   "id": "88c01fdc-2e1b-434f-a8fb-3a008f524f5b",
   "metadata": {},
   "source": [
    "## Hello World Script\n",
    "\n",
    "Let's create a basic script"
   ]
  },
  {
   "cell_type": "code",
   "execution_count": 80,
   "id": "f5c49216-a149-48f1-894b-105e94d5eeb7",
   "metadata": {
    "tags": []
   },
   "outputs": [
    {
     "name": "stdout",
     "output_type": "stream",
     "text": [
      "Hello World\n"
     ]
    }
   ],
   "source": [
    "# create script with desired text\n",
    "!echo \"#!\"$SHELL > hello-world.sh\n",
    "!echo >> hello-world.sh\n",
    "!echo \"echo \\\"Hello World\\\"\" >> hello-world.sh\n",
    "\n",
    "# give execute permissions\n",
    "!chmod +x hello-world.sh\n",
    "\n",
    "# execute\n",
    "!./hello-world.sh"
   ]
  },
  {
   "cell_type": "markdown",
   "id": "2388714c-54a8-4483-b775-8b12cfe7a134",
   "metadata": {},
   "source": [
    "## Variables\n",
    "\n",
    "Declare variables using `=`. Use `$` to access the value of a variable:"
   ]
  },
  {
   "cell_type": "code",
   "execution_count": 95,
   "id": "d8d91eaa-1f9f-46e8-924d-e0c95d253194",
   "metadata": {
    "tags": []
   },
   "outputs": [
    {
     "name": "stdout",
     "output_type": "stream",
     "text": [
      "hello world\n"
     ]
    }
   ],
   "source": [
    "!greeting=hello; echo $greeting"
   ]
  },
  {
   "cell_type": "markdown",
   "id": "bc928561-fa5d-4225-9d98-bc347910d70c",
   "metadata": {},
   "source": [
    "You can insert variables into strings:"
   ]
  },
  {
   "cell_type": "code",
   "execution_count": 97,
   "id": "28cfd1f9-aab5-4a37-810d-46875f69e450",
   "metadata": {
    "tags": []
   },
   "outputs": [
    {
     "name": "stdout",
     "output_type": "stream",
     "text": [
      "hello world\n"
     ]
    }
   ],
   "source": [
    "!greeting=hello; echo \"$greeting world\""
   ]
  },
  {
   "cell_type": "markdown",
   "id": "f3cb18b7-0b0c-4b0c-b086-e9b52df21f57",
   "metadata": {},
   "source": [
    "Use parameter expansion `${variable}` to show where the variable ends:"
   ]
  },
  {
   "cell_type": "code",
   "execution_count": 111,
   "id": "e47e17c3-02a1-4b73-9852-e319a7fb8353",
   "metadata": {
    "tags": []
   },
   "outputs": [
    {
     "name": "stdout",
     "output_type": "stream",
     "text": [
      "hellooooooo\n"
     ]
    }
   ],
   "source": [
    "!greeting=hello; echo \"${greeting}oooooo\""
   ]
  },
  {
   "cell_type": "markdown",
   "id": "cb07463d-ae36-4890-992c-d5cd60eb100f",
   "metadata": {},
   "source": [
    "Command substitution: `$(<command>)`\n",
    "- The output of a command replaces the command itself"
   ]
  },
  {
   "cell_type": "code",
   "execution_count": 99,
   "id": "70a30b1c-9551-444f-92ca-da5b0612b938",
   "metadata": {
    "tags": []
   },
   "outputs": [
    {
     "name": "stdout",
     "output_type": "stream",
     "text": [
      "c.leonard\n"
     ]
    }
   ],
   "source": [
    "!whoami"
   ]
  },
  {
   "cell_type": "code",
   "execution_count": 101,
   "id": "386d3362-9922-4497-a15b-2b25244210ee",
   "metadata": {
    "tags": []
   },
   "outputs": [
    {
     "name": "stdout",
     "output_type": "stream",
     "text": [
      "c.leonard\n"
     ]
    }
   ],
   "source": [
    "!me=$(whoami); echo $me"
   ]
  },
  {
   "cell_type": "markdown",
   "id": "0ff26d1e-a5ec-4387-bd7b-a0c893ad767a",
   "metadata": {},
   "source": [
    "The following script uses variables and command substitutions:"
   ]
  },
  {
   "cell_type": "code",
   "execution_count": 110,
   "id": "def8ea9e-2660-4453-b47f-bf91f2cdbc2b",
   "metadata": {
    "tags": []
   },
   "outputs": [
    {
     "name": "stdout",
     "output_type": "stream",
     "text": [
      "Welcome back c.leonard! Today is 03/17/23.\n"
     ]
    }
   ],
   "source": [
    "!zsh welcome.sh"
   ]
  },
  {
   "cell_type": "code",
   "execution_count": 116,
   "id": "d80a7a7b-4d13-416b-a38d-ed5e84c23dec",
   "metadata": {
    "tags": []
   },
   "outputs": [],
   "source": [
    "!ls foobar 2> /dev/null"
   ]
  },
  {
   "cell_type": "markdown",
   "id": "73bb5f98-cc49-4a8d-9da0-32813c99c46f",
   "metadata": {
    "jp-MarkdownHeadingCollapsed": true,
    "tags": []
   },
   "source": [
    "## Questions\n",
    "\n",
    "- Standard input?\n",
    "- `grep`?"
   ]
  },
  {
   "cell_type": "markdown",
   "id": "5075df66-9035-4d26-94e3-84953c7a44be",
   "metadata": {
    "tags": []
   },
   "source": [
    "## Glossary\n",
    "\n",
    "- `crontab`: scheduler to run programs automatically on a regular basis\n",
    "- `vi`: a text editor\n",
    "\n",
    "### Environment Variables\n",
    "\n",
    "- `SHELL`: path to shell interpreter\n",
    "\n",
    "### Commands\n",
    "- `cal`: print a calendar\n",
    "- `cat <file(s)>` (con**cat**enate): display the contents of the files\n",
    "    - `-n`: number the lines of the files\n",
    "- `cd <path>` (**c**hange **d**irectory): navigate the file system\n",
    "    - Path can be absolute: `cd /Users/c.leonard/P/python-playground`\n",
    "    - or relative: `cd shell`\n",
    "    - `cd` or `cd ~`: navigate to home directory\n",
    "    - `cd ..`: move up one directory\n",
    "    - `cd .`: stay in the same directory\n",
    "    - `cd -`: toggle between last 2 visited locations\n",
    "- `date`: print the current date and time\n",
    "    - `+[options]`: changes format, e.g. `+%D` gives date in mm/dd/yy format\n",
    "- `echo <string>` send the input string to standard output\n",
    "- `file <file_name>`: show type of file\n",
    "- `head <file>`: print the first 10 lines of the file\n",
    "    - `-n <num>`: print `num` lines\n",
    "- `ls` (**l**i**s**t): list the files in the current directory\n",
    "- `man <command>` (**man**ual): show manual page for the command\n",
    "    - Use `q` to quit the manual\n",
    "- `pwd` (**p**rint **w**orking **d**irectory): print the current directory\n",
    "- `rm <file>` (**r**e**m**ove): delete file\n",
    "    - `-r` (recursive): delete a repository and all its contents\n",
    "- `tail <file>`: print the last 10 lines of the file\n",
    "    - `-n num`: print `num` lines\n",
    "- `touch <file>`: create empty file"
   ]
  }
 ],
 "metadata": {
  "kernelspec": {
   "display_name": "Python 3 (ipykernel)",
   "language": "python",
   "name": "python3"
  },
  "language_info": {
   "codemirror_mode": {
    "name": "ipython",
    "version": 3
   },
   "file_extension": ".py",
   "mimetype": "text/x-python",
   "name": "python",
   "nbconvert_exporter": "python",
   "pygments_lexer": "ipython3",
   "version": "3.10.9"
  }
 },
 "nbformat": 4,
 "nbformat_minor": 5
}
